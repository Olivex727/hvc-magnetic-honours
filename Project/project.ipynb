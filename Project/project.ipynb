{
 "cells": [
  {
   "cell_type": "code",
   "execution_count": 1,
   "metadata": {},
   "outputs": [
    {
     "name": "stdout",
     "output_type": "stream",
     "text": [
      "=== WHOLE-SKY DATA COLLATION ===\n",
      "Gathering data ...\n",
      "Getting H-alpha emission\n",
      "Extracting RMs\n",
      "Getting HVC location data\n",
      "Getting HI emission\n",
      "Interpolating\n",
      "Collation complete\n"
     ]
    }
   ],
   "source": [
    "import sys\n",
    "sys.path.append('C://Users/olive/OneDrive - Australian National University/Honours-Olivia/Programs/honours/standard_modules')\n",
    "sys.path.append('C://Users/olive/OneDrive - Australian National University/Honours-Olivia/Programs/honours/project')\n",
    "\n",
    "from collation import collator, hvc_snapshot as snap\n",
    "from synthesis import hvc_looper as hvcl, magnetic_field_derivation as mfd\n",
    "\n",
    "collated_data = collator.data_whole_sky(False, load_data=[\"../data_processed/proc_rms\",\"../data_processed/proc_hvcs\"], h1_img=\"../data_catalog/hi4pi-hvc-nhi-car.fits\", override_RMs=True)"
   ]
  },
  {
   "cell_type": "code",
   "execution_count": 2,
   "metadata": {},
   "outputs": [
    {
     "name": "stdout",
     "output_type": "stream",
     "text": [
      "=== HVC RM LOADER ===\n",
      "Taking HVC snapshots\n",
      "Process complete\n"
     ]
    },
    {
     "data": {
      "text/plain": [
       "13"
      ]
     },
     "execution_count": 2,
     "metadata": {},
     "output_type": "execute_result"
    }
   ],
   "source": [
    "master_hvcs = hvcl.load_HVCs(collated_data, hvc_indicies=[0, 1, 2, 3, 4, 5, 6, 7, 9, 10, 12, 13, 24])\n",
    "len(master_hvcs)"
   ]
  },
  {
   "cell_type": "code",
   "execution_count": 5,
   "metadata": {},
   "outputs": [],
   "source": [
    "from astropy.table import vstack\n",
    "\n",
    "hvcs = []\n",
    "\n",
    "for i in range(len(master_hvcs)):\n",
    "    hvcs.append(master_hvcs[i][\"HVC\"])\n",
    "\n",
    "hvc_tab = vstack(hvcs)\n"
   ]
  },
  {
   "cell_type": "code",
   "execution_count": 8,
   "metadata": {},
   "outputs": [
    {
     "data": {
      "text/html": [
       "<div><i>Table length=13</i>\n",
       "<table id=\"table1463370064144\" class=\"table-striped table-bordered table-condensed\">\n",
       "<thead><tr><th>Name</th><th>SkyCoord</th><th>RAJ2000</th><th>DEJ2000</th><th>VLSR</th><th>e_VLSR</th><th>VGSR</th><th>Vdev</th><th>FWHM</th><th>TbFit</th><th>NH</th><th>e_NH</th><th>Area</th><th>dx</th><th>dy</th><th>Flag</th><th>HI</th><th>WW91</th><th>Simbad</th><th>recno</th><th>Cat</th></tr></thead>\n",
       "<thead><tr><th></th><th>deg,deg</th><th></th><th></th><th>km / s</th><th>km / s</th><th>km / s</th><th>km / s</th><th>km / s</th><th>K</th><th>1 / cm2</th><th>1 / cm2</th><th>deg2</th><th>deg</th><th>deg</th><th></th><th></th><th></th><th></th><th></th><th></th></tr></thead>\n",
       "<thead><tr><th>str15</th><th>SkyCoord</th><th>str11</th><th>str9</th><th>float32</th><th>float32</th><th>float32</th><th>float32</th><th>float32</th><th>float32</th><th>float32</th><th>float32</th><th>float32</th><th>float32</th><th>float32</th><th>str4</th><th>str19</th><th>str18</th><th>str6</th><th>int32</th><th>str4</th></tr></thead>\n",
       "<tr><td>G038.7-37.3-241</td><td>318.95132749810114,-11.83861664753068</td><td>21 15 48.32</td><td>-11 50 19</td><td>-241.4</td><td>1.0</td><td>-131.9</td><td>-203.9</td><td>12.2</td><td>0.87</td><td>3e+19</td><td>1e+18</td><td>1.5</td><td>4.2</td><td>3.0</td><td>T,H6</td><td>HVC 038.9-37.1-230</td><td>GCN_GCN,EN,MS_MS</td><td>Simbad</td><td>329</td><td>GHVC</td></tr>\n",
       "<tr><td>G038.8-33.2-261</td><td>315.26399401780566,-10.006394575192065</td><td>21 01 03.36</td><td>-10 00 23</td><td>-261.0</td><td>1.0</td><td>-145.6</td><td>-223.5</td><td>20.7</td><td>0.94</td><td>4e+19</td><td>2e+18</td><td>2.2</td><td>4.9</td><td>3.9</td><td>T,H8</td><td>HVC 039.0-33.4-256</td><td>GCN_GCN,EN,MS_MS</td><td>Simbad</td><td>330</td><td>GHVC</td></tr>\n",
       "<tr><td>G043.4-30.4-230</td><td>314.53824383026614,-5.268616824159749</td><td>20 58 09.18</td><td>-05 16 07</td><td>-230.7</td><td>1.0</td><td>-100.4</td><td>-193.2</td><td>22.9</td><td>0.64</td><td>3e+19</td><td>2e+18</td><td>1.6</td><td>3.4</td><td>3.0</td><td>H1</td><td>HVC 043.1-30.0-218</td><td>GCN_GCN,EN,N,MS_MS</td><td>Simbad</td><td>354</td><td>GHVC</td></tr>\n",
       "<tr><td>G089.0-64.7-311</td><td>359.0471191770445,-5.603613730466462</td><td>23 56 11.31</td><td>-05 36 13</td><td>-311.7</td><td>1.0</td><td>-217.9</td><td>-274.2</td><td>18.9</td><td>0.50</td><td>2e+19</td><td>2e+18</td><td>1.4</td><td>3.4</td><td>3.1</td><td>H3</td><td>HVC 089.4-64.7-314</td><td>EN,MS_MS</td><td>Simbad</td><td>408</td><td>GHVC</td></tr>\n",
       "<tr><td>G133.5-75.6-294</td><td>15.548161692114391,-13.005834286896315</td><td>01 02 11.56</td><td>-13 00 21</td><td>-294.1</td><td>1.8</td><td>-254.6</td><td>-261.6</td><td>26.8</td><td>0.42</td><td>2e+19</td><td>3e+18</td><td>1.3</td><td>4.2</td><td>1.4</td><td>H2</td><td>HVC 131.9-75.8-302</td><td>EN,MS_MS</td><td>Simbad</td><td>427</td><td>GHVC</td></tr>\n",
       "<tr><td>G248.9+36.8+181</td><td>152.03907642863186,-8.363884064380029</td><td>10 08 09.38</td><td>-08 21 50</td><td>181.6</td><td>4.6</td><td>17.3</td><td>139.1</td><td>22.4</td><td>0.13</td><td>1e+19</td><td>2e+18</td><td>1.1</td><td>2.1</td><td>1.6</td><td>--</td><td>--</td><td>WA,P,EP</td><td>Simbad</td><td>588</td><td>GHVC</td></tr>\n",
       "<tr><td>G261.5-34.5+237</td><td>80.51641498466985,-53.96443940870481</td><td>05 22 03.94</td><td>-53 57 52</td><td>237.0</td><td>2.7</td><td>57.8</td><td>194.5</td><td>26.6</td><td>0.28</td><td>6e+18</td><td>3e+18</td><td>1.5</td><td>2.6</td><td>2.0</td><td>H1</td><td>HVC 261.5-34.6+237</td><td>P,MS_MS,EP</td><td>Simbad</td><td>722</td><td>GHVC</td></tr>\n",
       "<tr><td>G262.4-26.2+143</td><td>94.79587147051343,-54.00693872468238</td><td>06 19 11.01</td><td>-54 00 25</td><td>143.6</td><td>1.9</td><td>-52.0</td><td>101.1</td><td>19.5</td><td>0.28</td><td>1e+19</td><td>2e+18</td><td>1.6</td><td>3.1</td><td>2.6</td><td>H1</td><td>HVC 261.8-26.0+148</td><td>P,MS_MS</td><td>Simbad</td><td>729</td><td>GHVC</td></tr>\n",
       "<tr><td>G264.6-53.3+224</td><td>49.38550058849787,-51.554164115992066</td><td>03 17 32.52</td><td>-51 33 15</td><td>224.2</td><td>2.2</td><td>93.3</td><td>186.7</td><td>22.6</td><td>0.28</td><td>1e+19</td><td>2e+18</td><td>1.7</td><td>2.6</td><td>2.7</td><td>H4</td><td>CHVC 264.8-53.3+222</td><td>P,MS_MS</td><td>Simbad</td><td>749</td><td>GHVC</td></tr>\n",
       "<tr><td>G267.1-38.4+263</td><td>72.85441680691092,-58.11082879640701</td><td>04 51 25.06</td><td>-58 06 39</td><td>263.9</td><td>11.5</td><td>91.9</td><td>226.4</td><td>30.0</td><td>0.07</td><td>9e+18</td><td>3e+18</td><td>1.9</td><td>3.0</td><td>3.0</td><td>H1</td><td>--</td><td>MS_MS,EP</td><td>Simbad</td><td>780</td><td>GHVC</td></tr>\n",
       "<tr><td>G271.6-48.4+297</td><td>53.07246043911347,-57.751941544261314</td><td>03 32 17.39</td><td>-57 45 07</td><td>297.0</td><td>1.1</td><td>151.1</td><td>259.5</td><td>21.5</td><td>0.53</td><td>2e+19</td><td>2e+18</td><td>1.8</td><td>2.1</td><td>4.6</td><td>H4</td><td>HVC 271.2-48.6+299</td><td>MS_MS</td><td>Simbad</td><td>827</td><td>GHVC</td></tr>\n",
       "<tr><td>G271.7-53.1+254</td><td>45.85225180091096,-55.24166446085612</td><td>03 03 24.54</td><td>-55 14 30</td><td>254.3</td><td>2.6</td><td>122.4</td><td>216.8</td><td>26.4</td><td>0.28</td><td>1e+19</td><td>3e+18</td><td>1.2</td><td>2.2</td><td>1.8</td><td>--</td><td>--</td><td>MS_MS</td><td>Simbad</td><td>831</td><td>GHVC</td></tr>\n",
       "<tr><td>G323.0+25.6+122</td><td>214.74878131129492,-33.72833440708152</td><td>14 18 59.71</td><td>-33 43 42</td><td>122.2</td><td>1.3</td><td>3.1</td><td>84.7</td><td>20.8</td><td>0.43</td><td>2e+19</td><td>2e+18</td><td>1.4</td><td>2.1</td><td>2.4</td><td>H1</td><td>HVC 323.1+25.6+121</td><td>P</td><td>Simbad</td><td>1402</td><td>GHVC</td></tr>\n",
       "</table></div>"
      ],
      "text/plain": [
       "<Table length=13>\n",
       "      Name                     SkyCoord                ... recno Cat \n",
       "                               deg,deg                 ...           \n",
       "     str15                     SkyCoord                ... int32 str4\n",
       "--------------- -------------------------------------- ... ----- ----\n",
       "G038.7-37.3-241  318.95132749810114,-11.83861664753068 ...   329 GHVC\n",
       "G038.8-33.2-261 315.26399401780566,-10.006394575192065 ...   330 GHVC\n",
       "G043.4-30.4-230  314.53824383026614,-5.268616824159749 ...   354 GHVC\n",
       "G089.0-64.7-311   359.0471191770445,-5.603613730466462 ...   408 GHVC\n",
       "G133.5-75.6-294 15.548161692114391,-13.005834286896315 ...   427 GHVC\n",
       "G248.9+36.8+181  152.03907642863186,-8.363884064380029 ...   588 GHVC\n",
       "G261.5-34.5+237   80.51641498466985,-53.96443940870481 ...   722 GHVC\n",
       "G262.4-26.2+143   94.79587147051343,-54.00693872468238 ...   729 GHVC\n",
       "G264.6-53.3+224  49.38550058849787,-51.554164115992066 ...   749 GHVC\n",
       "G267.1-38.4+263   72.85441680691092,-58.11082879640701 ...   780 GHVC\n",
       "G271.6-48.4+297  53.07246043911347,-57.751941544261314 ...   827 GHVC\n",
       "G271.7-53.1+254   45.85225180091096,-55.24166446085612 ...   831 GHVC\n",
       "G323.0+25.6+122  214.74878131129492,-33.72833440708152 ...  1402 GHVC"
      ]
     },
     "execution_count": 8,
     "metadata": {},
     "output_type": "execute_result"
    }
   ],
   "source": [
    "hvc_tab.remove_column(\"Nearest RM\")\n",
    "hvc_tab"
   ]
  },
  {
   "cell_type": "code",
   "execution_count": 10,
   "metadata": {},
   "outputs": [],
   "source": [
    "from astropy.io import ascii\n",
    "\n",
    "ascii.write(hvc_tab, \"../data_processed/moss_filtered.csv\", format='csv', overwrite=True)"
   ]
  },
  {
   "cell_type": "code",
   "execution_count": null,
   "metadata": {},
   "outputs": [],
   "source": []
  }
 ],
 "metadata": {
  "kernelspec": {
   "display_name": "base",
   "language": "python",
   "name": "python3"
  },
  "language_info": {
   "codemirror_mode": {
    "name": "ipython",
    "version": 3
   },
   "file_extension": ".py",
   "mimetype": "text/x-python",
   "name": "python",
   "nbconvert_exporter": "python",
   "pygments_lexer": "ipython3",
   "version": "3.11.3"
  }
 },
 "nbformat": 4,
 "nbformat_minor": 2
}
