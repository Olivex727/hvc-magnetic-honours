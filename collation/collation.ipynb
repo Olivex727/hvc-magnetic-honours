{
 "cells": [
  {
   "cell_type": "markdown",
   "metadata": {},
   "source": [
    "# Data Collation Preperation Stage\n",
    "\n",
    "## 1 - CASDA RM Catalog\n",
    "\n",
    "From astropy table - Gaensler et. al. 2010."
   ]
  },
  {
   "cell_type": "code",
   "execution_count": 4,
   "metadata": {},
   "outputs": [
    {
     "data": {
      "text/plain": [
       "<SkyCoord (ICRS): (ra, dec) in deg\n",
       "    (202.81578063, -16.12678334)>"
      ]
     },
     "execution_count": 4,
     "metadata": {},
     "output_type": "execute_result"
    }
   ],
   "source": [
    "import numpy as np\n",
    "from astropy.io import ascii\n",
    "\n",
    "rm_data = ascii.read(\"../data_catalog/CASDA_RMs.ecsv\")\n",
    "\n",
    "rm_data[0][0]"
   ]
  },
  {
   "cell_type": "markdown",
   "metadata": {},
   "source": [
    "Our data is already in the desired format.\n",
    "\n",
    "## 2 - GASS HI Emissions\n",
    "\n",
    "From Westmeier et. al. 2018 - in the form of a fits file."
   ]
  },
  {
   "cell_type": "code",
   "execution_count": 40,
   "metadata": {},
   "outputs": [
    {
     "name": "stdout",
     "output_type": "stream",
     "text": [
      "(array(819.05876512), array(1593.25931717))\n",
      "nan\n"
     ]
    },
    {
     "name": "stderr",
     "output_type": "stream",
     "text": [
      "WARNING: VerifyWarning: Invalid 'BLANK' keyword in header.  The 'BLANK' keyword is only applicable to integer data, and will be ignored in this HDU. [astropy.io.fits.hdu.image]\n",
      "WARNING: FITSFixedWarning: 'datfix' made the change 'Set MJD-OBS to 51544.500000 from DATE-OBS'. [astropy.wcs.wcs]\n"
     ]
    }
   ],
   "source": [
    "from astropy.wcs import WCS\n",
    "from astropy.io import fits\n",
    "import matplotlib.pyplot as plt\n",
    "\n",
    "hdu = fits.open(\"../data_catalog/hi4pi-hvc-nhi-ait.fits\")\n",
    "header = hdu[0].header\n",
    "image = hdu[0].data\n",
    "\n",
    "wcs = WCS(header)\n",
    "\n",
    "#for i in range(im_shape[0]):\n",
    "#    for j in range(im_shape[1]):\n",
    "#        h1 = image[i][j]\n",
    "#        coord = wcs.pixel_to_world(i, j).icrs\n",
    "#       im_list.append([h1, coord])\n",
    "\n",
    "coord = wcs.world_to_pixel(rm_data[0][0])\n",
    "print(coord)\n",
    "print(image[coord[0].astype(int)][coord[1].astype(int)])"
   ]
  },
  {
   "cell_type": "markdown",
   "metadata": {},
   "source": [
    "## 3 - GASS HVC locations\n",
    "\n",
    "From Moss et. al. 2013 - in the form of a VOTable"
   ]
  },
  {
   "cell_type": "code",
   "execution_count": 44,
   "metadata": {},
   "outputs": [
    {
     "data": {
      "text/plain": [
       "<Table length=1693>\n",
       "  name    dtype    unit   format                                    description                                       class    \n",
       "-------- ------- ------- ------- --------------------------------------------------------------------------------- ------------\n",
       "    Name   str15                                                                  HVC/AVC name GLLL.l+BB.b+VVV (1) MaskedColumn\n",
       "SkyCoord  object deg,deg                                                                                               SkyCoord\n",
       " RAJ2000   str11                                                              Peak Hour of Right Ascension (J2000) MaskedColumn\n",
       " DEJ2000    str9                                                                Peak Degree of Declination (J2000) MaskedColumn\n",
       "    VLSR float32  km / s {:6.1f}                                        [-483/481] Local Standard of Rest velocity MaskedColumn\n",
       "  e_VLSR float32  km / s {:4.1f}                                                    [1/14] Uncertainty in VLSR (2) MaskedColumn\n",
       "    VGSR float32  km / s {:6.1f}                                 [-686/467] Galactic Standard of Rest velocity (3) MaskedColumn\n",
       "    Vdev float32  km / s {:6.1f}                                                 [-445/443] Deviation velocity (4) MaskedColumn\n",
       "    FWHM float32  km / s {:4.1f}                                  [2.8/58.3] Fitted Full-Width at Half-Maximum (5) MaskedColumn\n",
       "   TbFit float32       K {:6.2f}                                 [0.06/120] Fitted peak brightness temperature (6) MaskedColumn\n",
       "      NH float32 1 / cm2 {:8.1g}                                     [1.3e+18/1.1e+22] Peak H I column density (7) MaskedColumn\n",
       "    e_NH float32 1 / cm2 {:8.1g}                                                                 Uncertainty in NH MaskedColumn\n",
       "    Area float32    deg2 {:6.1f}                                                        [0.1/2253] Source area (8) MaskedColumn\n",
       "      dx float32     deg {:5.1f}                           [0.1/140] Maximum source x-extent above 2{sigma}_0_ (9) MaskedColumn\n",
       "      dy float32     deg {:4.1f}                          [0.1/73.1] Maximum source y-extent above 2{sigma}_0_ (9) MaskedColumn\n",
       "    Flag    str8                                                               [T,H0-9,CA,N -] Source flag(s) (10) MaskedColumn\n",
       "      HI   str26                                                                    HIPASS catalog identifier (11) MaskedColumn\n",
       "    WW91   str22                                          Wakker & van Woerden 1991A&A...250..509W identifier (12) MaskedColumn\n",
       "  Simbad    str6                                                                    Simbad column added by the CDS MaskedColumn\n",
       "   recno   int32                 Record number assigned by the VizieR team. Should Not be used for identification. MaskedColumn\n",
       "     Cat    str4                                                        [GHAVC] Catalog name, \"GHVC\" or \"GAVC\" (1) MaskedColumn"
      ]
     },
     "execution_count": 44,
     "metadata": {},
     "output_type": "execute_result"
    }
   ],
   "source": [
    "\"\"\"\n",
    "Quick-and-dirty HVC\n",
    "\"\"\"\n",
    "from astropy.coordinates import SkyCoord\n",
    "from astropy.coordinates import ICRS\n",
    "from astropy.table import Table\n",
    "import astropy.units as u\n",
    "from astropy.io.votable import parse_single_table\n",
    "import subprocess\n",
    "import matplotlib.pyplot as plt\n",
    "import numpy as np\n",
    "\n",
    "\"\"\"\n",
    "This script simply consists of steps to cobbled together. It is not to just be run start to finish\n",
    "\"\"\"\n",
    "\n",
    "\"\"\"\n",
    "Filter Moss+2013 table to objects of a certain area\n",
    "\"\"\"\n",
    "\n",
    "def format_sexagesimal(coord):\n",
    "    ra, dec = coord.split()[:3], coord.split()[3:]\n",
    "    ra_formatted = ':'.join(ra)\n",
    "    dec_formatted = f\"{dec[0]}:{dec[1]}:{dec[2]}\"\n",
    "    return f\"{ra_formatted} {dec_formatted}\"\n",
    "\n",
    "# Read the VOTable file\n",
    "table = parse_single_table('../data_catalog/vizier_Moss2013_HVCs.vot').to_table()\n",
    "\n",
    "#table\n",
    "\n",
    "# Mask to decent sized area\n",
    "#mask = (table['Area']>1) & (table['Area']<np.pi)\n",
    "\n",
    "#table_big_HVCs = table[mask]\n",
    "\n",
    "#table_big_HVCs\n",
    "\n",
    "# Assuming the coordinates are in columns 'ra' and 'dec', adjust as needed\n",
    "ra_dec = [f\"{row['RAJ2000']} {row['DEJ2000']}\" for row in table]#table_big_HVCs]\n",
    "ra_dec = [format_sexagesimal(f\"{row['RAJ2000']} {row['DEJ2000']}\") for row in table]#table_big_HVCs]\n",
    "\n",
    "ra_dec = SkyCoord(ra_dec,frame='fk5',unit=('hour','deg')).icrs\n",
    "\n",
    "# Data is now in desired structure\n",
    "table.add_column(ra_dec, index=1, name=\"SkyCoord\")\n",
    "\n",
    "table.info\n",
    "\n",
    "#print(ICRS(ra=table[\"RAJ2000\"][0], dec=table[\"DECJ2000\"][0]))"
   ]
  },
  {
   "cell_type": "markdown",
   "metadata": {},
   "source": [
    "## 4 - H-alpha measurements\n",
    "\n",
    "Finkbeiner et. al. 2003\n",
    "\n",
    "In the form of a Healpy array"
   ]
  },
  {
   "cell_type": "code",
   "execution_count": null,
   "metadata": {},
   "outputs": [],
   "source": []
  },
  {
   "cell_type": "markdown",
   "metadata": {},
   "source": [
    "## 5 - Interpolated full collated data conversion\n",
    "\n",
    "Hutschenreuter et. al. 2022;  Van Eck et. al. (in prep.)\n",
    "\n",
    "Healpy is not supported on windows!"
   ]
  },
  {
   "cell_type": "code",
   "execution_count": 3,
   "metadata": {},
   "outputs": [
    {
     "ename": "ModuleNotFoundError",
     "evalue": "No module named 'healpy'",
     "output_type": "error",
     "traceback": [
      "\u001b[1;31m---------------------------------------------------------------------------\u001b[0m",
      "\u001b[1;31mModuleNotFoundError\u001b[0m                       Traceback (most recent call last)",
      "Cell \u001b[1;32mIn[3], line 1\u001b[0m\n\u001b[1;32m----> 1\u001b[0m \u001b[38;5;28;01mimport\u001b[39;00m \u001b[38;5;21;01mhealpy\u001b[39;00m \u001b[38;5;28;01mas\u001b[39;00m \u001b[38;5;21;01mhp\u001b[39;00m\n\u001b[0;32m      2\u001b[0m \u001b[38;5;28;01mimport\u001b[39;00m \u001b[38;5;21;01mh5py\u001b[39;00m\n\u001b[0;32m      4\u001b[0m f \u001b[38;5;241m=\u001b[39m h5py\u001b[38;5;241m.\u001b[39mFile(\u001b[38;5;124m'\u001b[39m\u001b[38;5;124m../data_catalog/faraday_sky_wo_ff_Hutschenreuter_2020.hdf5\u001b[39m\u001b[38;5;124m'\u001b[39m, \u001b[38;5;124m'\u001b[39m\u001b[38;5;124mr\u001b[39m\u001b[38;5;124m'\u001b[39m)\n",
      "\u001b[1;31mModuleNotFoundError\u001b[0m: No module named 'healpy'"
     ]
    }
   ],
   "source": [
    "#import healpy as hp\n",
    "import h5py\n",
    "\n",
    "f = h5py.File('../data_catalog/faraday_sky_wo_ff_Hutschenreuter_2020.hdf5', 'r')\n",
    "\n",
    "#imshow values, plot specific locations of interest. \n",
    "healpix_ringorder_N128 = f['faraday sky']['mean']\n",
    "#healpix_ringorder_N128 = f['faraday sky']['std']\n",
    "#hp.mollview(np.array(healpix_ringorder_N128), title=\"Mollview image\",max=100,min=-100,rot=(-123,-56,0),cmap='seismic')\n",
    "#hp.mollview(np.array(healpix_ringorder_N128), title=\"Mollview image\",max=50,min=0,rot=(-123,-56,0),cmap='seismic')\n",
    "#hp.graticule()\n",
    "\n",
    "#cpos_src_obj_heal = SkyCoord('16h14m00.0s', '-60d35m00.0s', unit=(units.deg, units.deg), frame='icrs') \n",
    "#l = cpos_src_obj_heal.galactic.l.value-360\n",
    "#b = cpos_src_obj_heal.galactic.b.value \n",
    "\n",
    "#hp.projscatter(l,b,lonlat=True,color='m')"
   ]
  },
  {
   "cell_type": "code",
   "execution_count": null,
   "metadata": {},
   "outputs": [],
   "source": []
  },
  {
   "cell_type": "markdown",
   "metadata": {},
   "source": [
    "## 2 - CASDA RM Data"
   ]
  }
 ],
 "metadata": {
  "kernelspec": {
   "display_name": "base",
   "language": "python",
   "name": "python3"
  },
  "language_info": {
   "codemirror_mode": {
    "name": "ipython",
    "version": 3
   },
   "file_extension": ".py",
   "mimetype": "text/x-python",
   "name": "python",
   "nbconvert_exporter": "python",
   "pygments_lexer": "ipython3",
   "version": "3.11.3"
  }
 },
 "nbformat": 4,
 "nbformat_minor": 2
}
