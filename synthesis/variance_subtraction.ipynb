{
 "cells": [
  {
   "cell_type": "markdown",
   "metadata": {},
   "source": [
    "# Testing out the variance subtraction method"
   ]
  },
  {
   "cell_type": "code",
   "execution_count": 1,
   "metadata": {},
   "outputs": [
    {
     "name": "stdout",
     "output_type": "stream",
     "text": [
      "=== WHOLE-SKY DATA COLLATION ===\n",
      "Gathering data ...\n",
      "Getting H-alpha emission\n",
      "Extracting RMs\n",
      "Getting HVC location data\n",
      "Getting HI emission\n",
      "Interpolating\n",
      "Collation complete\n",
      "=== HVC RM LOADER ===\n",
      "Taking HVC snapshots\n",
      "Process complete\n"
     ]
    }
   ],
   "source": [
    "import sys\n",
    "sys.path.append('C://Users/olive/OneDrive - Australian National University/Honours-Olivia/Programs/honours/standard_modules')\n",
    "sys.path.append('C://Users/olive/OneDrive - Australian National University/Honours-Olivia/Programs/honours/project')\n",
    "\n",
    "from collation import collator, hvc_snapshot as snap, collation_tools as ct\n",
    "from synthesis import hvc_looper as hvcl, magnetic_field_derivation as mfd, KStest\n",
    "from astropy.table import vstack\n",
    "\n",
    "collated_data = collator.data_whole_sky(False, load_data=[\"../data_processed/proc_rms\",\"../data_processed/proc_hvcs\"], h1_img=\"../data_catalog/hi4pi-hvc-nhi-car.fits\", override_RMs=True)\n",
    "\n",
    "master_hvcs = hvcl.load_HVCs(collated_data, hvc_indicies=[0, 1, 2, 3, 4, 5, 6, 7, 9, 10, 12, 13, 16, 22, 24])"
   ]
  },
  {
   "cell_type": "code",
   "execution_count": 2,
   "metadata": {},
   "outputs": [],
   "source": [
    "def get_stacked_sets(snapshots):\n",
    "    inners = []\n",
    "    outers = []\n",
    "    for hvc_snap in snapshots:\n",
    "        inner_rms, outer_rms = KStest.split_RMs(hvc_snap[\"RMs\"],hvc_snap[\"HVC\"][\"SkyCoord\"], KStest.morph_ring(hvc_snap))\n",
    "        inners.append(inner_rms)\n",
    "        outers.append(outer_rms)\n",
    "\n",
    "    master_rm_inner = vstack(inners)\n",
    "    master_rm_outer = vstack(outers)\n",
    "\n",
    "    return master_rm_inner, master_rm_outer, inners, outers\n",
    "\n",
    "master_rm_inner, master_rm_outer, inners, outers = get_stacked_sets(master_hvcs)"
   ]
  },
  {
   "cell_type": "code",
   "execution_count": 3,
   "metadata": {},
   "outputs": [
    {
     "data": {
      "text/plain": [
       "[]"
      ]
     },
     "execution_count": 3,
     "metadata": {},
     "output_type": "execute_result"
    },
    {
     "data": {
      "image/png": "[encoded data removed]",
      "text/plain": [
       "<Figure size 600x100 with 1 Axes>"
      ]
     },
     "metadata": {},
     "output_type": "display_data"
    },
    {
     "data": {
      "image/png": "[encoded data removed]",
      "text/plain": [
       "<Figure size 600x250 with 2 Axes>"
      ]
     },
     "metadata": {},
     "output_type": "display_data"
    }
   ],
   "source": [
    "import numpy as np\n",
    "import matplotlib.pyplot as plt\n",
    "\n",
    "def uncertainty_boxplot(master_rm, single=False, limit=20):\n",
    "    rms = master_rm[\"B_virtual_unc [int]\"].data * 1e6\n",
    "    B_unc = rms[rms < 20]\n",
    "    B_true_unc = np.std(master_rm[\"B_virtual [int]\"].data * 1e6)\n",
    "\n",
    "    if single:\n",
    "        plt.figure(figsize=(6,1))\n",
    "        plt.boxplot(B_unc, vert=False, showmeans=True, widths=0.6, sym=\"x\")\n",
    "        plt.axvline(B_true_unc, c='r', linestyle='--')\n",
    "        plt.yticks([])\n",
    "        plt.xlabel(r\"Magnetic Field Uncertainties [$\\mu G$]\")\n",
    "    else:\n",
    "        plt.boxplot(B_unc, vert=False, showmeans=True, widths=0.6, sym=\"x\")\n",
    "        plt.axvline(B_true_unc, c='r', linestyle='--')\n",
    "        plt.yticks([])\n",
    "\n",
    "def uncertainty_boxplots(master_rm_inner, master_rm_outer):\n",
    "    fig = plt.figure(figsize=(6,2.5))\n",
    "    \n",
    "    fig.supxlabel(r\"Magnetic Field Uncertainties [$\\mu G$]\")\n",
    "\n",
    "    plt.tight_layout()\n",
    "\n",
    "    plt.subplot(2, 1, 1)\n",
    "    uncertainty_boxplot(master_rm_inner)\n",
    "    plt.subplot(2, 1, 2)\n",
    "    uncertainty_boxplot(master_rm_outer)\n",
    "    plt.subplots_adjust(hspace=0.5, bottom=0.2)\n",
    "\n",
    "uncertainty_boxplot(master_rm_inner, True)\n",
    "plt.plot()\n",
    "uncertainty_boxplots(master_rm_inner, master_rm_outer)\n",
    "plt.plot()"
   ]
  },
  {
   "cell_type": "code",
   "execution_count": 4,
   "metadata": {},
   "outputs": [
    {
     "name": "stderr",
     "output_type": "stream",
     "text": [
      "C:\\Users\\olive\\AppData\\Local\\Temp\\ipykernel_16016\\1208703601.py:13: RuntimeWarning: invalid value encountered in sqrt\n",
      "  uncert.append({\"Sigma [meas]\":meas, \"Sigma [obsv]\":obsv, \"Sigma [true]\": np.sqrt(obsv**2 - meas**2)})\n"
     ]
    },
    {
     "data": {
      "text/html": [
       "<div><i>Table length=15</i>\n",
       "<table id=\"table2109122456336\" class=\"table-striped table-bordered table-condensed\">\n",
       "<thead><tr><th>Sigma [meas]</th><th>Sigma [obsv]</th><th>Sigma [true]</th><th>Sigma [diff]</th><th>FWHM</th></tr></thead>\n",
       "<thead><tr><th>float64</th><th>float64</th><th>float64</th><th>float64</th><th>float64</th></tr></thead>\n",
       "<tr><td>1.5490103064419392</td><td>3.259633374868092</td><td>2.8680615072014404</td><td>-1.2004037875138898</td><td>-2.82673490096878</td></tr>\n",
       "<tr><td>1.0172162310775188</td><td>2.2736826533710723</td><td>2.033446322742001</td><td>-0.3820916381721009</td><td>-0.8997570486063758</td></tr>\n",
       "<tr><td>1.3692498776485982</td><td>3.4139391636197307</td><td>3.1273207998949974</td><td>-0.3219533860094135</td><td>-0.7581422869405536</td></tr>\n",
       "<tr><td>1.7766805216998156</td><td>6.285240753776755</td><td>6.028901861595415</td><td>4.354124583319416</td><td>10.253179847362592</td></tr>\n",
       "<tr><td>1.390653120203451</td><td>0.6443423969361269</td><td>nan</td><td>nan</td><td>nan</td></tr>\n",
       "<tr><td>2.5577313774843344</td><td>3.3456971641453612</td><td>2.1567799412092095</td><td>-0.4370240961740395</td><td>-1.0291131018321615</td></tr>\n",
       "<tr><td>8.363070544185819</td><td>12.507923833010205</td><td>9.300925205879048</td><td>5.8850039182248</td><td>13.858125191721438</td></tr>\n",
       "<tr><td>5.0791565705667105</td><td>9.744382180123484</td><td>8.315957708164293</td><td>-11.277167064796421</td><td>-26.555699055345446</td></tr>\n",
       "<tr><td>3.023390368905306</td><td>4.983729795251348</td><td>3.9619027435421326</td><td>0.16014564072012671</td><td>0.377114164892079</td></tr>\n",
       "<tr><td>6.459354538810761</td><td>13.975229335809928</td><td>12.392892072895142</td><td>3.764226145036</td><td>8.86407518036035</td></tr>\n",
       "<tr><td>1.656313599761247</td><td>3.0167700520864895</td><td>2.5214136523807156</td><td>0.14031802939919347</td><td>0.33042370830846285</td></tr>\n",
       "<tr><td>3.238101358605643</td><td>6.206104031068475</td><td>5.294376907232867</td><td>-0.6047436349837891</td><td>-1.4240624337647063</td></tr>\n",
       "<tr><td>4.440559986447358</td><td>6.711461315863094</td><td>5.032408966001214</td><td>-1.9662738656700256</td><td>-4.630221112900268</td></tr>\n",
       "<tr><td>0.6334116228188119</td><td>0.6119163229594444</td><td>nan</td><td>nan</td><td>nan</td></tr>\n",
       "<tr><td>2.404035520546133</td><td>3.682242046820639</td><td>2.789179038234429</td><td>-0.5391757592999458</td><td>-1.2696618857942945</td></tr>\n",
       "</table></div>"
      ],
      "text/plain": [
       "<Table length=15>\n",
       "   Sigma [meas]       Sigma [obsv]    ...         FWHM       \n",
       "     float64            float64       ...       float64      \n",
       "------------------ ------------------ ... -------------------\n",
       "1.5490103064419392  3.259633374868092 ...   -2.82673490096878\n",
       "1.0172162310775188 2.2736826533710723 ... -0.8997570486063758\n",
       "1.3692498776485982 3.4139391636197307 ... -0.7581422869405536\n",
       "1.7766805216998156  6.285240753776755 ...  10.253179847362592\n",
       " 1.390653120203451 0.6443423969361269 ...                 nan\n",
       "2.5577313774843344 3.3456971641453612 ... -1.0291131018321615\n",
       " 8.363070544185819 12.507923833010205 ...  13.858125191721438\n",
       "5.0791565705667105  9.744382180123484 ... -26.555699055345446\n",
       " 3.023390368905306  4.983729795251348 ...   0.377114164892079\n",
       " 6.459354538810761 13.975229335809928 ...    8.86407518036035\n",
       " 1.656313599761247 3.0167700520864895 ... 0.33042370830846285\n",
       " 3.238101358605643  6.206104031068475 ... -1.4240624337647063\n",
       " 4.440559986447358  6.711461315863094 ...  -4.630221112900268\n",
       "0.6334116228188119 0.6119163229594444 ...                 nan\n",
       " 2.404035520546133  3.682242046820639 ... -1.2696618857942945"
      ]
     },
     "execution_count": 4,
     "metadata": {},
     "output_type": "execute_result"
    }
   ],
   "source": [
    "from astropy.table import Table, hstack, Column\n",
    "import copy\n",
    "\n",
    "def uncertainty_table(table_list):\n",
    "    uncert = []\n",
    "    for rms in table_list:\n",
    "        m_list = rms[\"B_virtual_unc [int]\"].data * 1e6\n",
    "        o_list = rms[\"B_virtual [int]\"].data * 1e6\n",
    "\n",
    "        meas = np.mean(m_list)\n",
    "        obsv = np.std(o_list)\n",
    "\n",
    "        uncert.append({\"Sigma [meas]\":meas, \"Sigma [obsv]\":obsv, \"Sigma [true]\": np.sqrt(obsv**2 - meas**2)})\n",
    "\n",
    "    uncert_table = Table(uncert)\n",
    "\n",
    "    return uncert_table\n",
    "\n",
    "def uncertainty_subtract(inners, outers):\n",
    "    inner_sigma = uncertainty_table(inners)\n",
    "    outer_sigma = uncertainty_table(outers)\n",
    "\n",
    "    sub = inner_sigma[\"Sigma [true]\"]-outer_sigma[\"Sigma [true]\"]\n",
    "    fwhm = 2 * np.sqrt(2 * np.log(2)) * np.array(sub)\n",
    "\n",
    "    fwhm_table = copy.deepcopy(inner_sigma)\n",
    "\n",
    "    fwhm_table.add_column(sub, name=\"Sigma [diff]\")\n",
    "    fwhm_table.add_column(fwhm, name=\"FWHM\")\n",
    "\n",
    "    return fwhm_table, inner_sigma, outer_sigma\n",
    "\n",
    "fwhm_table, inner_sigma, outer_sigma = uncertainty_subtract(inners, outers)\n",
    "\n",
    "fwhm_table"
   ]
  },
  {
   "cell_type": "code",
   "execution_count": 14,
   "metadata": {},
   "outputs": [],
   "source": [
    "def uncertainty_readwrite(uncert_table, filter_significant=False, load_file=\"../data_processed/hvc_KS_tests/hvc_KS_average\", save_file=\"../data_processed/results_pre\"):\n",
    "    ks = ct.read_processed(load_file)\n",
    "    hks = hstack([ks, uncert_table])\n",
    "\n",
    "    if filter_significant:\n",
    "        hks = hks[hks[\"Significant\"]]\n",
    "        hks = hks[~np.isnan(hks[\"Sigma [diff]\"])]\n",
    "\n",
    "    ct.write_processed(hks, save_file)\n",
    "\n",
    "    return hks\n",
    "\n",
    "results = uncertainty_readwrite(fwhm_table)\n",
    "results_filtered = uncertainty_readwrite(fwhm_table, save_file=\"../data_processed/results_filtered\", filter_significant=True)"
   ]
  },
  {
   "cell_type": "code",
   "execution_count": 15,
   "metadata": {},
   "outputs": [
    {
     "data": {
      "text/html": [
       "<div><i>Table length=10</i>\n",
       "<table id=\"table2109141380560\" class=\"table-striped table-bordered table-condensed\">\n",
       "<thead><tr><th>Name</th><th>Statistic</th><th>p_value</th><th>Statistic_x</th><th>Statistic_sgn</th><th>Statistic_diff</th><th>Significant</th><th>Sigma [meas]</th><th>Sigma [obsv]</th><th>Sigma [true]</th><th>Sigma [diff]</th><th>FWHM</th></tr></thead>\n",
       "<thead><tr><th>str15</th><th>float64</th><th>float64</th><th>float64</th><th>int32</th><th>float64</th><th>bool</th><th>float64</th><th>float64</th><th>float64</th><th>float64</th><th>float64</th></tr></thead>\n",
       "<tr><td>G038.7-37.3-241</td><td>0.2074738871132492</td><td>3.5194997048780594e-09</td><td>-3.515687526708854</td><td>-1</td><td>2.5503785393572116</td><td>True</td><td>1.5490103064419392</td><td>3.259633374868092</td><td>2.8680615072014404</td><td>-1.2004037875138898</td><td>-2.82673490096878</td></tr>\n",
       "<tr><td>G038.8-33.2-261</td><td>0.31066825775656326</td><td>1.3943532792837091e-08</td><td>-0.6963302660734451</td><td>-1</td><td>1.245611675868496</td><td>True</td><td>1.0172162310775188</td><td>2.2736826533710723</td><td>2.033446322742001</td><td>-0.3820916381721009</td><td>-0.8997570486063758</td></tr>\n",
       "<tr><td>G043.4-30.4-230</td><td>0.24109469074986317</td><td>3.606854288675973e-11</td><td>-1.2589038059025925</td><td>-1</td><td>2.2846397376409495</td><td>True</td><td>1.3692498776485982</td><td>3.4139391636197307</td><td>3.1273207998949974</td><td>-0.3219533860094135</td><td>-0.7581422869405536</td></tr>\n",
       "<tr><td>G261.5-34.5+237</td><td>0.2889454915944982</td><td>5.960798790546759e-08</td><td>-5.487954609053061</td><td>-1</td><td>7.064597943499491</td><td>True</td><td>8.363070544185819</td><td>12.507923833010205</td><td>9.300925205879048</td><td>5.8850039182248</td><td>13.858125191721438</td></tr>\n",
       "<tr><td>G262.4-26.2+143</td><td>0.21329644533869885</td><td>1.2224926075128765e-06</td><td>2.0255699650566523</td><td>-1</td><td>5.008552948039634</td><td>True</td><td>5.0791565705667105</td><td>9.744382180123484</td><td>8.315957708164293</td><td>-11.277167064796421</td><td>-26.555699055345446</td></tr>\n",
       "<tr><td>G264.6-53.3+224</td><td>0.3195887445887446</td><td>4.0730287570954555e-05</td><td>0.9062634882158793</td><td>1</td><td>-2.1167595348071426</td><td>True</td><td>3.023390368905306</td><td>4.983729795251348</td><td>3.9619027435421326</td><td>0.16014564072012671</td><td>0.377114164892079</td></tr>\n",
       "<tr><td>G267.1-38.4+263</td><td>0.3428488020518381</td><td>2.318648482161409e-11</td><td>12.715164074377505</td><td>-1</td><td>9.411860771074203</td><td>True</td><td>6.459354538810761</td><td>13.975229335809928</td><td>12.392892072895142</td><td>3.764226145036</td><td>8.86407518036035</td></tr>\n",
       "<tr><td>G271.6-48.4+297</td><td>0.12493061782161308</td><td>5.0905622111774864e-05</td><td>0.6348560731135152</td><td>-1</td><td>0.5747960130534552</td><td>True</td><td>1.656313599761247</td><td>3.0167700520864895</td><td>2.5214136523807156</td><td>0.14031802939919347</td><td>0.33042370830846285</td></tr>\n",
       "<tr><td>G271.7-53.1+254</td><td>0.22697520500279825</td><td>0.0003403465863955054</td><td>0.11625707523884121</td><td>1</td><td>-2.3862454272636606</td><td>True</td><td>3.238101358605643</td><td>6.206104031068475</td><td>5.294376907232867</td><td>-0.6047436349837891</td><td>-1.4240624337647063</td></tr>\n",
       "<tr><td>G282.3-38.3+117</td><td>0.277823006349348</td><td>8.58037227199818e-27</td><td>-1.2426193078764725</td><td>1</td><td>-3.4648415300986937</td><td>True</td><td>4.440559986447358</td><td>6.711461315863094</td><td>5.032408966001214</td><td>-1.9662738656700256</td><td>-4.630221112900268</td></tr>\n",
       "</table></div>"
      ],
      "text/plain": [
       "<Table length=10>\n",
       "      Name           Statistic      ...     Sigma [diff]            FWHM       \n",
       "     str15            float64       ...       float64             float64      \n",
       "--------------- ------------------- ... ------------------- -------------------\n",
       "G038.7-37.3-241  0.2074738871132492 ... -1.2004037875138898   -2.82673490096878\n",
       "G038.8-33.2-261 0.31066825775656326 ... -0.3820916381721009 -0.8997570486063758\n",
       "G043.4-30.4-230 0.24109469074986317 ... -0.3219533860094135 -0.7581422869405536\n",
       "G261.5-34.5+237  0.2889454915944982 ...     5.8850039182248  13.858125191721438\n",
       "G262.4-26.2+143 0.21329644533869885 ... -11.277167064796421 -26.555699055345446\n",
       "G264.6-53.3+224  0.3195887445887446 ... 0.16014564072012671   0.377114164892079\n",
       "G267.1-38.4+263  0.3428488020518381 ...      3.764226145036    8.86407518036035\n",
       "G271.6-48.4+297 0.12493061782161308 ... 0.14031802939919347 0.33042370830846285\n",
       "G271.7-53.1+254 0.22697520500279825 ... -0.6047436349837891 -1.4240624337647063\n",
       "G282.3-38.3+117   0.277823006349348 ... -1.9662738656700256  -4.630221112900268"
      ]
     },
     "execution_count": 15,
     "metadata": {},
     "output_type": "execute_result"
    }
   ],
   "source": [
    "results_filtered"
   ]
  },
  {
   "cell_type": "code",
   "execution_count": 16,
   "metadata": {},
   "outputs": [
    {
     "data": {
      "text/html": [
       "<div><i>Table length=15</i>\n",
       "<table id=\"table2109120876688\" class=\"table-striped table-bordered table-condensed\">\n",
       "<thead><tr><th>Name</th><th>Statistic</th><th>p_value</th><th>Statistic_x</th><th>Statistic_sgn</th><th>Statistic_diff</th><th>Significant</th><th>Sigma [meas]</th><th>Sigma [obsv]</th><th>Sigma [true]</th><th>Sigma [diff]</th><th>FWHM</th></tr></thead>\n",
       "<thead><tr><th>str15</th><th>float64</th><th>float64</th><th>float64</th><th>int32</th><th>float64</th><th>bool</th><th>float64</th><th>float64</th><th>float64</th><th>float64</th><th>float64</th></tr></thead>\n",
       "<tr><td>G038.7-37.3-241</td><td>0.2074738871132492</td><td>3.5194997048780594e-09</td><td>-3.515687526708854</td><td>-1</td><td>2.5503785393572116</td><td>True</td><td>1.5490103064419392</td><td>3.259633374868092</td><td>2.8680615072014404</td><td>-1.2004037875138898</td><td>-2.82673490096878</td></tr>\n",
       "<tr><td>G038.8-33.2-261</td><td>0.31066825775656326</td><td>1.3943532792837091e-08</td><td>-0.6963302660734451</td><td>-1</td><td>1.245611675868496</td><td>True</td><td>1.0172162310775188</td><td>2.2736826533710723</td><td>2.033446322742001</td><td>-0.3820916381721009</td><td>-0.8997570486063758</td></tr>\n",
       "<tr><td>G043.4-30.4-230</td><td>0.24109469074986317</td><td>3.606854288675973e-11</td><td>-1.2589038059025925</td><td>-1</td><td>2.2846397376409495</td><td>True</td><td>1.3692498776485982</td><td>3.4139391636197307</td><td>3.1273207998949974</td><td>-0.3219533860094135</td><td>-0.7581422869405536</td></tr>\n",
       "<tr><td>G089.0-64.7-311</td><td>0.3738140417457306</td><td>0.015075834341180974</td><td>-3.5031459148744912</td><td>1</td><td>-2.4420848538134305</td><td>False</td><td>1.7766805216998156</td><td>6.285240753776755</td><td>6.028901861595415</td><td>4.354124583319416</td><td>10.253179847362592</td></tr>\n",
       "<tr><td>G133.5-75.6-294</td><td>0.46130268199233715</td><td>4.570648166268751e-08</td><td>-1.0081759072724916</td><td>-1</td><td>1.7746068755102902</td><td>True</td><td>1.390653120203451</td><td>0.6443423969361269</td><td>nan</td><td>nan</td><td>nan</td></tr>\n",
       "<tr><td>G248.9+36.8+181</td><td>0.08070447918650822</td><td>0.452664079053446</td><td>-2.5040967925547646</td><td>-1</td><td>0.5189262304682574</td><td>False</td><td>2.5577313774843344</td><td>3.3456971641453612</td><td>2.1567799412092095</td><td>-0.4370240961740395</td><td>-1.0291131018321615</td></tr>\n",
       "<tr><td>G261.5-34.5+237</td><td>0.2889454915944982</td><td>5.960798790546759e-08</td><td>-5.487954609053061</td><td>-1</td><td>7.064597943499491</td><td>True</td><td>8.363070544185819</td><td>12.507923833010205</td><td>9.300925205879048</td><td>5.8850039182248</td><td>13.858125191721438</td></tr>\n",
       "<tr><td>G262.4-26.2+143</td><td>0.21329644533869885</td><td>1.2224926075128765e-06</td><td>2.0255699650566523</td><td>-1</td><td>5.008552948039634</td><td>True</td><td>5.0791565705667105</td><td>9.744382180123484</td><td>8.315957708164293</td><td>-11.277167064796421</td><td>-26.555699055345446</td></tr>\n",
       "<tr><td>G264.6-53.3+224</td><td>0.3195887445887446</td><td>4.0730287570954555e-05</td><td>0.9062634882158793</td><td>1</td><td>-2.1167595348071426</td><td>True</td><td>3.023390368905306</td><td>4.983729795251348</td><td>3.9619027435421326</td><td>0.16014564072012671</td><td>0.377114164892079</td></tr>\n",
       "<tr><td>G267.1-38.4+263</td><td>0.3428488020518381</td><td>2.318648482161409e-11</td><td>12.715164074377505</td><td>-1</td><td>9.411860771074203</td><td>True</td><td>6.459354538810761</td><td>13.975229335809928</td><td>12.392892072895142</td><td>3.764226145036</td><td>8.86407518036035</td></tr>\n",
       "<tr><td>G271.6-48.4+297</td><td>0.12493061782161308</td><td>5.0905622111774864e-05</td><td>0.6348560731135152</td><td>-1</td><td>0.5747960130534552</td><td>True</td><td>1.656313599761247</td><td>3.0167700520864895</td><td>2.5214136523807156</td><td>0.14031802939919347</td><td>0.33042370830846285</td></tr>\n",
       "<tr><td>G271.7-53.1+254</td><td>0.22697520500279825</td><td>0.0003403465863955054</td><td>0.11625707523884121</td><td>1</td><td>-2.3862454272636606</td><td>True</td><td>3.238101358605643</td><td>6.206104031068475</td><td>5.294376907232867</td><td>-0.6047436349837891</td><td>-1.4240624337647063</td></tr>\n",
       "<tr><td>G282.3-38.3+117</td><td>0.277823006349348</td><td>8.58037227199818e-27</td><td>-1.2426193078764725</td><td>1</td><td>-3.4648415300986937</td><td>True</td><td>4.440559986447358</td><td>6.711461315863094</td><td>5.032408966001214</td><td>-1.9662738656700256</td><td>-4.630221112900268</td></tr>\n",
       "<tr><td>G298.0-81.7+127</td><td>0.3912087912087912</td><td>0.3650943759236951</td><td>-0.32122628572356143</td><td>-1</td><td>0.6197146552173791</td><td>False</td><td>0.6334116228188119</td><td>0.6119163229594444</td><td>nan</td><td>nan</td><td>nan</td></tr>\n",
       "<tr><td>G323.0+25.6+122</td><td>0.09850367024280068</td><td>0.015086808841105354</td><td>1.963713871853483</td><td>-1</td><td>0.8225727307123423</td><td>False</td><td>2.404035520546133</td><td>3.682242046820639</td><td>2.789179038234429</td><td>-0.5391757592999458</td><td>-1.2696618857942945</td></tr>\n",
       "</table></div>"
      ],
      "text/plain": [
       "<Table length=15>\n",
       "      Name           Statistic      ...     Sigma [diff]            FWHM       \n",
       "     str15            float64       ...       float64             float64      \n",
       "--------------- ------------------- ... ------------------- -------------------\n",
       "G038.7-37.3-241  0.2074738871132492 ... -1.2004037875138898   -2.82673490096878\n",
       "G038.8-33.2-261 0.31066825775656326 ... -0.3820916381721009 -0.8997570486063758\n",
       "G043.4-30.4-230 0.24109469074986317 ... -0.3219533860094135 -0.7581422869405536\n",
       "G089.0-64.7-311  0.3738140417457306 ...   4.354124583319416  10.253179847362592\n",
       "G133.5-75.6-294 0.46130268199233715 ...                 nan                 nan\n",
       "G248.9+36.8+181 0.08070447918650822 ... -0.4370240961740395 -1.0291131018321615\n",
       "G261.5-34.5+237  0.2889454915944982 ...     5.8850039182248  13.858125191721438\n",
       "G262.4-26.2+143 0.21329644533869885 ... -11.277167064796421 -26.555699055345446\n",
       "G264.6-53.3+224  0.3195887445887446 ... 0.16014564072012671   0.377114164892079\n",
       "G267.1-38.4+263  0.3428488020518381 ...      3.764226145036    8.86407518036035\n",
       "G271.6-48.4+297 0.12493061782161308 ... 0.14031802939919347 0.33042370830846285\n",
       "G271.7-53.1+254 0.22697520500279825 ... -0.6047436349837891 -1.4240624337647063\n",
       "G282.3-38.3+117   0.277823006349348 ... -1.9662738656700256  -4.630221112900268\n",
       "G298.0-81.7+127  0.3912087912087912 ...                 nan                 nan\n",
       "G323.0+25.6+122 0.09850367024280068 ... -0.5391757592999458 -1.2696618857942945"
      ]
     },
     "execution_count": 16,
     "metadata": {},
     "output_type": "execute_result"
    }
   ],
   "source": [
    "results"
   ]
  },
  {
   "cell_type": "markdown",
   "metadata": {},
   "source": [
    "# Putting it all together"
   ]
  },
  {
   "cell_type": "code",
   "execution_count": 2,
   "metadata": {},
   "outputs": [
    {
     "name": "stdout",
     "output_type": "stream",
     "text": [
      "=== WHOLE-SKY DATA COLLATION ===\n",
      "Gathering data ...\n",
      "Getting H-alpha emission\n",
      "Extracting RMs\n",
      "Getting HVC location data\n",
      "Getting HI emission\n",
      "Interpolating\n",
      "Collation complete\n",
      "=== HVC RM LOADER ===\n",
      "Taking HVC snapshots\n",
      "Process complete\n"
     ]
    },
    {
     "name": "stderr",
     "output_type": "stream",
     "text": [
      "C:\\/Users/olive/OneDrive - Australian National University/Honours-Olivia/Programs/honours/project\\synthesis.py:360: RuntimeWarning: invalid value encountered in sqrt\n",
      "  uncert.append({\"Sigma [meas]\":meas, \"Sigma [obsv]\":obsv, \"Sigma [true]\": np.sqrt(obsv**2 - meas**2)})\n"
     ]
    },
    {
     "data": {
      "text/html": [
       "<div><i>Table length=10</i>\n",
       "<table id=\"table2704441578064\" class=\"table-striped table-bordered table-condensed\">\n",
       "<thead><tr><th>Name</th><th>Statistic</th><th>p_value</th><th>Statistic_x</th><th>Statistic_sgn</th><th>Statistic_diff</th><th>Significant</th><th>Sigma [meas]</th><th>Sigma [obsv]</th><th>Sigma [true]</th><th>Sigma [diff]</th><th>FWHM</th></tr></thead>\n",
       "<thead><tr><th>str15</th><th>float64</th><th>float64</th><th>float64</th><th>int32</th><th>float64</th><th>bool</th><th>float64</th><th>float64</th><th>float64</th><th>float64</th><th>float64</th></tr></thead>\n",
       "<tr><td>G038.7-37.3-241</td><td>0.2074738871132492</td><td>3.5194997048780594e-09</td><td>-3.515687526708854</td><td>-1</td><td>2.5503785393572116</td><td>True</td><td>1.5490103064419392</td><td>3.259633374868092</td><td>2.8680615072014404</td><td>-1.2004037875138898</td><td>-2.82673490096878</td></tr>\n",
       "<tr><td>G038.8-33.2-261</td><td>0.31066825775656326</td><td>1.3943532792837091e-08</td><td>-0.6963302660734451</td><td>-1</td><td>1.245611675868496</td><td>True</td><td>1.0172162310775188</td><td>2.2736826533710723</td><td>2.033446322742001</td><td>-0.3820916381721009</td><td>-0.8997570486063758</td></tr>\n",
       "<tr><td>G043.4-30.4-230</td><td>0.24109469074986317</td><td>3.606854288675973e-11</td><td>-1.2589038059025925</td><td>-1</td><td>2.2846397376409495</td><td>True</td><td>1.3692498776485982</td><td>3.4139391636197307</td><td>3.1273207998949974</td><td>-0.3219533860094135</td><td>-0.7581422869405536</td></tr>\n",
       "<tr><td>G261.5-34.5+237</td><td>0.2889454915944982</td><td>5.960798790546759e-08</td><td>-5.487954609053061</td><td>-1</td><td>7.064597943499491</td><td>True</td><td>8.363070544185819</td><td>12.507923833010205</td><td>9.300925205879048</td><td>5.8850039182248</td><td>13.858125191721438</td></tr>\n",
       "<tr><td>G262.4-26.2+143</td><td>0.21329644533869885</td><td>1.2224926075128765e-06</td><td>2.0255699650566523</td><td>-1</td><td>5.008552948039634</td><td>True</td><td>5.0791565705667105</td><td>9.744382180123484</td><td>8.315957708164293</td><td>-11.277167064796421</td><td>-26.555699055345446</td></tr>\n",
       "<tr><td>G264.6-53.3+224</td><td>0.3195887445887446</td><td>4.0730287570954555e-05</td><td>0.9062634882158793</td><td>1</td><td>-2.1167595348071426</td><td>True</td><td>3.023390368905306</td><td>4.983729795251348</td><td>3.9619027435421326</td><td>0.16014564072012671</td><td>0.377114164892079</td></tr>\n",
       "<tr><td>G267.1-38.4+263</td><td>0.3428488020518381</td><td>2.318648482161409e-11</td><td>12.715164074377505</td><td>-1</td><td>9.411860771074203</td><td>True</td><td>6.459354538810761</td><td>13.975229335809928</td><td>12.392892072895142</td><td>3.764226145036</td><td>8.86407518036035</td></tr>\n",
       "<tr><td>G271.6-48.4+297</td><td>0.12493061782161308</td><td>5.0905622111774864e-05</td><td>0.6348560731135152</td><td>-1</td><td>0.5747960130534552</td><td>True</td><td>1.656313599761247</td><td>3.0167700520864895</td><td>2.5214136523807156</td><td>0.14031802939919347</td><td>0.33042370830846285</td></tr>\n",
       "<tr><td>G271.7-53.1+254</td><td>0.22697520500279825</td><td>0.0003403465863955054</td><td>0.11625707523884121</td><td>1</td><td>-2.3862454272636606</td><td>True</td><td>3.238101358605643</td><td>6.206104031068475</td><td>5.294376907232867</td><td>-0.6047436349837891</td><td>-1.4240624337647063</td></tr>\n",
       "<tr><td>G282.3-38.3+117</td><td>0.277823006349348</td><td>8.58037227199818e-27</td><td>-1.2426193078764725</td><td>1</td><td>-3.4648415300986937</td><td>True</td><td>4.440559986447358</td><td>6.711461315863094</td><td>5.032408966001214</td><td>-1.9662738656700256</td><td>-4.630221112900268</td></tr>\n",
       "</table></div>"
      ],
      "text/plain": [
       "<Table length=10>\n",
       "      Name           Statistic      ...     Sigma [diff]            FWHM       \n",
       "     str15            float64       ...       float64             float64      \n",
       "--------------- ------------------- ... ------------------- -------------------\n",
       "G038.7-37.3-241  0.2074738871132492 ... -1.2004037875138898   -2.82673490096878\n",
       "G038.8-33.2-261 0.31066825775656326 ... -0.3820916381721009 -0.8997570486063758\n",
       "G043.4-30.4-230 0.24109469074986317 ... -0.3219533860094135 -0.7581422869405536\n",
       "G261.5-34.5+237  0.2889454915944982 ...     5.8850039182248  13.858125191721438\n",
       "G262.4-26.2+143 0.21329644533869885 ... -11.277167064796421 -26.555699055345446\n",
       "G264.6-53.3+224  0.3195887445887446 ... 0.16014564072012671   0.377114164892079\n",
       "G267.1-38.4+263  0.3428488020518381 ...      3.764226145036    8.86407518036035\n",
       "G271.6-48.4+297 0.12493061782161308 ... 0.14031802939919347 0.33042370830846285\n",
       "G271.7-53.1+254 0.22697520500279825 ... -0.6047436349837891 -1.4240624337647063\n",
       "G282.3-38.3+117   0.277823006349348 ... -1.9662738656700256  -4.630221112900268"
      ]
     },
     "execution_count": 2,
     "metadata": {},
     "output_type": "execute_result"
    }
   ],
   "source": [
    "import sys\n",
    "sys.path.append('C://Users/olive/OneDrive - Australian National University/Honours-Olivia/Programs/honours/standard_modules')\n",
    "sys.path.append('C://Users/olive/OneDrive - Australian National University/Honours-Olivia/Programs/honours/project')\n",
    "\n",
    "from collation import collator, hvc_snapshot as snap, collation_tools as ct\n",
    "from synthesis import hvc_looper as hvcl, magnetic_field_derivation as mfd, KStest, uncertainty_subtraction as us\n",
    "\n",
    "collated_data = collator.data_whole_sky(False, load_data=[\"../data_processed/proc_rms\",\"../data_processed/proc_hvcs\"], h1_img=\"../data_catalog/hi4pi-hvc-nhi-car.fits\", override_RMs=True)\n",
    "\n",
    "#master_hvcs = hvcl.load_HVCs(collated_data, hvc_indicies=[0, 1, 2, 3, 4, 5, 6, 7, 9, 10, 12, 13, 16, 22, 24])\n",
    "\n",
    "results = hvcl.uncertainty_subtract_HVCs(collated_data, hvc_indicies=[0, 1, 2, 3, 4, 5, 6, 7, 9, 10, 12, 13, 16, 22, 24], save_file=\"\", filter_significant=True)\n",
    "\n",
    "results"
   ]
  },
  {
   "cell_type": "code",
   "execution_count": 7,
   "metadata": {},
   "outputs": [
    {
     "data": {
      "image/png": "[encoded data removed]",
      "text/plain": [
       "<Figure size 600x100 with 1 Axes>"
      ]
     },
     "metadata": {},
     "output_type": "display_data"
    },
    {
     "data": {
      "image/png": "[encoded data removed]",
      "text/plain": [
       "<Figure size 600x100 with 1 Axes>"
      ]
     },
     "metadata": {},
     "output_type": "display_data"
    }
   ],
   "source": [
    "import matplotlib.pyplot as plt\n",
    "\n",
    "plt.figure(figsize=(6,1))\n",
    "plt.boxplot(abs(results[\"Statistic_diff\"]), vert=False, showmeans=True, widths=0.6, sym=\"x\")\n",
    "plt.yticks([])\n",
    "plt.axvline(8, c='r', linestyle='--')\n",
    "plt.xlabel(r\"Magnetic Field [log($\\mu G$)]\")\n",
    "plt.xscale('log')\n",
    "plt.show()\n",
    "\n",
    "plt.figure(figsize=(6,1))\n",
    "plt.boxplot(abs(results[\"Sigma [diff]\"]), vert=False, showmeans=True, widths=0.6, sym=\"x\")\n",
    "plt.yticks([])\n",
    "plt.axvline(8, c='r', linestyle='--')\n",
    "plt.xlabel(r\"Magnetic Field [log($\\mu G$)]\")\n",
    "plt.xscale('log')\n",
    "plt.show()"
   ]
  },
  {
   "cell_type": "code",
   "execution_count": null,
   "metadata": {},
   "outputs": [],
   "source": []
  }
 ],
 "metadata": {
  "kernelspec": {
   "display_name": "base",
   "language": "python",
   "name": "python3"
  },
  "language_info": {
   "codemirror_mode": {
    "name": "ipython",
    "version": 3
   },
   "file_extension": ".py",
   "mimetype": "text/x-python",
   "name": "python",
   "nbconvert_exporter": "python",
   "pygments_lexer": "ipython3",
   "version": "3.11.3"
  }
 },
 "nbformat": 4,
 "nbformat_minor": 2
}
