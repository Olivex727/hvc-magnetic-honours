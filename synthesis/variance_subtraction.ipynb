{
 "cells": [
  {
   "cell_type": "markdown",
   "metadata": {},
   "source": [
    "# Testing out the variance subtraction method"
   ]
  },
  {
   "cell_type": "code",
   "execution_count": 1,
   "metadata": {},
   "outputs": [
    {
     "name": "stdout",
     "output_type": "stream",
     "text": [
      "=== WHOLE-SKY DATA COLLATION ===\n",
      "Gathering data ...\n",
      "Getting H-alpha emission\n",
      "Extracting RMs\n",
      "Getting HVC location data\n",
      "Getting HI emission\n",
      "Interpolating\n",
      "Collation complete\n",
      "=== HVC RM LOADER ===\n",
      "Taking HVC snapshots\n",
      "Process complete\n"
     ]
    }
   ],
   "source": [
    "import sys\n",
    "sys.path.append('C://Users/olive/OneDrive - Australian National University/Honours-Olivia/Programs/honours/standard_modules')\n",
    "sys.path.append('C://Users/olive/OneDrive - Australian National University/Honours-Olivia/Programs/honours/project')\n",
    "\n",
    "from collation import collator, hvc_snapshot as snap, collation_tools as ct\n",
    "from synthesis import hvc_looper as hvcl, magnetic_field_derivation as mfd, KStest\n",
    "\n",
    "collated_data = collator.data_whole_sky(False, load_data=[\"../data_processed/proc_rms\",\"../data_processed/proc_hvcs\"], h1_img=\"../data_catalog/hi4pi-hvc-nhi-car.fits\", override_RMs=True)\n",
    "\n",
    "master_hvcs = hvcl.load_HVCs(collated_data, hvc_indicies=[0, 1, 2, 3, 4, 5, 6, 7, 9, 10, 12, 13, 16, 22, 24])"
   ]
  },
  {
   "cell_type": "code",
   "execution_count": 2,
   "metadata": {},
   "outputs": [
    {
     "data": {
      "text/html": [
       "<div><i>Table length=2855</i>\n",
       "<table id=\"table2254742990416\" class=\"table-striped table-bordered table-condensed\">\n",
       "<thead><tr><th>ra_dec_obj</th><th>H-alpha flux [Error]</th><th>H-alpha flux</th><th>ra_dec_deg</th><th>RM</th><th>RM_uncert</th><th>pol_int</th><th>pol_int_uncert</th><th>ra_dec_pix_offsets</th><th>interpolation_raw</th><th>interpolation_cor</th><th>interpolation_unc</th><th>interpolation_cor_unc</th><th>HI</th><th>HI [Error]</th><th>pixel location x</th><th>pixel location y</th><th>B_virtual [raw]</th><th>B_virtual_unc [raw]</th><th>B_virtual [int]</th><th>B_virtual_unc [int]</th></tr></thead>\n",
       "<thead><tr><th>deg,deg</th><th>R</th><th>R</th><th></th><th>rad / m2</th><th>rad / m2</th><th></th><th></th><th></th><th>rad / m2</th><th>rad / m2</th><th>rad / m2</th><th>rad / m2</th><th>dex(1 / cm2)</th><th>dex(1 / cm2)</th><th></th><th></th><th>G</th><th>G</th><th>G</th><th>G</th></tr></thead>\n",
       "<thead><tr><th>SkyCoord</th><th>float32</th><th>float32</th><th>float64[2]</th><th>float64</th><th>float64</th><th>float64</th><th>float64</th><th>float64[2]</th><th>float64</th><th>float64</th><th>float64</th><th>float64</th><th>float64</th><th>float64</th><th>float64</th><th>float64</th><th>float64</th><th>float64</th><th>float64</th><th>float64</th></tr></thead>\n",
       "<tr><td>317.02777111652887,-7.24338741441083</td><td>0.43359375</td><td>1.9560547</td><td>317.02777111652887 .. -7.24338741441083</td><td>-40.60423996450751</td><td>1.5457592726147544</td><td>0.00043224505579967607</td><td>2.483022173816831e-05</td><td>23.9384765625 .. -3781.147460938</td><td>-18.19876746849366</td><td>-14.27570293026682</td><td>7.811525782388515</td><td>9.252382221559966</td><td>0.0</td><td>0.0</td><td>95.8395870665106</td><td>3.168123612249474</td><td>-6.171844350915965e-06</td><td>1.1291869559133162e-06</td><td>-3.4056317511422564e-06</td><td>1.6198231584449105e-06</td></tr>\n",
       "<tr><td>315.9841614286344,-8.604898582891888</td><td>0.3671875</td><td>1.3061523</td><td>315.9841614286344 .. -8.604898582891888</td><td>-17.943864127265353</td><td>0.5398814204140827</td><td>0.0011028929141821099</td><td>2.2127911789015722e-05</td><td>-1833.390625 .. -1328.559570312</td><td>-21.553376098725444</td><td>-20.719964997803352</td><td>6.932927851226972</td><td>8.7610597433037</td><td>0.0</td><td>0.0</td><td>99.34052217623503</td><td>27.393086830204084</td><td>-2.7274672926834964e-06</td><td>1.0751603398304319e-06</td><td>5.486458086665904e-07</td><td>1.5000095527147787e-06</td></tr>\n",
       "<tr><td>315.97528080367675,-8.602674548869945</td><td>0.3671875</td><td>1.3061523</td><td>315.97528080367675 .. -8.602674548869945</td><td>-20.00166869013173</td><td>2.8796117887872823</td><td>0.00020828214506339493</td><td>2.228921060452043e-05</td><td>-1849.204101562 .. -1332.516113281</td><td>-21.553376098725444</td><td>-20.719964997803352</td><td>6.932927851226972</td><td>8.7610597433037</td><td>0.0</td><td>0.0</td><td>99.44656543686574</td><td>27.42164089241487</td><td>-3.0402535799706737e-06</td><td>1.15973027144532e-06</td><td>2.3585952137941277e-07</td><td>1.560227957697956e-06</td></tr>\n",
       "<tr><td>314.8400267572668,-10.789884570172566</td><td>0.37109375</td><td>1.3300781</td><td>314.8400267572668 .. -10.789884570172566</td><td>-42.946302994027874</td><td>1.9685753167519133</td><td>0.00034087753051505095</td><td>2.493785603611105e-05</td><td>-3843.680664062 .. 2613.2734375</td><td>-23.016909214288834</td><td>-21.29075594183044</td><td>7.748767884888446</td><td>7.798476397224619</td><td>0.0</td><td>0.0</td><td>99.91571676484864</td><td>62.68235511122748</td><td>-6.527837924268638e-06</td><td>1.1488299277661995e-06</td><td>-3.02926779381115e-06</td><td>1.6217323876970382e-06</td></tr>\n",
       "<tr><td>314.9449766854099,-10.350727915633907</td><td>0.38671875</td><td>1.4951172</td><td>314.9449766854099 .. -10.350727915633907</td><td>-56.630793042608346</td><td>2.6595576349953194</td><td>0.0002455037716885602</td><td>2.4264775530082336e-05</td><td>-3663.475585938 .. 1821.873535156</td><td>-22.732926148018716</td><td>-21.884659876786948</td><td>7.873918131547356</td><td>8.110179088845562</td><td>18.02945327758789</td><td>9.014726638793945</td><td>101.07719999217477</td><td>56.363007117778125</td><td>-8.607880369966993e-06</td><td>1.2108808789242593e-06</td><td>-5.15247566471749e-06</td><td>1.6700593203193748e-06</td></tr>\n",
       "<tr><td>316.5608216074136,-7.544710711184364</td><td>0.4609375</td><td>2.2285156</td><td>316.5608216074136 .. -7.544710711184364</td><td>-24.087614309801985</td><td>1.7172058223213733</td><td>0.00035377990368995883</td><td>2.2576895086848816e-05</td><td>-809.3012695312 .. -3238.559570312</td><td>-18.984436584570815</td><td>-15.664159963818484</td><td>7.544708709018035</td><td>8.960957006560793</td><td>17.696372985839844</td><td>8.848186492919922</td><td>99.07510124245573</td><td>10.104335022399937</td><td>-3.6613173017138908e-06</td><td>1.1095542401098622e-06</td><td>-7.756829986897699e-07</td><td>1.5864273038305704e-06</td></tr>\n",
       "<tr><td>314.72900410231296,-11.781826053061165</td><td>0.35742188</td><td>1.2021484</td><td>314.72900410231296 .. -11.781826053061165</td><td>-18.70055053948933</td><td>2.610241527780946</td><td>0.0003604093244824096</td><td>3.4961126392363345e-05</td><td>-4025.90234375 .. 4398.916992188</td><td>-19.898821237690623</td><td>-18.681366401467113</td><td>7.272491084891517</td><td>7.919823432734878</td><td>0.0</td><td>0.0</td><td>96.03453816630145</td><td>76.25476868257101</td><td>-2.8424836250365127e-06</td><td>1.1437340140062546e-06</td><td>1.8213714247640817e-07</td><td>1.5847834556429165e-06</td></tr>\n",
       "<tr><td>315.0605162394619,-10.681283890192502</td><td>0.36523438</td><td>1.2875977</td><td>315.0605162394619 .. -10.681283890192502</td><td>-42.28664996671848</td><td>3.05068819648948</td><td>0.00021251602430257644</td><td>2.4093406471476396e-05</td><td>-3455.311523438 .. 2415.572509766</td><td>-21.78331130670236</td><td>-20.85182681313077</td><td>7.787866880608111</td><td>7.884041320324516</td><td>0.0</td><td>0.0</td><td>98.13114704500549</td><td>59.93437760278721</td><td>-6.427570666127053e-06</td><td>1.200959859487086e-06</td><td>-3.1165074138649073e-06</td><td>1.6645640377781097e-06</td></tr>\n",
       "<tr><td>315.74661280565124,-9.66795640123519</td><td>0.31640625</td><td>0.80444336</td><td>315.74661280565124 .. -9.66795640123519</td><td>-15.659833522463654</td><td>3.206749380019431</td><td>0.00018458739023933843</td><td>2.1997622874014515e-05</td><td>-2249.354492188 .. 586.26953125</td><td>-20.117677041648594</td><td>-21.091789750570285</td><td>7.131447885406069</td><td>7.988734347246627</td><td>0.0</td><td>0.0</td><td>96.15230824393211</td><td>42.57436168989716</td><td>-2.3802946477112824e-06</td><td>1.1758970903059395e-06</td><td>6.775922013365688e-07</td><td>1.5955408363825429e-06</td></tr>\n",
       "<tr><td>...</td><td>...</td><td>...</td><td>...</td><td>...</td><td>...</td><td>...</td><td>...</td><td>...</td><td>...</td><td>...</td><td>...</td><td>...</td><td>...</td><td>...</td><td>...</td><td>...</td><td>...</td><td>...</td><td>...</td><td>...</td></tr>\n",
       "<tr><td>211.92184449271957,-33.33687197198067</td><td>1.3984375</td><td>2.0078125</td><td>211.92184449271957 .. -33.33687197198067</td><td>-32.28195963181648</td><td>2.9761161931520164</td><td>0.0001555551845321176</td><td>1.7204540439515476e-05</td><td>-3330.754882812 .. 1341.145019531</td><td>-28.00012093076292</td><td>-28.322961474184165</td><td>7.109915620281003</td><td>7.156935263120223</td><td>0.0</td><td>0.0</td><td>43.603640696057255</td><td>57.05573158635707</td><td>-7.666965532876024e-06</td><td>2.0678804710623778e-06</td><td>-1.016936707459262e-06</td><td>2.4764315919460605e-06</td></tr>\n",
       "<tr><td>215.0968933125524,-31.196300573729623</td><td>1.2578125</td><td>0.60131836</td><td>215.0968933125524 .. -31.196300573729623</td><td>-28.53252814648135</td><td>2.2870974621410256</td><td>0.0001901442843194486</td><td>1.6161313331049417e-05</td><td>1477.463378906 .. -2539.66015625</td><td>-22.84294092764852</td><td>-22.03657445790907</td><td>7.012860330627217</td><td>7.3581440761736845</td><td>0.0</td><td>0.0</td><td>56.231801551880835</td><td>12.877252625930396</td><td>-6.776475541134249e-06</td><td>1.962144608034176e-06</td><td>-1.3512769856787255e-06</td><td>2.421669493511948e-06</td></tr>\n",
       "<tr><td>215.76890556543117,-30.7860374332752</td><td>1.3046875</td><td>1.0483398</td><td>215.76890556543117 .. -30.7860374332752</td><td>-34.219662433543945</td><td>2.7138357590846174</td><td>0.00017449870787329328</td><td>1.7598857683347382e-05</td><td>2522.723632812 .. -3265.151367188</td><td>-22.27822342138182</td><td>-20.917438598919354</td><td>7.058155770092776</td><td>7.099709506026649</td><td>0.0</td><td>0.0</td><td>58.09615878874274</td><td>3.4989263795973784</td><td>-8.127169955508402e-06</td><td>2.0777783431765947e-06</td><td>-2.836091809896004e-06</td><td>2.475462667028608e-06</td></tr>\n",
       "<tr><td>212.80496189258838,-31.991058310854903</td><td>1.3359375</td><td>1.3256836</td><td>212.80496189258838 .. -31.991058310854903</td><td>-9.212492228848209</td><td>2.4650596424487303</td><td>0.00017427317917340985</td><td>1.5964917866180476e-05</td><td>-2033.771484375 .. -1103.235839844</td><td>-24.447682121574182</td><td>-23.611708156709803</td><td>6.201637288406983</td><td>6.477012845547632</td><td>0.0</td><td>0.0</td><td>55.83573686568184</td><td>41.49883477206322</td><td>-2.187966938687763e-06</td><td>1.7858126975472685e-06</td><td>3.618357656306212e-06</td><td>2.345549111767828e-06</td></tr>\n",
       "<tr><td>212.79919420450395,-31.99040214173663</td><td>1.3359375</td><td>1.3256836</td><td>212.79919420450395 .. -31.99040214173663</td><td>-11.575353846512876</td><td>2.463463090939632</td><td>0.00017478215116858284</td><td>1.6001173828272304e-05</td><td>-2042.588867188 .. -1104.306152344</td><td>-24.447682121574182</td><td>-23.611708156709803</td><td>6.201637288406983</td><td>6.477012845547632</td><td>0.0</td><td>0.0</td><td>55.86329528025681</td><td>41.55815696240984</td><td>-2.749146581689854e-06</td><td>1.7990028340177855e-06</td><td>3.057178013304121e-06</td><td>2.3316567243214916e-06</td></tr>\n",
       "<tr><td>212.76318369167774,-32.06174075449066</td><td>1.3515625</td><td>1.5317383</td><td>212.76318369167774 .. -32.06174075449066</td><td>0.19410785336838962</td><td>1.8986585054182978</td><td>0.00022814089476199377</td><td>1.6097509971999964e-05</td><td>-2095.915039062 .. -975.2124023438</td><td>-23.620414636685783</td><td>-23.079202624626845</td><td>6.172848836745115</td><td>6.507146536945515</td><td>0.0</td><td>0.0</td><td>55.1848681686231</td><td>42.27969855489209</td><td>4.610061589846105e-08</td><td>1.7225800640909696e-06</td><td>5.655949180148094e-06</td><td>2.380677731492087e-06</td></tr>\n",
       "<tr><td>215.11245714805872,-31.090461773203984</td><td>1.2890625</td><td>0.8652344</td><td>215.11245714805872 .. -31.090461773203984</td><td>-29.291725026152903</td><td>2.8915891988934113</td><td>0.00015147689396888874</td><td>1.6277649334287738e-05</td><td>1503.099609375 .. -2729.881835938</td><td>-23.04990536124304</td><td>-22.58359420189673</td><td>6.851905117615129</td><td>7.202296943104738</td><td>0.0</td><td>0.0</td><td>57.34480968459934</td><td>12.161220737677922</td><td>-6.956784802885882e-06</td><td>2.017237400346837e-06</td><td>-1.482432193680272e-06</td><td>2.433431159034757e-06</td></tr>\n",
       "<tr><td>212.3093721394125,-32.39770505827606</td><td>1.359375</td><td>1.5566406</td><td>212.3093721394125 .. -32.39770505827606</td><td>-11.774097522193278</td><td>0.7265184679842231</td><td>0.0005989910382959643</td><td>1.6172445134177843e-05</td><td>-2777.622070312 .. -360.1513671875</td><td>-25.670198752835283</td><td>-25.250009032413168</td><td>6.455309091867514</td><td>7.319605916117035</td><td>0.0</td><td>0.0</td><td>52.95148767716614</td><td>48.720471465977425</td><td>-2.7963482054046967e-06</td><td>1.711251996944374e-06</td><td>3.3003240940702893e-06</td><td>2.3090732142438808e-06</td></tr>\n",
       "<tr><td>212.31033342950548,-32.39823531620915</td><td>1.359375</td><td>1.5566406</td><td>212.31033342950548 .. -32.39823531620915</td><td>-12.786285689647876</td><td>0.7425168961760001</td><td>0.0005865002709813515</td><td>1.6183902779640947e-05</td><td>-2776.145507812 .. -359.2221679688</td><td>-25.670198752835283</td><td>-25.250009032413168</td><td>6.455309091867514</td><td>7.319605916117035</td><td>0.0</td><td>0.0</td><td>52.94223234376773</td><td>48.712512309554995</td><td>-3.0367428989477376e-06</td><td>1.7186811567342253e-06</td><td>3.059929400527248e-06</td><td>2.303650551696186e-06</td></tr>\n",
       "<tr><td>216.11090089102834,-31.293655566834058</td><td>1.296875</td><td>0.9316406</td><td>216.11090089102834 .. -31.293655566834058</td><td>-28.161796543961053</td><td>2.5125959938528006</td><td>0.00018443104313804916</td><td>1.7221278445760037e-05</td><td>3035.086181641 .. -2342.973632812</td><td>-20.021043567161083</td><td>-18.022470440214455</td><td>6.380365552288904</td><td>7.103814273014758</td><td>0.0</td><td>0.0</td><td>51.111687204163445</td><td>2.562130436014286</td><td>-6.6884267841539075e-06</td><td>1.972470033411735e-06</td><td>-1.9334288623317763e-06</td><td>2.3410783834923667e-06</td></tr>\n",
       "</table></div>"
      ],
      "text/plain": [
       "<Table length=2855>\n",
       "              ra_dec_obj               ...  B_virtual_unc [int]  \n",
       "               deg,deg                 ...           G           \n",
       "               SkyCoord                ...        float64        \n",
       "-------------------------------------- ... ----------------------\n",
       "  317.02777111652887,-7.24338741441083 ... 1.6198231584449105e-06\n",
       "  315.9841614286344,-8.604898582891888 ... 1.5000095527147787e-06\n",
       " 315.97528080367675,-8.602674548869945 ...  1.560227957697956e-06\n",
       " 314.8400267572668,-10.789884570172566 ... 1.6217323876970382e-06\n",
       " 314.9449766854099,-10.350727915633907 ... 1.6700593203193748e-06\n",
       "  316.5608216074136,-7.544710711184364 ... 1.5864273038305704e-06\n",
       "314.72900410231296,-11.781826053061165 ... 1.5847834556429165e-06\n",
       " 315.0605162394619,-10.681283890192502 ... 1.6645640377781097e-06\n",
       "  315.74661280565124,-9.66795640123519 ... 1.5955408363825429e-06\n",
       "                                   ... ...                    ...\n",
       " 211.92184449271957,-33.33687197198067 ... 2.4764315919460605e-06\n",
       " 215.0968933125524,-31.196300573729623 ...  2.421669493511948e-06\n",
       "  215.76890556543117,-30.7860374332752 ...  2.475462667028608e-06\n",
       "212.80496189258838,-31.991058310854903 ...  2.345549111767828e-06\n",
       " 212.79919420450395,-31.99040214173663 ... 2.3316567243214916e-06\n",
       " 212.76318369167774,-32.06174075449066 ...  2.380677731492087e-06\n",
       "215.11245714805872,-31.090461773203984 ...  2.433431159034757e-06\n",
       "  212.3093721394125,-32.39770505827606 ... 2.3090732142438808e-06\n",
       " 212.31033342950548,-32.39823531620915 ...  2.303650551696186e-06\n",
       "216.11090089102834,-31.293655566834058 ... 2.3410783834923667e-06"
      ]
     },
     "execution_count": 2,
     "metadata": {},
     "output_type": "execute_result"
    }
   ],
   "source": [
    "inners = []\n",
    "for hvc_snap in master_hvcs:\n",
    "    #print(hvc_snap[\"HVC\"][\"Name\"])\n",
    "    inner_rms, _ = KStest.split_RMs(hvc_snap[\"RMs\"],hvc_snap[\"HVC\"][\"SkyCoord\"], KStest.morph_ring(hvc_snap))\n",
    "    #print(len(inner_rms), len(outer_rms))\n",
    "    inners.append(inner_rms)\n",
    "\n",
    "from astropy.table import vstack\n",
    "\n",
    "master_rm_inner = vstack(inners)\n",
    "\n",
    "master_rm_inner"
   ]
  },
  {
   "cell_type": "code",
   "execution_count": 3,
   "metadata": {},
   "outputs": [
    {
     "data": {
      "image/png": "[encoded data removed]",
      "text/plain": [
       "<Figure size 600x100 with 1 Axes>"
      ]
     },
     "metadata": {},
     "output_type": "display_data"
    }
   ],
   "source": [
    "import numpy as np\n",
    "import matplotlib.pyplot as plt\n",
    "\n",
    "B_unc = master_rm_inner[\"B_virtual_unc [int]\"].data * 1e6\n",
    "B_true_unc = np.std(master_rm_inner[\"B_virtual [int]\"].data * 1e6)\n",
    "\n",
    "plt.figure(figsize=(6,1))\n",
    "plt.boxplot(B_unc, vert=False, showmeans=True, widths=0.6, sym=\"x\")\n",
    "plt.axvline(B_true_unc, c='r', linestyle='--')\n",
    "plt.yticks([])\n",
    "plt.show()\n"
   ]
  },
  {
   "cell_type": "code",
   "execution_count": 12,
   "metadata": {},
   "outputs": [
    {
     "name": "stderr",
     "output_type": "stream",
     "text": [
      "C:\\Users\\olive\\AppData\\Local\\Temp\\ipykernel_20508\\3603947975.py:11: RuntimeWarning: invalid value encountered in sqrt\n",
      "  uncert.append({\"Sigma [meas]\":meas, \"Sigma [obsv]\":obsv, \"Sigma [true]\": np.sqrt(obsv**2 - meas**2)})\n"
     ]
    },
    {
     "data": {
      "text/html": [
       "<div><i>Table length=15</i>\n",
       "<table id=\"table2254742635600\" class=\"table-striped table-bordered table-condensed\">\n",
       "<thead><tr><th>Sigma [meas]</th><th>Sigma [obsv]</th><th>Sigma [true]</th></tr></thead>\n",
       "<thead><tr><th>float64</th><th>float64</th><th>float64</th></tr></thead>\n",
       "<tr><td>1.5490103064419392</td><td>3.259633374868092</td><td>2.8680615072014404</td></tr>\n",
       "<tr><td>1.0172162310775188</td><td>2.2736826533710723</td><td>2.033446322742001</td></tr>\n",
       "<tr><td>1.3692498776485982</td><td>3.4139391636197307</td><td>3.1273207998949974</td></tr>\n",
       "<tr><td>1.7766805216998156</td><td>6.285240753776755</td><td>6.028901861595415</td></tr>\n",
       "<tr><td>1.390653120203451</td><td>0.6443423969361269</td><td>nan</td></tr>\n",
       "<tr><td>2.5577313774843344</td><td>3.3456971641453612</td><td>2.1567799412092095</td></tr>\n",
       "<tr><td>8.363070544185819</td><td>12.507923833010205</td><td>9.300925205879048</td></tr>\n",
       "<tr><td>5.0791565705667105</td><td>9.744382180123484</td><td>8.315957708164293</td></tr>\n",
       "<tr><td>3.023390368905306</td><td>4.983729795251348</td><td>3.9619027435421326</td></tr>\n",
       "<tr><td>6.459354538810761</td><td>13.975229335809928</td><td>12.392892072895142</td></tr>\n",
       "<tr><td>1.656313599761247</td><td>3.0167700520864895</td><td>2.5214136523807156</td></tr>\n",
       "<tr><td>3.238101358605643</td><td>6.206104031068475</td><td>5.294376907232867</td></tr>\n",
       "<tr><td>4.440559986447358</td><td>6.711461315863094</td><td>5.032408966001214</td></tr>\n",
       "<tr><td>0.6334116228188119</td><td>0.6119163229594444</td><td>nan</td></tr>\n",
       "<tr><td>2.404035520546133</td><td>3.682242046820639</td><td>2.789179038234429</td></tr>\n",
       "</table></div>"
      ],
      "text/plain": [
       "<Table length=15>\n",
       "   Sigma [meas]       Sigma [obsv]       Sigma [true]   \n",
       "     float64            float64            float64      \n",
       "------------------ ------------------ ------------------\n",
       "1.5490103064419392  3.259633374868092 2.8680615072014404\n",
       "1.0172162310775188 2.2736826533710723  2.033446322742001\n",
       "1.3692498776485982 3.4139391636197307 3.1273207998949974\n",
       "1.7766805216998156  6.285240753776755  6.028901861595415\n",
       " 1.390653120203451 0.6443423969361269                nan\n",
       "2.5577313774843344 3.3456971641453612 2.1567799412092095\n",
       " 8.363070544185819 12.507923833010205  9.300925205879048\n",
       "5.0791565705667105  9.744382180123484  8.315957708164293\n",
       " 3.023390368905306  4.983729795251348 3.9619027435421326\n",
       " 6.459354538810761 13.975229335809928 12.392892072895142\n",
       " 1.656313599761247 3.0167700520864895 2.5214136523807156\n",
       " 3.238101358605643  6.206104031068475  5.294376907232867\n",
       " 4.440559986447358  6.711461315863094  5.032408966001214\n",
       "0.6334116228188119 0.6119163229594444                nan\n",
       " 2.404035520546133  3.682242046820639  2.789179038234429"
      ]
     },
     "execution_count": 12,
     "metadata": {},
     "output_type": "execute_result"
    }
   ],
   "source": [
    "from astropy.table import Table, hstack\n",
    "\n",
    "uncert = []\n",
    "for inner_rms in inners:\n",
    "    m_list = inner_rms[\"B_virtual_unc [int]\"].data * 1e6\n",
    "    o_list = inner_rms[\"B_virtual [int]\"].data * 1e6\n",
    "\n",
    "    meas = np.mean(m_list)\n",
    "    obsv = np.std(o_list)\n",
    "\n",
    "    uncert.append({\"Sigma [meas]\":meas, \"Sigma [obsv]\":obsv, \"Sigma [true]\": np.sqrt(obsv**2 - meas**2)})\n",
    "\n",
    "uncert_table = Table(uncert)\n",
    "uncert_table"
   ]
  },
  {
   "cell_type": "code",
   "execution_count": 15,
   "metadata": {},
   "outputs": [],
   "source": [
    "ks = ct.read_processed(\"../data_processed/hvc_KS_tests/hvc_KS_average\")\n",
    "hks = hstack([ks, uncert_table])\n",
    "\n",
    "hks = hks[hks[\"Significant\"]]\n",
    "hks\n",
    "\n",
    "ct.write_processed(hks, \"../data_processed/results_maybe\")"
   ]
  },
  {
   "cell_type": "code",
   "execution_count": 16,
   "metadata": {},
   "outputs": [
    {
     "data": {
      "text/html": [
       "<div><i>Table length=13</i>\n",
       "<table id=\"table2254732741008\" class=\"table-striped table-bordered table-condensed\">\n",
       "<thead><tr><th>Name</th><th>Statistic</th><th>p_value</th><th>Statistic_x</th><th>Statistic_sgn</th><th>Significant</th><th>Sigma [meas]</th><th>Sigma [obsv]</th><th>Sigma [true]</th></tr></thead>\n",
       "<thead><tr><th>str15</th><th>float64</th><th>float64</th><th>float64</th><th>int32</th><th>bool</th><th>float64</th><th>float64</th><th>float64</th></tr></thead>\n",
       "<tr><td>G038.7-37.3-241</td><td>0.2074738871132492</td><td>3.5194997048780594e-09</td><td>-3.515687526708854</td><td>-1</td><td>True</td><td>1.5490103064419392</td><td>3.259633374868092</td><td>2.8680615072014404</td></tr>\n",
       "<tr><td>G038.8-33.2-261</td><td>0.31066825775656326</td><td>1.3943532792837091e-08</td><td>-0.6963302660734451</td><td>-1</td><td>True</td><td>1.0172162310775188</td><td>2.2736826533710723</td><td>2.033446322742001</td></tr>\n",
       "<tr><td>G043.4-30.4-230</td><td>0.24109469074986317</td><td>3.606854288675973e-11</td><td>-1.2589038059025925</td><td>-1</td><td>True</td><td>1.3692498776485982</td><td>3.4139391636197307</td><td>3.1273207998949974</td></tr>\n",
       "<tr><td>G089.0-64.7-311</td><td>0.3738140417457306</td><td>0.015075834341180974</td><td>-3.5031459148744912</td><td>1</td><td>True</td><td>1.7766805216998156</td><td>6.285240753776755</td><td>6.028901861595415</td></tr>\n",
       "<tr><td>G133.5-75.6-294</td><td>0.46130268199233715</td><td>4.570648166268751e-08</td><td>-1.0081759072724916</td><td>-1</td><td>True</td><td>1.390653120203451</td><td>0.6443423969361269</td><td>nan</td></tr>\n",
       "<tr><td>G261.5-34.5+237</td><td>0.2889454915944982</td><td>5.960798790546759e-08</td><td>-5.487954609053061</td><td>-1</td><td>True</td><td>8.363070544185819</td><td>12.507923833010205</td><td>9.300925205879048</td></tr>\n",
       "<tr><td>G262.4-26.2+143</td><td>0.21329644533869885</td><td>1.2224926075128765e-06</td><td>2.0255699650566523</td><td>-1</td><td>True</td><td>5.0791565705667105</td><td>9.744382180123484</td><td>8.315957708164293</td></tr>\n",
       "<tr><td>G264.6-53.3+224</td><td>0.3195887445887446</td><td>4.0730287570954555e-05</td><td>0.9062634882158793</td><td>1</td><td>True</td><td>3.023390368905306</td><td>4.983729795251348</td><td>3.9619027435421326</td></tr>\n",
       "<tr><td>G267.1-38.4+263</td><td>0.3428488020518381</td><td>2.318648482161409e-11</td><td>12.715164074377505</td><td>-1</td><td>True</td><td>6.459354538810761</td><td>13.975229335809928</td><td>12.392892072895142</td></tr>\n",
       "<tr><td>G271.6-48.4+297</td><td>0.12493061782161308</td><td>5.0905622111774864e-05</td><td>0.6348560731135152</td><td>-1</td><td>True</td><td>1.656313599761247</td><td>3.0167700520864895</td><td>2.5214136523807156</td></tr>\n",
       "<tr><td>G271.7-53.1+254</td><td>0.22697520500279825</td><td>0.0003403465863955054</td><td>0.11625707523884121</td><td>1</td><td>True</td><td>3.238101358605643</td><td>6.206104031068475</td><td>5.294376907232867</td></tr>\n",
       "<tr><td>G282.3-38.3+117</td><td>0.277823006349348</td><td>8.58037227199818e-27</td><td>-1.2426193078764725</td><td>1</td><td>True</td><td>4.440559986447358</td><td>6.711461315863094</td><td>5.032408966001214</td></tr>\n",
       "<tr><td>G323.0+25.6+122</td><td>0.09850367024280068</td><td>0.015086808841105354</td><td>1.963713871853483</td><td>-1</td><td>True</td><td>2.404035520546133</td><td>3.682242046820639</td><td>2.789179038234429</td></tr>\n",
       "</table></div>"
      ],
      "text/plain": [
       "<Table length=13>\n",
       "      Name           Statistic      ...    Sigma [obsv]       Sigma [true]   \n",
       "     str15            float64       ...      float64            float64      \n",
       "--------------- ------------------- ... ------------------ ------------------\n",
       "G038.7-37.3-241  0.2074738871132492 ...  3.259633374868092 2.8680615072014404\n",
       "G038.8-33.2-261 0.31066825775656326 ... 2.2736826533710723  2.033446322742001\n",
       "G043.4-30.4-230 0.24109469074986317 ... 3.4139391636197307 3.1273207998949974\n",
       "G089.0-64.7-311  0.3738140417457306 ...  6.285240753776755  6.028901861595415\n",
       "G133.5-75.6-294 0.46130268199233715 ... 0.6443423969361269                nan\n",
       "G261.5-34.5+237  0.2889454915944982 ... 12.507923833010205  9.300925205879048\n",
       "G262.4-26.2+143 0.21329644533869885 ...  9.744382180123484  8.315957708164293\n",
       "G264.6-53.3+224  0.3195887445887446 ...  4.983729795251348 3.9619027435421326\n",
       "G267.1-38.4+263  0.3428488020518381 ... 13.975229335809928 12.392892072895142\n",
       "G271.6-48.4+297 0.12493061782161308 ... 3.0167700520864895 2.5214136523807156\n",
       "G271.7-53.1+254 0.22697520500279825 ...  6.206104031068475  5.294376907232867\n",
       "G282.3-38.3+117   0.277823006349348 ...  6.711461315863094  5.032408966001214\n",
       "G323.0+25.6+122 0.09850367024280068 ...  3.682242046820639  2.789179038234429"
      ]
     },
     "execution_count": 16,
     "metadata": {},
     "output_type": "execute_result"
    }
   ],
   "source": [
    "hks"
   ]
  },
  {
   "cell_type": "code",
   "execution_count": null,
   "metadata": {},
   "outputs": [],
   "source": []
  }
 ],
 "metadata": {
  "kernelspec": {
   "display_name": "base",
   "language": "python",
   "name": "python3"
  },
  "language_info": {
   "codemirror_mode": {
    "name": "ipython",
    "version": 3
   },
   "file_extension": ".py",
   "mimetype": "text/x-python",
   "name": "python",
   "nbconvert_exporter": "python",
   "pygments_lexer": "ipython3",
   "version": "3.11.3"
  }
 },
 "nbformat": 4,
 "nbformat_minor": 2
}
