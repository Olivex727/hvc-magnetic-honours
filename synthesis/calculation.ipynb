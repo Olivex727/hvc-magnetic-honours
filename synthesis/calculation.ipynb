{
 "cells": [
  {
   "cell_type": "code",
   "execution_count": 1,
   "metadata": {},
   "outputs": [],
   "source": [
    "import numpy as np\n",
    "\n",
    "from uncertainties import ufloat\n",
    "from uncertainties import umath\n",
    "\n",
    "from astropy import units as u\n",
    "from astropy.units import astrophys as astru"
   ]
  },
  {
   "cell_type": "code",
   "execution_count": 2,
   "metadata": {},
   "outputs": [
    {
     "data": {
      "text/plain": [
       "100.0+/-40.0"
      ]
     },
     "execution_count": 2,
     "metadata": {},
     "output_type": "execute_result"
    }
   ],
   "source": [
    "T = ufloat(10, 2) ** 2\n",
    "T"
   ]
  },
  {
   "cell_type": "code",
   "execution_count": 1,
   "metadata": {},
   "outputs": [
    {
     "name": "stdout",
     "output_type": "stream",
     "text": [
      "=== WHOLE-SKY DATA COLLATION ===\n",
      "Gathering data ...\n",
      "Getting H-alpha emission\n",
      "Extracting RMs\n",
      "Getting HVC location data\n",
      "Getting HI emission\n",
      "Interpolating\n",
      "Collation complete\n"
     ]
    }
   ],
   "source": [
    "import sys\n",
    "sys.path.append('C://Users/olive/OneDrive - Australian National University/Honours-Olivia/Programs/honours/standard_modules')\n",
    "sys.path.append('C://Users/olive/OneDrive - Australian National University/Honours-Olivia/Programs/honours/project')\n",
    "\n",
    "from collation import collator, hvc_snapshot as snap\n",
    "from synthesis import hvc_looper as hvcl, magnetic_field_derivation as mfd\n",
    "\n",
    "collated_data = collator.data_whole_sky(False, load_data=[\"../data_processed/proc_rms\",\"../data_processed/proc_hvcs\"], h1_img=\"../data_catalog/hi4pi-hvc-nhi-car.fits\", override_RMs=True)\n",
    "\n",
    "#print(\"\")\n",
    "\n",
    "#hvc = snap.take_snapshot(1, collated_data[\"RMs\"], collated_data[\"HVCs\"], collated_data[\"HI\"], collated_data[\"H-alpha\"], collated_data[\"interpolation\"], rm_load_file=\"../data_processed/hvc_rms/hvc_rms_index_1\")"
   ]
  },
  {
   "cell_type": "code",
   "execution_count": 2,
   "metadata": {},
   "outputs": [
    {
     "name": "stdout",
     "output_type": "stream",
     "text": [
      "=== HVC RM LOADER ===\n",
      "Taking HVC snapshots\n",
      "Process complete\n"
     ]
    }
   ],
   "source": [
    "#hvcl.add_magnetic_field_RMs(collated_data)\n",
    "\n",
    "from astropy.table import vstack\n",
    "\n",
    "master_rm = hvcl.load_HVCs(collated_data, hvc_indicies=[0, 1, 2, 3, 4, 5, 6, 7, 9, 10, 12, 13, 16, 22, 24])\n",
    "#master_rm_flat = vstack(master_rm)\n",
    "\n",
    "#B_virtual = mfd.get_magnetic_field_HVC(hvc)\n",
    "#B_virtual"
   ]
  },
  {
   "cell_type": "code",
   "execution_count": 3,
   "metadata": {},
   "outputs": [
    {
     "data": {
      "text/plain": [
       "{'index': 22,\n",
       " 'corners': [<SkyCoord (Galactic): (l, b) in deg\n",
       "      (295.4268104, -84.36769088)>,\n",
       "  <SkyCoord (Galactic): (l, b) in deg\n",
       "      (300.62681021, -79.16769107)>,\n",
       "  <SkyCoord (Galactic): (l, b) in deg\n",
       "      (298.02681031, -81.76769098)>],\n",
       " 'HI_pixel_corners': [[775, 66], [713, 128], [744, 97]],\n",
       " 'H-alpha': array([[0.48510742, 0.4790039 , 0.4729004 , ..., 0.6904297 , 0.6879883 ,\n",
       "         0.6855469 ],\n",
       "        [0.41748047, 0.41271973, 0.40771484, ..., 0.86621094, 0.8598633 ,\n",
       "         0.85375977],\n",
       "        [0.399292  , 0.40441895, 0.4095459 , ..., 0.85839844, 0.8564453 ,\n",
       "         0.8544922 ],\n",
       "        ...,\n",
       "        [0.1609497 , 0.20428467, 0.24725342, ..., 0.5317383 , 0.53344727,\n",
       "         0.51293945],\n",
       "        [0.1000061 , 0.1000061 , 0.10778809, ..., 0.446167  , 0.45458984,\n",
       "         0.4527588 ],\n",
       "        [0.1000061 , 0.1000061 , 0.1000061 , ..., 0.44702148, 0.4645996 ,\n",
       "         0.47888184]], dtype=float32),\n",
       " 'HI': array([[17.797203, 17.387287, 17.043509, ...,       nan,       nan,\n",
       "               nan],\n",
       "        [17.018427,       nan,       nan, ...,       nan,       nan,\n",
       "               nan],\n",
       "        [16.717604,       nan,       nan, ...,       nan,       nan,\n",
       "               nan],\n",
       "        ...,\n",
       "        [20.546955, 20.58467 , 20.619797, ..., 18.165777, 18.167427,\n",
       "         18.16997 ],\n",
       "        [20.555725, 20.596085, 20.633562, ..., 17.937141, 17.962667,\n",
       "         18.015497],\n",
       "        [20.395836, 20.452013, 20.504206, ..., 18.08672 , 18.067232,\n",
       "         18.0792  ]], dtype=float32),\n",
       " 'interpolation': {'raw': (array([[1.69351328, 1.69608236, 1.69865145, ..., 3.44048254, 3.45703312,\n",
       "           3.47246637],\n",
       "          [1.55175302, 1.55067753, 1.54960205, ..., 3.29878537, 3.31579036,\n",
       "           3.3324155 ],\n",
       "          [1.47117433, 1.46737083, 1.46356733, ..., 3.12968841, 3.14682572,\n",
       "           3.16396302],\n",
       "          ...,\n",
       "          [3.30860302, 3.3293251 , 3.35004718, ..., 6.60521285, 6.65960197,\n",
       "           6.71399109],\n",
       "          [3.31605615, 3.33820555, 3.36035495, ..., 6.68739719, 6.74028451,\n",
       "           6.79317182],\n",
       "          [3.32350927, 3.347086  , 3.37066273, ..., 6.76958154, 6.82096705,\n",
       "           6.87235255]]),\n",
       "   [[5869, 134], [5744, 259], [5806, 197]]),\n",
       "  'corrected': (array([[4.19154739, 4.24891161, 4.2943519 , ..., 5.33076194, 5.38234017,\n",
       "           5.4375053 ],\n",
       "          [4.16208603, 4.21133665, 4.251349  , ..., 5.19960221, 5.25332391,\n",
       "           5.31165597],\n",
       "          [4.16546821, 4.20739674, 4.24293025, ..., 5.03391381, 5.08920936,\n",
       "           5.14977333],\n",
       "          ...,\n",
       "          [2.84807365, 2.86273113, 2.87135765, ..., 8.00616146, 7.99971301,\n",
       "           7.98717797],\n",
       "          [3.01859737, 3.04178071, 3.05576132, ..., 8.13769188, 8.12776968,\n",
       "           8.11242454],\n",
       "          [3.19068716, 3.22234316, 3.24170106, ..., 8.26754766, 8.25492784,\n",
       "           8.23758917]]),\n",
       "   [[5869, 134], [5744, 259], [5806, 197]]),\n",
       "  'error': (array([[2.83639224, 2.83601167, 2.83563109, ..., 2.93808076, 2.93830612,\n",
       "           2.93822656],\n",
       "          [2.85340111, 2.85236727, 2.85133343, ..., 2.97781341, 2.97831844,\n",
       "           2.97871981],\n",
       "          [2.86573047, 2.86438325, 2.86303603, ..., 3.00023647, 3.00076997,\n",
       "           3.00130348],\n",
       "          ...,\n",
       "          [3.01945219, 3.01337063, 3.00728908, ..., 2.68672867, 2.68689771,\n",
       "           2.68706674],\n",
       "          [3.03814396, 3.0316227 , 3.02510143, ..., 2.70698926, 2.70669533,\n",
       "           2.7064014 ],\n",
       "          [3.05683574, 3.04987476, 3.04291379, ..., 2.72724984, 2.72649295,\n",
       "           2.72573606]]),\n",
       "   [[5869, 134], [5744, 259], [5806, 197]]),\n",
       "  'cor_err': (array([[3.7617396 , 3.78463279, 3.80313562, ..., 4.04485041, 4.07043363,\n",
       "           4.09764729],\n",
       "          [3.79854109, 3.82033557, 3.83807332, ..., 4.07568857, 4.10115401,\n",
       "           4.12843947],\n",
       "          [3.8244969 , 3.84542393, 3.86266516, ..., 4.08933534, 4.11466168,\n",
       "           4.14190403],\n",
       "          ...,\n",
       "          [2.90674965, 2.89468559, 2.87902487, ..., 3.36475565, 3.34521378,\n",
       "           3.32828791],\n",
       "          [2.9436177 , 2.93392559, 2.92027882, ..., 3.41038347, 3.39159875,\n",
       "           3.37540294],\n",
       "          [2.98073363, 2.97350575, 2.96197589, ..., 3.45391165, 3.43617669,\n",
       "           3.42099327]]),\n",
       "   [[5869, 134], [5744, 259], [5806, 197]])},\n",
       " 'RMs': <Table length=96>\n",
       "               ra_dec_obj               ...  B_virtual_unc [int] \n",
       "                deg,deg                 ...           G          \n",
       "                SkyCoord                ...        float64       \n",
       " -------------------------------------- ... ---------------------\n",
       "  13.435603188518105,-36.52085482126486 ... 6.509146274242617e-07\n",
       "   13.94721616456157,-37.39177695547764 ... 9.496269210063449e-07\n",
       "   13.94364361583724,-37.40791331660457 ... 8.042128388058314e-07\n",
       "  14.204436272980644,-37.39254766269574 ... 6.390537419231622e-07\n",
       "  13.790594061627605,-36.29371272793049 ... 6.231801881191748e-07\n",
       "  14.434402565981435,-37.38322828028284 ... 6.325163933350428e-07\n",
       "   14.29259023423947,-36.64749518217101 ... 6.358571913864895e-07\n",
       " 14.219237322237518,-35.676914213530154 ... 6.431555976134862e-07\n",
       "  13.552061917252882,-36.27787793614699 ... 6.725364543613708e-07\n",
       "                                    ... ...                   ...\n",
       "  14.065164426570236,-34.77582189439052 ... 6.636991235573679e-07\n",
       " 13.848932421537565,-37.775569822515344 ... 6.550780942734283e-07\n",
       "  14.019845998968846,-36.54264069005178 ... 6.346803501601282e-07\n",
       "  13.94321821944745,-35.363387866462055 ... 6.315951586696662e-07\n",
       "  13.784232969428352,-37.36608503451113 ... 6.434506917452856e-07\n",
       "  13.560860622518776,-37.00825870302744 ... 6.541716357815495e-07\n",
       "   13.69707878009285,-36.90155419835811 ... 6.594220704525437e-07\n",
       "  13.700461446367404,-36.90861121072718 ... 6.701452204846243e-07\n",
       " 13.845397883384576,-35.360912422706626 ... 6.269873654065355e-07\n",
       "  13.838006852470311,-35.36461251584832 ... 6.555057695185326e-07,\n",
       " 'HVC': <Row index=22>\n",
       "       Name                    SkyCoord                 RAJ2000    DEJ2000    VLSR   e_VLSR   VGSR    Vdev    FWHM   TbFit     NH      e_NH     Area     dx      dy   Flag         HI          WW91 Simbad recno Cat       Nearest RM    \n",
       "                               deg,deg                                       km / s  km / s  km / s  km / s  km / s    K    1 / cm2  1 / cm2    deg2    deg     deg                                                           deg        \n",
       "      str15                    SkyCoord                  str11       str9   float32 float32 float32 float32 float32 float32 float32  float32  float32 float32 float32 str4       str19        str18  str6  int32 str4       float64      \n",
       " --------------- ------------------------------------ ----------- --------- ------- ------- ------- ------- ------- ------- -------- -------- ------- ------- ------- ---- ------------------ ----- ------ ----- ---- -------------------\n",
       " G298.0-81.7+127 13.71933120325877,-35.32777892243496 00 54 52.64 -35 19 40   127.5     2.2    99.7    95.0    19.2    0.24    5e+19    2e+18     1.5     2.2     2.6   H1 HVC 296.7-81.2+126 MS_MS Simbad  1114 GHVC 0.07007004808055556}"
      ]
     },
     "execution_count": 3,
     "metadata": {},
     "output_type": "execute_result"
    }
   ],
   "source": [
    "master_rm[-2]"
   ]
  },
  {
   "cell_type": "code",
   "execution_count": 9,
   "metadata": {},
   "outputs": [
    {
     "data": {
      "image/png": "[encoded data removed]",
      "text/plain": [
       "<Figure size 640x480 with 1 Axes>"
      ]
     },
     "metadata": {},
     "output_type": "display_data"
    }
   ],
   "source": [
    "import matplotlib.pyplot as plt\n",
    "from plotting import honours_plot as hplt\n",
    "\n",
    "hplt.plot_3hist(master_rm_flat[\"RM\"], master_rm_flat[\"RM\"]-master_rm_flat[\"interpolation_raw\"], master_rm_flat[\"interpolation_raw\"], \"Raw RMs\", \"Corrected RMs\", \"\", \"\", (-80, 80), xlabel=r\"Rotation Measure [$rad m^{-2}$]\", ylabel=\"Counts\", legend_size=12) # Virtual (single-point) magnetic field profile of filtered HVCs"
   ]
  },
  {
   "cell_type": "code",
   "execution_count": null,
   "metadata": {},
   "outputs": [],
   "source": []
  }
 ],
 "metadata": {
  "kernelspec": {
   "display_name": "base",
   "language": "python",
   "name": "python3"
  },
  "language_info": {
   "codemirror_mode": {
    "name": "ipython",
    "version": 3
   },
   "file_extension": ".py",
   "mimetype": "text/x-python",
   "name": "python",
   "nbconvert_exporter": "python",
   "pygments_lexer": "ipython3",
   "version": "3.11.3"
  }
 },
 "nbformat": 4,
 "nbformat_minor": 2
}
