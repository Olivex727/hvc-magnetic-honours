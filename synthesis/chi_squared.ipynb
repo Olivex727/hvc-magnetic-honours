{
 "cells": [
  {
   "cell_type": "markdown",
   "metadata": {},
   "source": [
    "# Chi-Squared for the toy model"
   ]
  },
  {
   "cell_type": "code",
   "execution_count": null,
   "metadata": {},
   "outputs": [],
   "source": []
  },
  {
   "cell_type": "markdown",
   "metadata": {},
   "source": [
    "# Chi-Squared for intra-statistical methods"
   ]
  },
  {
   "cell_type": "code",
   "execution_count": 5,
   "metadata": {},
   "outputs": [
    {
     "data": {
      "text/html": [
       "<div><i>Table length=10</i>\n",
       "<table id=\"table2117743823056\" class=\"table-striped table-bordered table-condensed\">\n",
       "<thead><tr><th>Name</th><th>Statistic</th><th>p_value</th><th>Statistic_x</th><th>Statistic_sgn</th><th>Statistic_diff</th><th>Significant</th><th>Sigma [meas]</th><th>Sigma [obsv]</th><th>Sigma [true]</th><th>Sigma [diff]</th><th>FWHM</th><th>Average [inner]</th><th>Average [outer]</th><th>Average [diff]</th><th>Avg Unc [inner]</th><th>Avg Unc [outer]</th><th>Avg Unc [diff]</th><th>KS unc</th><th>Sigma unc</th></tr></thead>\n",
       "<thead><tr><th>str15</th><th>float64</th><th>float64</th><th>float64</th><th>int32</th><th>float64</th><th>bool</th><th>float64</th><th>float64</th><th>float64</th><th>float64</th><th>float64</th><th>float64</th><th>float64</th><th>float64</th><th>float64</th><th>float64</th><th>float64</th><th>float64</th><th>float64</th></tr></thead>\n",
       "<tr><td>G038.7-37.3-241</td><td>0.2074738871132492</td><td>3.5194997048780594e-09</td><td>-3.515687526708854</td><td>-1</td><td>2.5503785393572116</td><td>True</td><td>1.5490103064419392</td><td>3.259633374868092</td><td>2.8680615072014404</td><td>-1.2004037875138898</td><td>-2.82673490096878</td><td>-1.3506194176296213</td><td>-2.560210571743284</td><td>1.2095911541136628</td><td>0.007003852876365774</td><td>0.0032940466469477043</td><td>0.007739812557552317</td><td>2.1815601020063724</td><td>0.39584818265424776</td></tr>\n",
       "<tr><td>G038.8-33.2-261</td><td>0.31066825775656326</td><td>1.3943532792837091e-08</td><td>-0.6963302660734451</td><td>-1</td><td>1.245611675868496</td><td>True</td><td>1.0172162310775188</td><td>2.2736826533710723</td><td>2.033446322742001</td><td>-0.3820916381721009</td><td>-0.8997570486063758</td><td>-0.056445222198439816</td><td>-1.1991611171284744</td><td>1.1427158949300344</td><td>0.010148842996047043</td><td>0.0006398107274504492</td><td>0.010168990703377291</td><td>1.4553771530792659</td><td>0.3247352108401835</td></tr>\n",
       "<tr><td>G043.4-30.4-230</td><td>0.24109469074986317</td><td>3.606854288675973e-11</td><td>-1.2589038059025925</td><td>-1</td><td>2.2846397376409495</td><td>True</td><td>1.3692498776485982</td><td>3.4139391636197307</td><td>3.1273207998949974</td><td>-0.3219533860094135</td><td>-0.7581422869405536</td><td>1.500776660653911</td><td>0.052073639648805965</td><td>1.448703021005105</td><td>0.007129552203987939</td><td>0.002050088534124988</td><td>0.007418448464951416</td><td>2.014296014920469</td><td>0.20428798707875953</td></tr>\n",
       "<tr><td>G261.5-34.5+237</td><td>0.2889454915944982</td><td>5.960798790546759e-08</td><td>-5.487954609053061</td><td>-1</td><td>7.064597943499491</td><td>True</td><td>8.363070544185819</td><td>12.507923833010205</td><td>9.300925205879048</td><td>5.8850039182248</td><td>13.858125191721438</td><td>-3.620108937244275</td><td>-7.837450117500442</td><td>4.217341180256167</td><td>0.4686915287204748</td><td>0.13939402347543306</td><td>0.4889810250664184</td><td>11.798096482827903</td><td>1.5115424552737302</td></tr>\n",
       "<tr><td>G262.4-26.2+143</td><td>0.21329644533869885</td><td>1.2224926075128765e-06</td><td>2.0255699650566523</td><td>-1</td><td>5.008552948039634</td><td>True</td><td>5.0791565705667105</td><td>9.744382180123484</td><td>8.315957708164293</td><td>-11.277167064796421</td><td>-26.555699055345446</td><td>4.0206400164297795</td><td>0.17353602031256268</td><td>3.8471039961172173</td><td>0.11708586076209412</td><td>0.0424759648413749</td><td>0.12455242422211704</td><td>7.193251686060157</td><td>8.325305008340273</td></tr>\n",
       "<tr><td>G264.6-53.3+224</td><td>0.3195887445887446</td><td>4.0730287570954555e-05</td><td>0.9062634882158793</td><td>1</td><td>-2.1167595348071426</td><td>True</td><td>3.023390368905306</td><td>4.983729795251348</td><td>3.9619027435421326</td><td>0.16014564072012671</td><td>0.377114164892079</td><td>0.8210758855823943</td><td>2.499888949334954</td><td>-1.67881306375256</td><td>0.16176219741916012</td><td>0.013152603813846201</td><td>0.1622960242919072</td><td>4.269997743503358</td><td>1.6315589302445745</td></tr>\n",
       "<tr><td>G267.1-38.4+263</td><td>0.3428488020518381</td><td>2.318648482161409e-11</td><td>12.715164074377505</td><td>-1</td><td>9.411860771074203</td><td>True</td><td>6.459354538810761</td><td>13.975229335809928</td><td>12.392892072895142</td><td>3.764226145036</td><td>8.86407518036035</td><td>3.935691120510584</td><td>0.5967725854698486</td><td>3.3389185350407353</td><td>0.2785684550874129</td><td>0.034675044112350076</td><td>0.2807182624162194</td><td>8.557843765816393</td><td>1.6623926332614178</td></tr>\n",
       "<tr><td>G271.6-48.4+297</td><td>0.12493061782161308</td><td>5.0905622111774864e-05</td><td>0.6348560731135152</td><td>-1</td><td>0.5747960130534552</td><td>True</td><td>1.656313599761247</td><td>3.0167700520864895</td><td>2.5214136523807156</td><td>0.14031802939919347</td><td>0.33042370830846285</td><td>1.0438949513719682</td><td>0.9506817070694712</td><td>0.09321324430249706</td><td>0.004907414793746411</td><td>0.003332420455528648</td><td>0.005931925998384243</td><td>2.360885532203072</td><td>0.3029318711354087</td></tr>\n",
       "<tr><td>G271.7-53.1+254</td><td>0.22697520500279825</td><td>0.0003403465863955054</td><td>0.11625707523884121</td><td>1</td><td>-2.3862454272636606</td><td>True</td><td>3.238101358605643</td><td>6.206104031068475</td><td>5.294376907232867</td><td>-0.6047436349837891</td><td>-1.4240624337647063</td><td>1.4552097774993904</td><td>1.9595738303089552</td><td>-0.5043640528095649</td><td>0.09698678376448278</td><td>0.02527784255573244</td><td>0.10022677062168041</td><td>4.605857104115553</td><td>1.1265402301204932</td></tr>\n",
       "<tr><td>G282.3-38.3+117</td><td>0.277823006349348</td><td>8.58037227199818e-27</td><td>-1.2426193078764725</td><td>1</td><td>-3.4648415300986937</td><td>True</td><td>4.440559986447358</td><td>6.711461315863094</td><td>5.032408966001214</td><td>-1.9662738656700256</td><td>-4.630221112900268</td><td>-3.5925312924892405</td><td>-0.9148853822952732</td><td>-2.6776459101939674</td><td>0.03965139483683959</td><td>0.007828831318331808</td><td>0.04041687410374338</td><td>6.278841551975273</td><td>0.4601800929005239</td></tr>\n",
       "</table></div>"
      ],
      "text/plain": [
       "<Table length=10>\n",
       "      Name           Statistic      ...       KS unc            Sigma unc     \n",
       "     str15            float64       ...      float64             float64      \n",
       "--------------- ------------------- ... ------------------ -------------------\n",
       "G038.7-37.3-241  0.2074738871132492 ... 2.1815601020063724 0.39584818265424776\n",
       "G038.8-33.2-261 0.31066825775656326 ... 1.4553771530792659  0.3247352108401835\n",
       "G043.4-30.4-230 0.24109469074986317 ...  2.014296014920469 0.20428798707875953\n",
       "G261.5-34.5+237  0.2889454915944982 ... 11.798096482827903  1.5115424552737302\n",
       "G262.4-26.2+143 0.21329644533869885 ...  7.193251686060157   8.325305008340273\n",
       "G264.6-53.3+224  0.3195887445887446 ...  4.269997743503358  1.6315589302445745\n",
       "G267.1-38.4+263  0.3428488020518381 ...  8.557843765816393  1.6623926332614178\n",
       "G271.6-48.4+297 0.12493061782161308 ...  2.360885532203072  0.3029318711354087\n",
       "G271.7-53.1+254 0.22697520500279825 ...  4.605857104115553  1.1265402301204932\n",
       "G282.3-38.3+117   0.277823006349348 ...  6.278841551975273  0.4601800929005239"
      ]
     },
     "execution_count": 5,
     "metadata": {},
     "output_type": "execute_result"
    }
   ],
   "source": [
    "import sys\n",
    "sys.path.append('C://Users/olive/OneDrive - Australian National University/Honours-Olivia/Programs/honours/standard_modules')\n",
    "sys.path.append('C://Users/olive/OneDrive - Australian National University/Honours-Olivia/Programs/honours/project')\n",
    "\n",
    "from collation import collator, hvc_snapshot as snap, collation_tools as ct\n",
    "from synthesis import hvc_looper as hvcl, magnetic_field_derivation as mfd, KStest, uncertainty_subtraction as us\n",
    "\n",
    "results = ct.read_processed(\"../data_processed/results_final_filtered\")\n",
    "results"
   ]
  },
  {
   "cell_type": "code",
   "execution_count": 6,
   "metadata": {},
   "outputs": [
    {
     "name": "stdout",
     "output_type": "stream",
     "text": [
      "KS-EDF Reduced Chi-Squared:    0.13776398010171412\n",
      "Var. Sub. Reduced Chi-Squared: 14.2513911127433\n"
     ]
    }
   ],
   "source": [
    "import numpy as np\n",
    "\n",
    "def chisq(expected, observed, uncertainty, params=0):\n",
    "    SSQ = np.sum(((expected - observed)/uncertainty)**2)\n",
    "    df = len(expected) - params\n",
    "    return SSQ / df\n",
    "    \n",
    "\n",
    "# KS-EDF\n",
    "chisq_KS = chisq(results[\"Average [diff]\"], results[\"Statistic_diff\"], results[\"KS unc\"])\n",
    "\n",
    "# Variance Subtraction\n",
    "chisq_sigma = chisq(results[\"Average [diff]\"], results[\"Sigma [diff]\"], results[\"Sigma unc\"])\n",
    "\n",
    "print(\"KS-EDF Reduced Chi-Squared:    \"+str(chisq_KS))\n",
    "print(\"Var. Sub. Reduced Chi-Squared: \"+str(chisq_sigma))"
   ]
  },
  {
   "cell_type": "code",
   "execution_count": null,
   "metadata": {},
   "outputs": [],
   "source": []
  }
 ],
 "metadata": {
  "kernelspec": {
   "display_name": "base",
   "language": "python",
   "name": "python3"
  },
  "language_info": {
   "codemirror_mode": {
    "name": "ipython",
    "version": 3
   },
   "file_extension": ".py",
   "mimetype": "text/x-python",
   "name": "python",
   "nbconvert_exporter": "python",
   "pygments_lexer": "ipython3",
   "version": "3.11.3"
  }
 },
 "nbformat": 4,
 "nbformat_minor": 2
}
