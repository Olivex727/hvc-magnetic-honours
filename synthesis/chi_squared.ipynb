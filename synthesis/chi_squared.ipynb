{
 "cells": [
  {
   "cell_type": "markdown",
   "metadata": {},
   "source": [
    "# Chi-Squared for the toy model"
   ]
  },
  {
   "cell_type": "code",
   "execution_count": null,
   "metadata": {},
   "outputs": [],
   "source": []
  },
  {
   "cell_type": "markdown",
   "metadata": {},
   "source": [
    "# Chi-Squared for intra-statistical methods"
   ]
  },
  {
   "cell_type": "code",
   "execution_count": 1,
   "metadata": {},
   "outputs": [
    {
     "data": {
      "text/html": [
       "<div><i>Table length=10</i>\n",
       "<table id=\"table2393913829712\" class=\"table-striped table-bordered table-condensed\">\n",
       "<thead><tr><th>Name</th><th>Significant</th><th>Sigma [diff]</th><th>KS-EDF</th><th>KS-EDF Unc</th><th>Var. Sub.</th><th>Var. Sub. Unc</th><th>Wgt. Mean</th><th>Wgt. Mean Unc</th></tr></thead>\n",
       "<thead><tr><th>str15</th><th>bool</th><th>float64</th><th>float64</th><th>float64</th><th>float64</th><th>float64</th><th>float64</th><th>float64</th></tr></thead>\n",
       "<tr><td>G038.7-37.3-241</td><td>True</td><td>-7.5559356070774975</td><td>2.5627908299515854</td><td>1.88412670065244</td><td>-1.148502189258788</td><td>1.1190574845977512</td><td>1.1674538475147485</td><td>1.0657860485189359</td></tr>\n",
       "<tr><td>G038.8-33.2-261</td><td>True</td><td>-3.6485845077294528</td><td>1.2506166058012396</td><td>1.2600487397765774</td><td>-0.3648584367043805</td><td>0.7493263494623595</td><td>1.1282560140867086</td><td>0.704252829047231</td></tr>\n",
       "<tr><td>G043.4-30.4-230</td><td>True</td><td>-2.3590579203581576</td><td>2.3022435957955607</td><td>1.7513719025187582</td><td>-0.30911793851032654</td><td>0.9339203862139179</td><td>1.6134534179160942</td><td>0.9265650673579282</td></tr>\n",
       "<tr><td>G133.5-75.6-294</td><td>True</td><td>-6.847658270169869</td><td>1.7903369992621851</td><td>1.5393504772675175</td><td>-1.2391001157644457</td><td>1.2899811105917645</td><td>0.7605065031791882</td><td>1.2709874958726377</td></tr>\n",
       "<tr><td>G261.5-34.5+237</td><td>True</td><td>6.542074154087057</td><td>7.082428471099994</td><td>8.702837736871976</td><td>3.8843565899473718</td><td>4.5469259746231945</td><td>3.39398037916118</td><td>4.392547110718694</td></tr>\n",
       "<tr><td>G262.4-26.2+143</td><td>True</td><td>-28.767857863402234</td><td>5.011555956863386</td><td>6.126485831373338</td><td>-10.931786009402783</td><td>8.641045534926972</td><td>3.9435900254244936</td><td>2.770054074410643</td></tr>\n",
       "<tr><td>G264.6-53.3+224</td><td>True</td><td>0.35850194470109464</td><td>-2.1209304891602234</td><td>3.442969935077107</td><td>0.11352562020407306</td><td>2.5798847296388714</td><td>-2.1793169469598506</td><td>2.2611730951018925</td></tr>\n",
       "<tr><td>G267.1-38.4+263</td><td>True</td><td>8.787618562445854</td><td>9.414161962255921</td><td>6.694791528587984</td><td>3.8382701308235028</td><td>3.729217719026222</td><td>3.4833753468970174</td><td>3.2935590374354797</td></tr>\n",
       "<tr><td>G271.6-48.4+297</td><td>True</td><td>0.7298893876279617</td><td>0.591631031100386</td><td>1.9838466678920055</td><td>0.12607179978284094</td><td>1.2372407781992796</td><td>0.07668164585606313</td><td>1.2092050342754088</td></tr>\n",
       "<tr><td>G271.7-53.1+254</td><td>True</td><td>-1.788038440282012</td><td>-2.403763042053307</td><td>3.6027005932042413</td><td>-0.5662121946116155</td><td>2.4305884031871714</td><td>-0.017548541740356634</td><td>2.2199984306086527</td></tr>\n",
       "</table></div>"
      ],
      "text/plain": [
       "<Table length=10>\n",
       "      Name      Significant ...       Wgt. Mean         Wgt. Mean Unc   \n",
       "     str15          bool    ...        float64             float64      \n",
       "--------------- ----------- ... --------------------- ------------------\n",
       "G038.7-37.3-241        True ...    1.1674538475147485 1.0657860485189359\n",
       "G038.8-33.2-261        True ...    1.1282560140867086  0.704252829047231\n",
       "G043.4-30.4-230        True ...    1.6134534179160942 0.9265650673579282\n",
       "G133.5-75.6-294        True ...    0.7605065031791882 1.2709874958726377\n",
       "G261.5-34.5+237        True ...      3.39398037916118  4.392547110718694\n",
       "G262.4-26.2+143        True ...    3.9435900254244936  2.770054074410643\n",
       "G264.6-53.3+224        True ...   -2.1793169469598506 2.2611730951018925\n",
       "G267.1-38.4+263        True ...    3.4833753468970174 3.2935590374354797\n",
       "G271.6-48.4+297        True ...   0.07668164585606313 1.2092050342754088\n",
       "G271.7-53.1+254        True ... -0.017548541740356634 2.2199984306086527"
      ]
     },
     "execution_count": 1,
     "metadata": {},
     "output_type": "execute_result"
    }
   ],
   "source": [
    "import sys\n",
    "sys.path.append('C://Users/olive/OneDrive - Australian National University/Honours-Olivia/Programs/honours/standard_modules')\n",
    "sys.path.append('C://Users/olive/OneDrive - Australian National University/Honours-Olivia/Programs/honours/project')\n",
    "\n",
    "from collation import collator, hvc_snapshot as snap, collation_tools as ct\n",
    "from synthesis import hvc_looper as hvcl, magnetic_field_derivation as mfd, KStest, uncertainty_subtraction as us\n",
    "\n",
    "results = ct.read_processed(\"../data_processed/results_post_RM\")\n",
    "results"
   ]
  },
  {
   "cell_type": "markdown",
   "metadata": {},
   "source": [
    "## Coverage"
   ]
  },
  {
   "cell_type": "code",
   "execution_count": 9,
   "metadata": {},
   "outputs": [
    {
     "name": "stdout",
     "output_type": "stream",
     "text": [
      "60\n"
     ]
    }
   ],
   "source": [
    "import numpy as np\n",
    "\n",
    "def flatten(xss):\n",
    "    return [x for xs in xss for x in xs]\n",
    "\n",
    "# Must be absolutes\n",
    "def agreement(set1, set1u, set2, set2u):\n",
    "    return flatten([abs(abs(set1) - abs(set2))/set1u, abs(abs(set1) - abs(set2))/set2u])\n",
    "\n",
    "agree = agreement(results[\"KS-EDF\"], results[\"KS-EDF Unc\"], results[\"Var. Sub.\"], results[\"Var. Sub. Unc\"]) + agreement(results[\"KS-EDF\"], results[\"KS-EDF Unc\"], results[\"Wgt. Mean\"], results[\"Wgt. Mean Unc\"]) + agreement(results[\"Var. Sub.\"], results[\"Var. Sub. Unc\"], results[\"Wgt. Mean\"], results[\"Wgt. Mean Unc\"])\n",
    "\n",
    "print(len(agree))"
   ]
  },
  {
   "cell_type": "code",
   "execution_count": 13,
   "metadata": {},
   "outputs": [
    {
     "data": {
      "image/png": "[encoded data removed]",
      "text/plain": [
       "<Figure size 1200x100 with 1 Axes>"
      ]
     },
     "metadata": {},
     "output_type": "display_data"
    }
   ],
   "source": [
    "import matplotlib.pyplot as plt\n",
    "\n",
    "plt.figure(figsize=(12,1))\n",
    "plt.boxplot(agree, vert=False, showmeans=True,widths=0.6, sym=\"x\")\n",
    "plt.yticks([])\n",
    "#plt.axvline(8, c='r', linestyle='--', label=r\"Smith Cloud\")\n",
    "plt.xlabel(r\"Sigma agreement between all methods and HVCs\")\n",
    "#plt.xscale('log')\n",
    "#plt.xlim(0.1, 15)\n",
    "#plt.legend()\n",
    "plt.show()"
   ]
  },
  {
   "cell_type": "markdown",
   "metadata": {},
   "source": [
    "## Chi-Squared (Not usable for intra-methodological comparison)"
   ]
  },
  {
   "cell_type": "code",
   "execution_count": 6,
   "metadata": {},
   "outputs": [
    {
     "name": "stdout",
     "output_type": "stream",
     "text": [
      "KS-EDF Reduced Chi-Squared:    0.13776398010171412\n",
      "Var. Sub. Reduced Chi-Squared: 14.2513911127433\n"
     ]
    }
   ],
   "source": [
    "import numpy as np\n",
    "\n",
    "def chisq(expected, observed, uncertainty, params=0):\n",
    "    SSQ = np.sum(((expected - observed)/uncertainty)**2)\n",
    "    df = len(expected) - params\n",
    "    return SSQ / df\n",
    "    \n",
    "\n",
    "# KS-EDF\n",
    "chisq_KS = chisq(results[\"Average [diff]\"], results[\"Statistic_diff\"], results[\"KS unc\"])\n",
    "\n",
    "# Variance Subtraction\n",
    "chisq_sigma = chisq(results[\"Average [diff]\"], results[\"Sigma [diff]\"], results[\"Sigma unc\"])\n",
    "\n",
    "print(\"KS-EDF Reduced Chi-Squared:    \"+str(chisq_KS))\n",
    "print(\"Var. Sub. Reduced Chi-Squared: \"+str(chisq_sigma))"
   ]
  },
  {
   "cell_type": "markdown",
   "metadata": {},
   "source": [
    "# Foreground Statistical Analysis\n",
    "\n",
    "## $R^2$ Correlation Tests\n",
    "\n",
    "$R^2$ values should only compare interpolation with fourier corrected interpolations."
   ]
  },
  {
   "cell_type": "code",
   "execution_count": 14,
   "metadata": {},
   "outputs": [
    {
     "name": "stdout",
     "output_type": "stream",
     "text": [
      "=== WHOLE-SKY DATA COLLATION ===\n",
      "Gathering data ...\n",
      "Getting H-alpha emission\n",
      "Extracting RMs\n",
      "Collating RMs\n",
      "Getting HVC location data\n",
      "Getting HI emission\n",
      "Interpolating\n",
      "Collation complete\n",
      "=== WHOLE-SKY DATA COLLATION ===\n",
      "Gathering data ...\n",
      "Getting H-alpha emission\n",
      "Extracting RMs\n",
      "Collating RMs\n",
      "Getting HVC location data\n",
      "Getting HI emission\n",
      "Interpolating\n",
      "Collation complete\n",
      "=== WHOLE-SKY DATA COLLATION ===\n",
      "Gathering data ...\n",
      "Getting H-alpha emission\n",
      "Extracting RMs\n",
      "Collating RMs\n",
      "Getting HVC location data\n",
      "Getting HI emission\n",
      "Interpolating\n",
      "Collation complete\n",
      "=== WHOLE-SKY DATA COLLATION ===\n",
      "Gathering data ...\n",
      "Getting H-alpha emission\n",
      "Extracting RMs\n",
      "Collating RMs\n",
      "Getting HVC location data\n",
      "Getting HI emission\n",
      "Interpolating\n",
      "Collation complete\n"
     ]
    }
   ],
   "source": [
    "import sys\n",
    "sys.path.append('C://Users/olive/OneDrive - Australian National University/Honours-Olivia/Programs/honours/standard_modules')\n",
    "sys.path.append('C://Users/olive/OneDrive - Australian National University/Honours-Olivia/Programs/honours/project')\n",
    "\n",
    "from collation import collator, collation_tools as ct\n",
    "from plotting import honours_plot as hplt\n",
    "import matplotlib.pyplot as plt\n",
    "\n",
    "collated_data_1 = collator.data_whole_sky(False, load_data=[\"../data_processed/proc_rms\",\"../data_processed/proc_hvcs\"], h1_img=\"../data_catalog/hi4pi-hvc-nhi-car.fits\")\n",
    "\n",
    "collated_data_2 = collator.data_whole_sky(False, load_data=[\"../data_processed/proc_rms_annulus\",\"../data_processed/proc_hvcs\"], h1_img=\"../data_catalog/hi4pi-hvc-nhi-car.fits\")\n",
    "\n",
    "collated_data_3 = collator.data_whole_sky(False, load_data=[\"../data_processed/proc_rms_craig_annulus\",\"../data_processed/proc_hvcs\"], h1_img=\"../data_catalog/hi4pi-hvc-nhi-car.fits\")\n",
    "\n",
    "collated_data_4 = collator.data_whole_sky(False, load_data=[\"../data_processed/proc_rms_annulus_compare\",\"../data_processed/proc_hvcs\"], h1_img=\"../data_catalog/hi4pi-hvc-nhi-car.fits\")\n",
    "\n",
    "# Key:\n",
    "# 1 = Bandpass\n",
    "# 2 = Annulus\n",
    "# 3 = Craig's Annulus\n",
    "# 4 = Annulus Comparison (Craig Annulus = Corrected)"
   ]
  },
  {
   "cell_type": "code",
   "execution_count": 19,
   "metadata": {},
   "outputs": [
    {
     "name": "stdout",
     "output_type": "stream",
     "text": [
      "Interpolation vs. Crosshatch-Bandpassed:  0.9278674022265158\n",
      "Interpolation vs. Annulus-Bandpassed:     0.0076113610475680715\n",
      "Interpolation vs. Annulus-Convolved:      0.003865686865746511\n",
      "Annulus-Bandpassed vs. Annulus-Convolved: 1.389374578886861e-06\n"
     ]
    }
   ],
   "source": [
    "from scipy.stats import pearsonr as pr\n",
    "import numpy as np\n",
    "\n",
    "def drop_nan_xy(x,y): return x[~np.isnan(y)]\n",
    "def drop_nan(x): return x[~np.isnan(x)]\n",
    "\n",
    "print(\"Interpolation vs. Crosshatch-Bandpassed:  \"+str(pr(collated_data_1[\"RMs\"][\"interpolation_raw\"], collated_data_1[\"RMs\"][\"interpolation_cor\"]).statistic ** 2))\n",
    "print(\"Interpolation vs. Annulus-Bandpassed:     \"+str(pr(collated_data_2[\"RMs\"][\"interpolation_raw\"], collated_data_2[\"RMs\"][\"interpolation_cor\"]).statistic ** 2))\n",
    "print(\"Interpolation vs. Annulus-Convolved:      \"\n",
    "      + str(pr(\n",
    "            drop_nan_xy(collated_data_3[\"RMs\"][\"interpolation_raw\"], collated_data_3[\"RMs\"][\"interpolation_cor\"]),\n",
    "            drop_nan(collated_data_3[\"RMs\"][\"interpolation_cor\"])\n",
    "            ).statistic ** 2))\n",
    "print(\"Annulus-Bandpassed vs. Annulus-Convolved: \"\n",
    "      +str(pr(\n",
    "            drop_nan_xy(collated_data_4[\"RMs\"][\"interpolation_raw\"], collated_data_4[\"RMs\"][\"interpolation_cor\"]),\n",
    "            drop_nan(collated_data_4[\"RMs\"][\"interpolation_cor\"])\n",
    "            ).statistic ** 2))"
   ]
  },
  {
   "cell_type": "markdown",
   "metadata": {},
   "source": [
    "## Chi-Squared Normal Distribution Fitting"
   ]
  },
  {
   "cell_type": "code",
   "execution_count": 62,
   "metadata": {},
   "outputs": [
    {
     "name": "stdout",
     "output_type": "stream",
     "text": [
      "Straight Interpolation Residuals - std: 92.84404478273123, mean: 3.365322842703443\n",
      "Crosshatch-Bandpassed Residuals -  std: 92.14267842053354, mean: 3.327332396895\n",
      "Annulus-Bandpassed Residuals -     std: 100.52490344900797, mean: 18.91406859892236\n",
      "Annulus-Convolved Residuals -      std: 75.87139888994481, mean: 17.865584857837078\n"
     ]
    }
   ],
   "source": [
    "from scipy.stats import chisquare as csq\n",
    "from scipy.stats import cauchy\n",
    "import numpy as np\n",
    "\n",
    "def get_hist(res):\n",
    "    return np.histogram(res, range=(-100,100), bins=100, density=True)\n",
    "\n",
    "def mad(res):\n",
    "    mean = np.mean(res)\n",
    "    sumr = 0\n",
    "    for r in res:\n",
    "        sumr = sumr + np.abs(r-mean)\n",
    "    return sumr / len(res)\n",
    "\n",
    "def get_fit(res):\n",
    "    hist = get_hist(res)\n",
    "    std = mad(res) /1.5\n",
    "    normarr = []\n",
    "\n",
    "    for i in range(len(hist[0])):\n",
    "        normarr.append(cauchy.cdf(hist[1][i+1], loc=0, scale=std) - cauchy.cdf(hist[1][i], loc=0, scale=std))\n",
    "\n",
    "    plt.hist(hist[1][:-1], hist[1], weights=normarr, color=[0.8, 0.1, 0.1, 0.4])\n",
    "    plt.hist(hist[1][:-1], hist[1], weights=hist[0], color=[0.1, 0.1, 0.8, 0.4])\n",
    "    plt.show()\n",
    "\n",
    "res1 = drop_nan((collated_data_1[\"RMs\"][\"RM\"] - collated_data_1[\"RMs\"][\"interpolation_raw\"]).data)\n",
    "res2 = drop_nan((collated_data_1[\"RMs\"][\"RM\"] - collated_data_1[\"RMs\"][\"interpolation_cor\"]).data)\n",
    "res3 = drop_nan((collated_data_2[\"RMs\"][\"RM\"] - collated_data_2[\"RMs\"][\"interpolation_cor\"]).data)\n",
    "res4 = drop_nan((collated_data_3[\"RMs\"][\"RM\"] - collated_data_3[\"RMs\"][\"interpolation_cor\"]).data)\n",
    "\n",
    "#get_fit(res1)\n",
    "\n",
    "print(\"Straight Interpolation Residuals - std: \"+str(np.std(res1))+\", mean: \"+str(np.mean(res1)))\n",
    "print(\"Crosshatch-Bandpassed Residuals -  std: \"+str(np.std(res2))+\", mean: \"+str(np.mean(res2)))\n",
    "print(\"Annulus-Bandpassed Residuals -     std: \"+str(np.std(res3))+\", mean: \"+str(np.mean(res3)))\n",
    "print(\"Annulus-Convolved Residuals -      std: \"+str(np.std(res4))+\", mean: \"+str(np.mean(res4)))"
   ]
  },
  {
   "cell_type": "markdown",
   "metadata": {},
   "source": [
    "# Check KS Test Correlations"
   ]
  },
  {
   "cell_type": "code",
   "execution_count": 1,
   "metadata": {},
   "outputs": [
    {
     "name": "stdout",
     "output_type": "stream",
     "text": [
      "=== WHOLE-SKY DATA COLLATION ===\n",
      "Gathering data ...\n",
      "Getting H-alpha emission\n",
      "Extracting RMs\n",
      "Getting HVC location data\n",
      "Getting HI emission\n",
      "Interpolating\n",
      "Collation complete\n",
      "=== HVC RM LOADER ===\n",
      "Taking HVC snapshots\n",
      "Process complete\n"
     ]
    },
    {
     "data": {
      "text/html": [
       "<div><i>Table length=13</i>\n",
       "<table id=\"table1479557003280\" class=\"table-striped table-bordered table-condensed\">\n",
       "<thead><tr><th>Name</th><th>Statistic</th><th>p_value</th><th>Statistic_x</th><th>Statistic_sgn</th><th>Statistic_diff</th><th>Significant</th></tr></thead>\n",
       "<thead><tr><th>str15</th><th>float64</th><th>float64</th><th>float64</th><th>int32</th><th>float64</th><th>bool</th></tr></thead>\n",
       "<tr><td>G038.7-37.3-241</td><td>0.2074738871132492</td><td>3.5194997048780594e-09</td><td>-23.129523665567874</td><td>-1</td><td>16.86046632442212</td><td>True</td></tr>\n",
       "<tr><td>G038.8-33.2-261</td><td>0.31066825775656326</td><td>1.3943532792837091e-08</td><td>-6.963302929232215</td><td>-1</td><td>12.50616654023725</td><td>True</td></tr>\n",
       "<tr><td>G043.4-30.4-230</td><td>0.24109469074986317</td><td>3.606854288675973e-11</td><td>-9.607423653882606</td><td>-1</td><td>17.56975352329457</td><td>True</td></tr>\n",
       "<tr><td>G089.0-64.7-311</td><td>0.3738140417457306</td><td>0.015075834341180974</td><td>-17.51573024976091</td><td>1</td><td>-12.06027479430546</td><td>False</td></tr>\n",
       "<tr><td>G133.5-75.6-294</td><td>0.46130268199233715</td><td>4.570648166268751e-08</td><td>-5.571498219868521</td><td>-1</td><td>9.893967245596944</td><td>True</td></tr>\n",
       "<tr><td>G248.9+36.8+181</td><td>0.08070447918650822</td><td>0.452664079053446</td><td>-9.22561988896952</td><td>-1</td><td>1.9355412721916405</td><td>False</td></tr>\n",
       "<tr><td>G261.5-34.5+237</td><td>0.2889454915944982</td><td>5.960798790546759e-08</td><td>-9.242870775459728</td><td>-1</td><td>11.928300395711442</td><td>True</td></tr>\n",
       "<tr><td>G262.4-26.2+143</td><td>0.21329644533869885</td><td>1.2224926075128765e-06</td><td>5.330447266073939</td><td>-1</td><td>13.188305123931798</td><td>True</td></tr>\n",
       "<tr><td>G264.6-53.3+224</td><td>0.3195887445887446</td><td>4.0730287570954555e-05</td><td>2.861884589161079</td><td>1</td><td>-6.697674970398481</td><td>True</td></tr>\n",
       "<tr><td>G267.1-38.4+263</td><td>0.3428488020518381</td><td>2.318648482161409e-11</td><td>29.111033886656486</td><td>-1</td><td>21.553476329098928</td><td>True</td></tr>\n",
       "<tr><td>G271.6-48.4+297</td><td>0.12493061782161308</td><td>5.0905622111774864e-05</td><td>3.6754826316026303</td><td>-1</td><td>3.4252323813523766</td><td>True</td></tr>\n",
       "<tr><td>G271.7-53.1+254</td><td>0.22697520500279825</td><td>0.0003403465863955054</td><td>0.3671275918463621</td><td>1</td><td>-7.590830366111597</td><td>True</td></tr>\n",
       "<tr><td>G323.0+25.6+122</td><td>0.09850367024280068</td><td>0.015086808841105354</td><td>8.268268804363913</td><td>-1</td><td>3.5135140496091566</td><td>False</td></tr>\n",
       "</table></div>"
      ],
      "text/plain": [
       "<Table length=13>\n",
       "      Name           Statistic      ...   Statistic_diff   Significant\n",
       "     str15            float64       ...      float64           bool   \n",
       "--------------- ------------------- ... ------------------ -----------\n",
       "G038.7-37.3-241  0.2074738871132492 ...  16.86046632442212        True\n",
       "G038.8-33.2-261 0.31066825775656326 ...  12.50616654023725        True\n",
       "G043.4-30.4-230 0.24109469074986317 ...  17.56975352329457        True\n",
       "G089.0-64.7-311  0.3738140417457306 ... -12.06027479430546       False\n",
       "G133.5-75.6-294 0.46130268199233715 ...  9.893967245596944        True\n",
       "G248.9+36.8+181 0.08070447918650822 ... 1.9355412721916405       False\n",
       "G261.5-34.5+237  0.2889454915944982 ... 11.928300395711442        True\n",
       "G262.4-26.2+143 0.21329644533869885 ... 13.188305123931798        True\n",
       "G264.6-53.3+224  0.3195887445887446 ... -6.697674970398481        True\n",
       "G267.1-38.4+263  0.3428488020518381 ... 21.553476329098928        True\n",
       "G271.6-48.4+297 0.12493061782161308 ... 3.4252323813523766        True\n",
       "G271.7-53.1+254 0.22697520500279825 ... -7.590830366111597        True\n",
       "G323.0+25.6+122 0.09850367024280068 ... 3.5135140496091566       False"
      ]
     },
     "execution_count": 1,
     "metadata": {},
     "output_type": "execute_result"
    }
   ],
   "source": [
    "import sys\n",
    "sys.path.append('C://Users/olive/OneDrive - Australian National University/Honours-Olivia/Programs/honours/standard_modules')\n",
    "sys.path.append('C://Users/olive/OneDrive - Australian National University/Honours-Olivia/Programs/honours/project')\n",
    "\n",
    "from collation import collator, hvc_snapshot as snap, collation_tools as ct\n",
    "from synthesis import hvc_looper as hvcl, magnetic_field_derivation as mfd, KStest, uncertainty_subtraction as us\n",
    "\n",
    "collated_data = collator.data_whole_sky(False, load_data=[\"../data_processed/proc_rms\",\"../data_processed/proc_hvcs\"], h1_img=\"../data_catalog/hi4pi-hvc-nhi-car.fits\", override_RMs=True)\n",
    "\n",
    "master_hvcs = hvcl.load_HVCs(collated_data, hvc_indicies=[0, 1, 2, 3, 4, 5, 6, 7, 9, 10, 12, 13, 24])\n",
    "\n",
    "results = ct.read_processed(\"../data_processed/hvc_KS_tests/hvc_KS_RM_average\")\n",
    "results"
   ]
  },
  {
   "cell_type": "code",
   "execution_count": 12,
   "metadata": {},
   "outputs": [
    {
     "name": "stdout",
     "output_type": "stream",
     "text": [
      "R^2 of KS Statistic v. Gal. Lat.: 0.6038583499306579\n",
      "R^2 of KS p_value v. Gal. Lat.:   0.44878319072422423\n",
      "R^2 of KS Statistic v. VGSR:      0.008367183626360204\n",
      "R^2 of KS Statistic v. VLSR:      0.030226871787027466\n"
     ]
    }
   ],
   "source": [
    "from astropy.table import hstack, vstack\n",
    "from scipy.stats import pearsonr as pr\n",
    "import numpy as np\n",
    "\n",
    "hvcs = []\n",
    "for hvc in master_hvcs:\n",
    "    hvcs.append(hvc['HVC'])\n",
    "\n",
    "hvcs = vstack(hvcs)\n",
    "\n",
    "combined = hstack([results, hvcs])\n",
    "\n",
    "statistic1 = pr(combined[\"Statistic\"], combined[\"SkyCoord\"].galactic.b).statistic ** 2\n",
    "statistic2 = pr(combined[\"p_value\"], combined[\"SkyCoord\"].galactic.b).statistic ** 2\n",
    "statistic3 = pr(combined[\"p_value\"], combined[\"VGSR\"]).statistic ** 2\n",
    "statistic4 = pr(combined[\"p_value\"], combined[\"VLSR\"]).statistic ** 2\n",
    "print(\"R^2 of KS Statistic v. Gal. Lat.: \" + str(statistic1))\n",
    "print(\"R^2 of KS p_value v. Gal. Lat.:   \" + str(statistic2))\n",
    "print(\"R^2 of KS Statistic v. VGSR:      \" + str(statistic3))\n",
    "print(\"R^2 of KS Statistic v. VLSR:      \" + str(statistic4))"
   ]
  },
  {
   "cell_type": "code",
   "execution_count": null,
   "metadata": {},
   "outputs": [],
   "source": []
  }
 ],
 "metadata": {
  "kernelspec": {
   "display_name": "base",
   "language": "python",
   "name": "python3"
  },
  "language_info": {
   "codemirror_mode": {
    "name": "ipython",
    "version": 3
   },
   "file_extension": ".py",
   "mimetype": "text/x-python",
   "name": "python",
   "nbconvert_exporter": "python",
   "pygments_lexer": "ipython3",
   "version": "undefined.undefined.undefined"
  }
 },
 "nbformat": 4,
 "nbformat_minor": 2
}
