{
 "cells": [
  {
   "cell_type": "code",
   "execution_count": 1,
   "metadata": {},
   "outputs": [
    {
     "name": "stdout",
     "output_type": "stream",
     "text": [
      "=== HVC RM LOADER ===\n",
      "Taking HVC snapshots\n",
      "Process complete\n"
     ]
    },
    {
     "data": {
      "text/plain": [
       "3072"
      ]
     },
     "execution_count": 1,
     "metadata": {},
     "output_type": "execute_result"
    }
   ],
   "source": [
    "import sys\n",
    "sys.path.append('C://Users/olive/OneDrive - Australian National University/Honours-Olivia/Programs/honours/standard_modules')\n",
    "sys.path.append('C://Users/olive/OneDrive - Australian National University/Honours-Olivia/Programs/honours/project')\n",
    "\n",
    "from collation import collator, hvc_snapshot as snap, collation_tools as ct\n",
    "from synthesis import hvc_looper as hvcl, magnetic_field_derivation as mfd, KStest, uncertainty_subtraction as us\n",
    "\n",
    "#collated_data = collator.data_whole_sky(False, load_data=[\"../data_processed/proc_rms\",\"../data_processed/proc_hvcs\"], h1_img=\"../data_catalog/hi4pi-hvc-nhi-car.fits\", override_RMs=True)\n",
    "\n",
    "master_hvcs = hvcl.load_HVCs([], [], \"../data_processed/toy_model/toy_hvcs/\", toy_override=True)\n",
    "\n",
    "results = ct.read_processed(\"../data_processed/toy_model/wgm_results\")\n",
    "\n",
    "len(master_hvcs)"
   ]
  },
  {
   "cell_type": "code",
   "execution_count": 2,
   "metadata": {},
   "outputs": [],
   "source": [
    "import numpy as np"
   ]
  },
  {
   "cell_type": "code",
   "execution_count": 4,
   "metadata": {},
   "outputs": [
    {
     "name": "stderr",
     "output_type": "stream",
     "text": [
      "C:\\/Users/olive/OneDrive - Australian National University/Honours-Olivia/Programs/honours/project\\synthesis.py:429: RuntimeWarning: invalid value encountered in sqrt\n",
      "  uncert.append({\"Sigma [meas]\":meas, \"Sigma [obsv]\":obsv, \"Sigma [true]\": np.sqrt(obsv**2 - meas**2)})\n",
      "C:\\/Users/olive/OneDrive - Australian National University/Honours-Olivia/Programs/honours/project\\synthesis.py:429: RuntimeWarning: invalid value encountered in sqrt\n",
      "  uncert.append({\"Sigma [meas]\":meas, \"Sigma [obsv]\":obsv, \"Sigma [true]\": np.sqrt(obsv**2 - meas**2)})\n"
     ]
    },
    {
     "data": {
      "text/html": [
       "&lt;Column name=&apos;Sigma [meas]&apos; dtype=&apos;float64&apos; length=3072&gt;\n",
       "<table>\n",
       "<tr><td>0.8910528192480175</td></tr>\n",
       "<tr><td>0.8375052614630897</td></tr>\n",
       "<tr><td>0.7636317655746471</td></tr>\n",
       "<tr><td>0.8180791567349067</td></tr>\n",
       "<tr><td>0.875084546819616</td></tr>\n",
       "<tr><td>0.8184384611938141</td></tr>\n",
       "<tr><td>0.7636317655746472</td></tr>\n",
       "<tr><td>0.838343727070891</td></tr>\n",
       "<tr><td>0.8579183898190748</td></tr>\n",
       "<tr><td>0.8128309868069494</td></tr>\n",
       "<tr><td>0.7802959932617584</td></tr>\n",
       "<tr><td>0.8177031727541558</td></tr>\n",
       "<tr><td>...</td></tr>\n",
       "<tr><td>0.6870147882462309</td></tr>\n",
       "<tr><td>0.690475876060279</td></tr>\n",
       "<tr><td>0.7211816776158413</td></tr>\n",
       "<tr><td>0.7221464034289002</td></tr>\n",
       "<tr><td>0.7133120297143785</td></tr>\n",
       "<tr><td>0.7085733479643095</td></tr>\n",
       "<tr><td>0.6583941548651823</td></tr>\n",
       "<tr><td>0.6853659950593968</td></tr>\n",
       "<tr><td>0.7054870656144888</td></tr>\n",
       "<tr><td>0.7022907590243592</td></tr>\n",
       "<tr><td>0.684301471771434</td></tr>\n",
       "<tr><td>0.7224078036580674</td></tr>\n",
       "</table>"
      ],
      "text/plain": [
       "<Column name='Sigma [meas]' dtype='float64' length=3072>\n",
       "0.8910528192480175\n",
       "0.8375052614630897\n",
       "0.7636317655746471\n",
       "0.8180791567349067\n",
       " 0.875084546819616\n",
       "0.8184384611938141\n",
       "0.7636317655746472\n",
       " 0.838343727070891\n",
       "0.8579183898190748\n",
       "0.8128309868069494\n",
       "0.7802959932617584\n",
       "0.8177031727541558\n",
       "               ...\n",
       "0.6870147882462309\n",
       " 0.690475876060279\n",
       "0.7211816776158413\n",
       "0.7221464034289002\n",
       "0.7133120297143785\n",
       "0.7085733479643095\n",
       "0.6583941548651823\n",
       "0.6853659950593968\n",
       "0.7054870656144888\n",
       "0.7022907590243592\n",
       " 0.684301471771434\n",
       "0.7224078036580674"
      ]
     },
     "execution_count": 4,
     "metadata": {},
     "output_type": "execute_result"
    }
   ],
   "source": [
    "master_rm_inner, master_rm_outer, inners, outers = us.get_stacked_sets(master_hvcs, toy_override=True)\n",
    "inner_sigma = us.uncertainty_table(inners)\n",
    "outer_sigma = us.uncertainty_table(outers)\n",
    "\n",
    "#uncertainty_KS = np.sqrt(inner_sigma[\"Sigma [meas]\"]**2 + inner_sigma[\"Sigma [obsv]\"]**2 + outer_sigma[\"Sigma [meas]\"]**2 + outer_sigma[\"Sigma [obsv]\"]**2)\n",
    "uncertainty_KS = np.sqrt(inner_sigma[\"Sigma [meas]\"]**2 + outer_sigma[\"Sigma [meas]\"]**2)\n",
    "\n",
    "uncertainty_KS"
   ]
  },
  {
   "cell_type": "code",
   "execution_count": 5,
   "metadata": {},
   "outputs": [
    {
     "data": {
      "text/html": [
       "<div><i>Table length=3072</i>\n",
       "<table id=\"table2157967250960\" class=\"table-striped table-bordered table-condensed\">\n",
       "<thead><tr><th>Name</th><th>Statistic</th><th>p_value</th><th>Statistic_x</th><th>Statistic_sgn</th><th>Statistic_diff</th><th>Significant</th><th>Sigma [meas]</th><th>Sigma [obsv]</th><th>Sigma [true]</th><th>Sigma [diff]</th><th>FWHM</th><th>Average [inner]</th><th>Average [outer]</th><th>Average [diff]</th><th>Avg Unc [inner]</th><th>Avg Unc [outer]</th><th>Avg Unc [diff]</th><th>KS unc</th></tr></thead>\n",
       "<thead><tr><th>str67</th><th>float64</th><th>float64</th><th>float64</th><th>int32</th><th>float64</th><th>bool</th><th>float64</th><th>float64</th><th>float64</th><th>float64</th><th>float64</th><th>float64</th><th>float64</th><th>float64</th><th>float64</th><th>float64</th><th>float64</th><th>float64</th></tr></thead>\n",
       "<tr><td>toy_0_0.0_0.0_0.0.ecsv</td><td>0.15512615945713734</td><td>0.02416490935579006</td><td>0.546875</td><td>-1</td><td>-0.0036755505505539077</td><td>False</td><td>0.7181247448032667</td><td>0.43199068054162376</td><td>nan</td><td>nan</td><td>nan</td><td>0.13206216582583086</td><td>0.06187903704760876</td><td>0.0701831287782221</td><td>0.0019822617659745454</td><td>0.0001830740741053514</td><td>0.001990697823742734</td><td>0.8910528192480175</td></tr>\n",
       "<tr><td>toy_0_0.0_0.0_0.7853981633974483.ecsv</td><td>0.15512615945713734</td><td>0.02416490935579006</td><td>0.546875</td><td>-1</td><td>-0.0036755505505539077</td><td>False</td><td>0.6504944929722889</td><td>0.2787985633411827</td><td>nan</td><td>nan</td><td>nan</td><td>0.1413938042103961</td><td>0.06187903704760876</td><td>0.07951476716278734</td><td>0.00205210872803258</td><td>0.0001830740741053514</td><td>0.0020602588061399045</td><td>0.8375052614630897</td></tr>\n",
       "<tr><td>toy_0_0.0_0.0_1.5707963267948966.ecsv</td><td>0.12254738650909154</td><td>0.1250838416045315</td><td>0.109375</td><td>-1</td><td>0.059324949949946415</td><td>False</td><td>0.5521426408126524</td><td>0.20198135638324727</td><td>nan</td><td>nan</td><td>nan</td><td>0.09215149775079459</td><td>0.06187903704760876</td><td>0.03027246070318583</td><td>0.0011376728117382048</td><td>0.0001830740741053514</td><td>0.0011523087881196794</td><td>0.7636317655746471</td></tr>\n",
       "<tr><td>toy_0_0.0_0.0_2.356194490192345.ecsv</td><td>0.0917395802282969</td><td>0.4127193027413549</td><td>0.3203125</td><td>1</td><td>-0.13013795045045384</td><td>False</td><td>0.6252851582222411</td><td>0.2553787524570038</td><td>nan</td><td>nan</td><td>nan</td><td>0.13185791111151304</td><td>0.06187903704760876</td><td>0.06997887406390428</td><td>0.0020832703328715514</td><td>0.0001830740741053514</td><td>0.002091298973468948</td><td>0.8180791567349067</td></tr>\n",
       "<tr><td>toy_0_0.0_0.0_3.141592653589793.ecsv</td><td>0.10641580894601183</td><td>0.2439601275322874</td><td>-0.2327370731741204</td><td>1</td><td>-0.18268702312407392</td><td>False</td><td>0.6982127086292612</td><td>0.4046139519692637</td><td>nan</td><td>nan</td><td>nan</td><td>0.1266502050670992</td><td>0.06187903704760876</td><td>0.06477116801949044</td><td>0.002114574047548032</td><td>0.0001830740741053514</td><td>0.0021224842800768155</td><td>0.875084546819616</td></tr>\n",
       "<tr><td>toy_0_0.0_0.0_3.9269908169872414.ecsv</td><td>0.11772544756360576</td><td>0.15422986809584666</td><td>0.36328125</td><td>1</td><td>-0.08716920045045384</td><td>False</td><td>0.6257551735065523</td><td>0.2577992608363467</td><td>nan</td><td>nan</td><td>nan</td><td>0.1321422854170526</td><td>0.06187903704760876</td><td>0.07026324836944385</td><td>0.0020904068600567567</td><td>0.0001830740741053514</td><td>0.002098408196033813</td><td>0.8184384611938141</td></tr>\n",
       "<tr><td>toy_0_0.0_0.0_4.71238898038469.ecsv</td><td>0.12254738650909154</td><td>0.1250838416045315</td><td>0.109375</td><td>-1</td><td>0.059324949949946415</td><td>False</td><td>0.5521426408126525</td><td>0.20198135638324727</td><td>nan</td><td>nan</td><td>nan</td><td>0.09215149775079559</td><td>0.06187903704760876</td><td>0.03027246070318683</td><td>0.0011376728117382176</td><td>0.0001830740741053514</td><td>0.001152308788119692</td><td>0.7636317655746472</td></tr>\n",
       "<tr><td>toy_0_0.0_0.0_5.497787143782138.ecsv</td><td>0.1644719538496607</td><td>0.014050395172507146</td><td>0.546875</td><td>-1</td><td>-0.0036755505505539077</td><td>False</td><td>0.6515736544152392</td><td>0.2760786238074689</td><td>nan</td><td>nan</td><td>nan</td><td>0.1426047883545859</td><td>0.06187903704760876</td><td>0.08072575130697714</td><td>0.0020562409259283283</td><td>0.0001830740741053514</td><td>0.002064374690329283</td><td>0.838343727070891</td></tr>\n",
       "<tr><td>toy_0_0.0_0.7853981633974483_0.0.ecsv</td><td>0.12708877627956724</td><td>0.10164890612991566</td><td>0.546875</td><td>-1</td><td>-0.0036755505505539077</td><td>False</td><td>0.6765737106913561</td><td>0.35500403496551103</td><td>nan</td><td>nan</td><td>nan</td><td>0.14009990953013815</td><td>0.06187903704760876</td><td>0.07822087248252939</td><td>0.0021563223549002325</td><td>0.0001830740741053514</td><td>0.0021640799927109943</td><td>0.8579183898190748</td></tr>\n",
       "<tr><td>toy_0_0.0_0.7853981633974483_0.7853981633974483.ecsv</td><td>0.09905139310199716</td><td>0.32089655960214586</td><td>0.546875</td><td>-1</td><td>-0.0036755505505539077</td><td>False</td><td>0.6184029717930503</td><td>0.2720013025932849</td><td>nan</td><td>nan</td><td>nan</td><td>0.11687437130009636</td><td>0.06187903704760876</td><td>0.05499533425248759</td><td>0.0018079752260075402</td><td>0.0001830740741053514</td><td>0.001817220551960204</td><td>0.8128309868069494</td></tr>\n",
       "<tr><td>...</td><td>...</td><td>...</td><td>...</td><td>...</td><td>...</td><td>...</td><td>...</td><td>...</td><td>...</td><td>...</td><td>...</td><td>...</td><td>...</td><td>...</td><td>...</td><td>...</td><td>...</td><td>...</td></tr>\n",
       "<tr><td>toy_5_5.497787143782138_4.71238898038469_4.71238898038469.ecsv</td><td>0.20721444173197995</td><td>1.0323499594534322e-05</td><td>0.15625</td><td>-1</td><td>0.10619994994994642</td><td>True</td><td>0.5625180195537501</td><td>0.3553965931033891</td><td>nan</td><td>nan</td><td>nan</td><td>0.05156458235509636</td><td>0.025579081434916884</td><td>0.025985500920179476</td><td>0.0005655905760680919</td><td>0.00014054440348855432</td><td>0.0005827910681273261</td><td>0.7211816776158413</td></tr>\n",
       "<tr><td>toy_5_5.497787143782138_4.71238898038469_5.497787143782138.ecsv</td><td>0.21302839522035205</td><td>5.156624730908166e-06</td><td>0.15625</td><td>-1</td><td>0.10619994994994642</td><td>True</td><td>0.5637543243108383</td><td>0.35559954596286386</td><td>nan</td><td>nan</td><td>nan</td><td>0.05728226814864506</td><td>0.025579081434916884</td><td>0.031703186713728175</td><td>0.0006446228411129151</td><td>0.00014054440348855432</td><td>0.0006597661226801813</td><td>0.7221464034289002</td></tr>\n",
       "<tr><td>toy_5_5.497787143782138_5.497787143782138_0.0.ecsv</td><td>0.13866760889117308</td><td>0.008482508862973906</td><td>-0.1640625</td><td>-1</td><td>0.08618775025024661</td><td>False</td><td>0.5523925795384297</td><td>0.3537145249105625</td><td>nan</td><td>nan</td><td>nan</td><td>0.04010759641641205</td><td>0.025579081434916884</td><td>0.01452851498149517</td><td>0.0005702282229782102</td><td>0.00014054440348855432</td><td>0.0005872929044632167</td><td>0.7133120297143785</td></tr>\n",
       "<tr><td>toy_5_5.497787143782138_5.497787143782138_0.7853981633974483.ecsv</td><td>0.15723371450597456</td><td>0.0017973303937359971</td><td>0.2890625</td><td>-1</td><td>0.038812249749746286</td><td>False</td><td>0.5462597364251043</td><td>0.2871516685702968</td><td>nan</td><td>nan</td><td>nan</td><td>0.0456141967339922</td><td>0.025579081434916884</td><td>0.02003511529907532</td><td>0.000602489753846755</td><td>0.00014054440348855432</td><td>0.0006186652025468031</td><td>0.7085733479643095</td></tr>\n",
       "<tr><td>toy_5_5.497787143782138_5.497787143782138_1.5707963267948966.ecsv</td><td>0.16947192599254787</td><td>0.000580350146285266</td><td>0.08984375</td><td>-1</td><td>0.13989380005004648</td><td>True</td><td>0.47938124009446964</td><td>0.22412621679873498</td><td>nan</td><td>nan</td><td>nan</td><td>0.04643794927656865</td><td>0.025579081434916884</td><td>0.020858867841651765</td><td>0.0005307843607048948</td><td>0.00014054440348855432</td><td>0.0005490762851561316</td><td>0.6583941548651823</td></tr>\n",
       "<tr><td>toy_5_5.497787143782138_5.497787143782138_2.356194490192345.ecsv</td><td>0.18896954901708854</td><td>8.023582724226633e-05</td><td>-0.1015625</td><td>-1</td><td>0.1486877502502466</td><td>True</td><td>0.5158004045923491</td><td>0.2393667728792653</td><td>nan</td><td>nan</td><td>nan</td><td>0.05399931324216053</td><td>0.025579081434916884</td><td>0.028420231807243644</td><td>0.0006406321452127854</td><td>0.00014054440348855432</td><td>0.0006558675741579918</td><td>0.6853659950593968</td></tr>\n",
       "<tr><td>toy_5_5.497787143782138_5.497787143782138_3.141592653589793.ecsv</td><td>0.15443916227675702</td><td>0.0022987484328824965</td><td>-0.15625</td><td>-1</td><td>0.09400025025024661</td><td>False</td><td>0.542250412580033</td><td>0.30992742128433803</td><td>nan</td><td>nan</td><td>nan</td><td>0.04110141321811375</td><td>0.025579081434916884</td><td>0.015522331783196869</td><td>0.000566571458694076</td><td>0.00014054440348855432</td><td>0.0005837430489168043</td><td>0.7054870656144888</td></tr>\n",
       "<tr><td>toy_5_5.497787143782138_5.497787143782138_3.9269908169872414.ecsv</td><td>0.16606706925350123</td><td>0.0008016671908177416</td><td>-0.15625</td><td>-1</td><td>0.09400025025024661</td><td>True</td><td>0.538085328182143</td><td>0.2584432026063029</td><td>nan</td><td>nan</td><td>nan</td><td>0.04688623382876157</td><td>0.025579081434916884</td><td>0.02130715239384469</td><td>0.0006019587437424394</td><td>0.00014054440348855432</td><td>0.0006181480878559194</td><td>0.7022907590243592</td></tr>\n",
       "<tr><td>toy_5_5.497787143782138_5.497787143782138_4.71238898038469.ecsv</td><td>0.2043556469227804</td><td>1.4416869510472047e-05</td><td>0.08984375</td><td>-1</td><td>0.13989380005004648</td><td>True</td><td>0.5143850838257508</td><td>0.22968514993763062</td><td>nan</td><td>nan</td><td>nan</td><td>0.05244792832135233</td><td>0.025579081434916884</td><td>0.026868846886435448</td><td>0.0005753524770288187</td><td>0.00014054440348855432</td><td>0.0005922695350726314</td><td>0.684301471771434</td></tr>\n",
       "<tr><td>toy_5_5.497787143782138_5.497787143782138_5.497787143782138.ecsv</td><td>0.1979313889245792</td><td>3.002001115650247e-05</td><td>0.2890625</td><td>-1</td><td>0.038812249749746286</td><td>True</td><td>0.5640891285780527</td><td>0.2890131860259506</td><td>nan</td><td>nan</td><td>nan</td><td>0.05807288638235659</td><td>0.025579081434916884</td><td>0.032493804947439704</td><td>0.0006806174686536977</td><td>0.00014054440348855432</td><td>0.0006949768830605235</td><td>0.7224078036580674</td></tr>\n",
       "</table></div>"
      ],
      "text/plain": [
       "<Table length=3072>\n",
       "                               Name                               ...\n",
       "                              str67                               ...\n",
       "----------------------------------------------------------------- ...\n",
       "                                           toy_0_0.0_0.0_0.0.ecsv ...\n",
       "                            toy_0_0.0_0.0_0.7853981633974483.ecsv ...\n",
       "                            toy_0_0.0_0.0_1.5707963267948966.ecsv ...\n",
       "                             toy_0_0.0_0.0_2.356194490192345.ecsv ...\n",
       "                             toy_0_0.0_0.0_3.141592653589793.ecsv ...\n",
       "                            toy_0_0.0_0.0_3.9269908169872414.ecsv ...\n",
       "                              toy_0_0.0_0.0_4.71238898038469.ecsv ...\n",
       "                             toy_0_0.0_0.0_5.497787143782138.ecsv ...\n",
       "                            toy_0_0.0_0.7853981633974483_0.0.ecsv ...\n",
       "             toy_0_0.0_0.7853981633974483_0.7853981633974483.ecsv ...\n",
       "                                                              ... ...\n",
       "   toy_5_5.497787143782138_4.71238898038469_4.71238898038469.ecsv ...\n",
       "  toy_5_5.497787143782138_4.71238898038469_5.497787143782138.ecsv ...\n",
       "               toy_5_5.497787143782138_5.497787143782138_0.0.ecsv ...\n",
       "toy_5_5.497787143782138_5.497787143782138_0.7853981633974483.ecsv ...\n",
       "toy_5_5.497787143782138_5.497787143782138_1.5707963267948966.ecsv ...\n",
       " toy_5_5.497787143782138_5.497787143782138_2.356194490192345.ecsv ...\n",
       " toy_5_5.497787143782138_5.497787143782138_3.141592653589793.ecsv ...\n",
       "toy_5_5.497787143782138_5.497787143782138_3.9269908169872414.ecsv ...\n",
       "  toy_5_5.497787143782138_5.497787143782138_4.71238898038469.ecsv ...\n",
       " toy_5_5.497787143782138_5.497787143782138_5.497787143782138.ecsv ..."
      ]
     },
     "execution_count": 5,
     "metadata": {},
     "output_type": "execute_result"
    }
   ],
   "source": [
    "results.add_column(uncertainty_KS, name=\"KS unc\")\n",
    "\n",
    "results"
   ]
  },
  {
   "cell_type": "code",
   "execution_count": 6,
   "metadata": {},
   "outputs": [],
   "source": [
    "ct.write_processed(results, \"../data_processed/toy_model/results_final_unfiltered\")\n",
    "ct.write_processed(us.filter_significant(results), \"../data_processed/toy_model/results_final_filtered\")"
   ]
  },
  {
   "cell_type": "markdown",
   "metadata": {},
   "source": [
    "## Bootstrap Resampling"
   ]
  },
  {
   "cell_type": "code",
   "execution_count": 5,
   "metadata": {},
   "outputs": [],
   "source": [
    "from astropy.table import Table\n",
    "import copy\n",
    "\n",
    "def bootstrap_selection(sample):\n",
    "    sample = copy.deepcopy(sample)\n",
    "    sample.remove_column(\"ra_dec_obj\")\n",
    "    rand = np.round((len(sample)-1) * np.random.rand(len(sample))).astype(int)\n",
    "    t = copy.deepcopy(sample)\n",
    "    t.remove_rows(list(range(len(sample))))\n",
    "\n",
    "    for index in rand:\n",
    "        t.add_row(list(sample[index]))\n",
    "    \n",
    "    return t\n",
    "\n",
    "def bootstrap_sample_creation(sample, console_out=\"\"):\n",
    "    samples = []\n",
    "    l = len(sample)\n",
    "    for i in range(len(sample)):\n",
    "        samples.append(bootstrap_selection(sample))\n",
    "        print(console_out+\"Creating samples: \"+str(int((i+1)/l*100))+\"% \\r\", sep=\"\", end=\"\", flush=True)\n",
    "    return samples\n",
    "\n",
    "def bootstrap_evaluation(samples, callback):\n",
    "    sample_out = []\n",
    "    l = len(samples)\n",
    "\n",
    "    for i in range(len(samples)):\n",
    "        sout = \"Evaluating samples: \"+str(int((i+1)/l*100))+\"% \"\n",
    "        sample = samples[i]\n",
    "        bootstrapped = bootstrap_sample_creation(sample, sout+\"\")\n",
    "        response = np.array(list(map(callback, bootstrapped)))\n",
    "        sample_out.append(response)\n",
    "        print(sout+\"\\r\", sep=\"\", end=\"\", flush=True)\n",
    "\n",
    "    return np.array(sample_out)\n",
    "\n",
    "def uncertainty_calculate(rms):\n",
    "    m_list = rms[\"RM_uncert\"].data\n",
    "    o_list = rms[\"RM\"].data\n",
    "\n",
    "    meas = np.mean(m_list)\n",
    "    obsv = np.std(o_list)\n",
    "\n",
    "    return np.sqrt(obsv**2 - meas**2)"
   ]
  },
  {
   "cell_type": "code",
   "execution_count": 19,
   "metadata": {},
   "outputs": [
    {
     "name": "stdout",
     "output_type": "stream",
     "text": [
      "=== BOOTSTRAPPING UNCERTAINTIES ===\n",
      "Getting stacked sets\n",
      "Calculating inner magnetic field uncertainties\n",
      "Calculating outer magnetic field uncertainties% \n",
      "Calculating final uncertaintyting samples: 100% \n"
     ]
    },
    {
     "data": {
      "text/plain": [
       "array([0.39584818, 0.32473521, 0.20428799, 1.2244449 ,        nan,\n",
       "       0.85192194, 1.51154246, 8.32530501, 1.63155893, 1.66239263,\n",
       "       0.30293187, 1.12654023, 0.46018009, 0.65763306, 0.38222939])"
      ]
     },
     "execution_count": 19,
     "metadata": {},
     "output_type": "execute_result"
    }
   ],
   "source": [
    "import warnings\n",
    "\n",
    "def bootstrap_uncertaintes(master_hvcs):\n",
    "    with warnings.catch_warnings(action=\"ignore\"):\n",
    "        print(\"=== BOOTSTRAPPING UNCERTAINTIES ===\")\n",
    "        print(\"Getting stacked sets\")\n",
    "        master_rm_inner, master_rm_outer, inners, outers = us.get_stacked_sets(master_hvcs)\n",
    "        print(\"Calculating inner magnetic field uncertainties\")\n",
    "        inner_mag = bootstrap_evaluation(inners, uncertainty_calculate)\n",
    "        inner_unc = []\n",
    "        for l in inner_mag:\n",
    "            inner_unc.append(np.nanstd(l))\n",
    "        inner_unc = np.array(inner_unc)\n",
    "        print() \n",
    "        print(\"Calculating outer magnetic field uncertainties\")\n",
    "        outer_mag = bootstrap_evaluation(outers, uncertainty_calculate)\n",
    "        outer_unc = []\n",
    "        for l in outer_mag:\n",
    "            outer_unc.append(np.nanstd(l))\n",
    "        outer_unc = np.array(outer_unc)\n",
    "        print()\n",
    "        print(\"Calculating final uncertainty\")\n",
    "        final = np.sqrt(inner_unc ** 2 + outer_unc ** 2)\n",
    "        return final\n",
    "\n",
    "field_set = bootstrap_uncertaintes(master_hvcs)\n",
    "field_set"
   ]
  },
  {
   "cell_type": "code",
   "execution_count": 20,
   "metadata": {},
   "outputs": [
    {
     "data": {
      "text/html": [
       "<div><i>Table length=15</i>\n",
       "<table id=\"table2031823336336\" class=\"table-striped table-bordered table-condensed\">\n",
       "<thead><tr><th>Name</th><th>Statistic</th><th>p_value</th><th>Statistic_x</th><th>Statistic_sgn</th><th>Statistic_diff</th><th>Significant</th><th>Sigma [meas]</th><th>Sigma [obsv]</th><th>Sigma [true]</th><th>Sigma [diff]</th><th>FWHM</th><th>Average [inner]</th><th>Average [outer]</th><th>Average [diff]</th><th>Avg Unc [inner]</th><th>Avg Unc [outer]</th><th>Avg Unc [diff]</th><th>KS unc</th><th>Sigma unc</th></tr></thead>\n",
       "<thead><tr><th>str15</th><th>float64</th><th>float64</th><th>float64</th><th>int32</th><th>float64</th><th>bool</th><th>float64</th><th>float64</th><th>float64</th><th>float64</th><th>float64</th><th>float64</th><th>float64</th><th>float64</th><th>float64</th><th>float64</th><th>float64</th><th>float64</th><th>float64</th></tr></thead>\n",
       "<tr><td>G038.7-37.3-241</td><td>0.2074738871132492</td><td>3.5194997048780594e-09</td><td>-3.515687526708854</td><td>-1</td><td>2.5503785393572116</td><td>True</td><td>1.5490103064419392</td><td>3.259633374868092</td><td>2.8680615072014404</td><td>-1.2004037875138898</td><td>-2.82673490096878</td><td>-1.3506194176296213</td><td>-2.560210571743284</td><td>1.2095911541136628</td><td>0.007003852876365774</td><td>0.0032940466469477043</td><td>0.007739812557552317</td><td>2.1815601020063724</td><td>0.39584818265424776</td></tr>\n",
       "<tr><td>G038.8-33.2-261</td><td>0.31066825775656326</td><td>1.3943532792837091e-08</td><td>-0.6963302660734451</td><td>-1</td><td>1.245611675868496</td><td>True</td><td>1.0172162310775188</td><td>2.2736826533710723</td><td>2.033446322742001</td><td>-0.3820916381721009</td><td>-0.8997570486063758</td><td>-0.056445222198439816</td><td>-1.1991611171284744</td><td>1.1427158949300344</td><td>0.010148842996047043</td><td>0.0006398107274504492</td><td>0.010168990703377291</td><td>1.4553771530792659</td><td>0.3247352108401835</td></tr>\n",
       "<tr><td>G043.4-30.4-230</td><td>0.24109469074986317</td><td>3.606854288675973e-11</td><td>-1.2589038059025925</td><td>-1</td><td>2.2846397376409495</td><td>True</td><td>1.3692498776485982</td><td>3.4139391636197307</td><td>3.1273207998949974</td><td>-0.3219533860094135</td><td>-0.7581422869405536</td><td>1.500776660653911</td><td>0.052073639648805965</td><td>1.448703021005105</td><td>0.007129552203987939</td><td>0.002050088534124988</td><td>0.007418448464951416</td><td>2.014296014920469</td><td>0.20428798707875953</td></tr>\n",
       "<tr><td>G089.0-64.7-311</td><td>0.3738140417457306</td><td>0.015075834341180974</td><td>-3.5031459148744912</td><td>1</td><td>-2.4420848538134305</td><td>False</td><td>1.7766805216998156</td><td>6.285240753776755</td><td>6.028901861595415</td><td>4.354124583319416</td><td>10.253179847362592</td><td>-2.0433500968670546</td><td>-0.7515102964160036</td><td>-1.291839800451051</td><td>0.18157752049511933</td><td>0.007404423938031661</td><td>0.18172842772392428</td><td>2.4332628530195217</td><td>1.2244448962835837</td></tr>\n",
       "<tr><td>G133.5-75.6-294</td><td>0.46130268199233715</td><td>4.570648166268751e-08</td><td>-1.0081759072724916</td><td>-1</td><td>1.7746068755102902</td><td>True</td><td>1.390653120203451</td><td>0.6443423969361269</td><td>nan</td><td>nan</td><td>nan</td><td>-0.3570725165898588</td><td>-1.1535705764067303</td><td>0.7964980598168715</td><td>0.042906373222247746</td><td>0.007109176796687973</td><td>0.0434913469303192</td><td>2.001602544846478</td><td>nan</td></tr>\n",
       "<tr><td>G248.9+36.8+181</td><td>0.08070447918650822</td><td>0.452664079053446</td><td>-2.5040967925547646</td><td>-1</td><td>0.5189262304682574</td><td>False</td><td>2.5577313774843344</td><td>3.3456971641453612</td><td>2.1567799412092095</td><td>-0.4370240961740395</td><td>-1.0291131018321615</td><td>-0.7672410917916938</td><td>-0.7426862708275596</td><td>-0.024554820964134253</td><td>0.04655645277823943</td><td>0.01318809477546906</td><td>0.04838831614242422</td><td>3.6192905843246095</td><td>0.8519219357184207</td></tr>\n",
       "<tr><td>G261.5-34.5+237</td><td>0.2889454915944982</td><td>5.960798790546759e-08</td><td>-5.487954609053061</td><td>-1</td><td>7.064597943499491</td><td>True</td><td>8.363070544185819</td><td>12.507923833010205</td><td>9.300925205879048</td><td>5.8850039182248</td><td>13.858125191721438</td><td>-3.620108937244275</td><td>-7.837450117500442</td><td>4.217341180256167</td><td>0.4686915287204748</td><td>0.13939402347543306</td><td>0.4889810250664184</td><td>11.798096482827903</td><td>1.5115424552737302</td></tr>\n",
       "<tr><td>G262.4-26.2+143</td><td>0.21329644533869885</td><td>1.2224926075128765e-06</td><td>2.0255699650566523</td><td>-1</td><td>5.008552948039634</td><td>True</td><td>5.0791565705667105</td><td>9.744382180123484</td><td>8.315957708164293</td><td>-11.277167064796421</td><td>-26.555699055345446</td><td>4.0206400164297795</td><td>0.17353602031256268</td><td>3.8471039961172173</td><td>0.11708586076209412</td><td>0.0424759648413749</td><td>0.12455242422211704</td><td>7.193251686060157</td><td>8.325305008340273</td></tr>\n",
       "<tr><td>G264.6-53.3+224</td><td>0.3195887445887446</td><td>4.0730287570954555e-05</td><td>0.9062634882158793</td><td>1</td><td>-2.1167595348071426</td><td>True</td><td>3.023390368905306</td><td>4.983729795251348</td><td>3.9619027435421326</td><td>0.16014564072012671</td><td>0.377114164892079</td><td>0.8210758855823943</td><td>2.499888949334954</td><td>-1.67881306375256</td><td>0.16176219741916012</td><td>0.013152603813846201</td><td>0.1622960242919072</td><td>4.269997743503358</td><td>1.6315589302445745</td></tr>\n",
       "<tr><td>G267.1-38.4+263</td><td>0.3428488020518381</td><td>2.318648482161409e-11</td><td>12.715164074377505</td><td>-1</td><td>9.411860771074203</td><td>True</td><td>6.459354538810761</td><td>13.975229335809928</td><td>12.392892072895142</td><td>3.764226145036</td><td>8.86407518036035</td><td>3.935691120510584</td><td>0.5967725854698486</td><td>3.3389185350407353</td><td>0.2785684550874129</td><td>0.034675044112350076</td><td>0.2807182624162194</td><td>8.557843765816393</td><td>1.6623926332614178</td></tr>\n",
       "<tr><td>G271.6-48.4+297</td><td>0.12493061782161308</td><td>5.0905622111774864e-05</td><td>0.6348560731135152</td><td>-1</td><td>0.5747960130534552</td><td>True</td><td>1.656313599761247</td><td>3.0167700520864895</td><td>2.5214136523807156</td><td>0.14031802939919347</td><td>0.33042370830846285</td><td>1.0438949513719682</td><td>0.9506817070694712</td><td>0.09321324430249706</td><td>0.004907414793746411</td><td>0.003332420455528648</td><td>0.005931925998384243</td><td>2.360885532203072</td><td>0.3029318711354087</td></tr>\n",
       "<tr><td>G271.7-53.1+254</td><td>0.22697520500279825</td><td>0.0003403465863955054</td><td>0.11625707523884121</td><td>1</td><td>-2.3862454272636606</td><td>True</td><td>3.238101358605643</td><td>6.206104031068475</td><td>5.294376907232867</td><td>-0.6047436349837891</td><td>-1.4240624337647063</td><td>1.4552097774993904</td><td>1.9595738303089552</td><td>-0.5043640528095649</td><td>0.09698678376448278</td><td>0.02527784255573244</td><td>0.10022677062168041</td><td>4.605857104115553</td><td>1.1265402301204932</td></tr>\n",
       "<tr><td>G282.3-38.3+117</td><td>0.277823006349348</td><td>8.58037227199818e-27</td><td>-1.2426193078764725</td><td>1</td><td>-3.4648415300986937</td><td>True</td><td>4.440559986447358</td><td>6.711461315863094</td><td>5.032408966001214</td><td>-1.9662738656700256</td><td>-4.630221112900268</td><td>-3.5925312924892405</td><td>-0.9148853822952732</td><td>-2.6776459101939674</td><td>0.03965139483683959</td><td>0.007828831318331808</td><td>0.04041687410374338</td><td>6.278841551975273</td><td>0.4601800929005239</td></tr>\n",
       "<tr><td>G298.0-81.7+127</td><td>0.3912087912087912</td><td>0.3650943759236951</td><td>-0.32122628572356143</td><td>-1</td><td>0.6197146552173791</td><td>False</td><td>0.6334116228188119</td><td>0.6119163229594444</td><td>nan</td><td>nan</td><td>nan</td><td>-0.45075741293499927</td><td>-1.0615369187379453</td><td>0.6107795058029459</td><td>0.08014615753173712</td><td>0.004609910845411929</td><td>0.08027862632796272</td><td>0.9079483201379522</td><td>0.6576330572404541</td></tr>\n",
       "<tr><td>G323.0+25.6+122</td><td>0.09850367024280068</td><td>0.015086808841105354</td><td>1.963713871853483</td><td>-1</td><td>0.8225727307123423</td><td>False</td><td>2.404035520546133</td><td>3.682242046820639</td><td>2.789179038234429</td><td>-0.5391757592999458</td><td>-1.2696618857942945</td><td>0.3415276301058542</td><td>-0.02499178851752142</td><td>0.36651941862337556</td><td>0.018652681127120103</td><td>0.004708276291768519</td><td>0.019237733205075176</td><td>3.432991802505538</td><td>0.38222939396615435</td></tr>\n",
       "</table></div>"
      ],
      "text/plain": [
       "<Table length=15>\n",
       "      Name           Statistic      ...       KS unc            Sigma unc     \n",
       "     str15            float64       ...      float64             float64      \n",
       "--------------- ------------------- ... ------------------ -------------------\n",
       "G038.7-37.3-241  0.2074738871132492 ... 2.1815601020063724 0.39584818265424776\n",
       "G038.8-33.2-261 0.31066825775656326 ... 1.4553771530792659  0.3247352108401835\n",
       "G043.4-30.4-230 0.24109469074986317 ...  2.014296014920469 0.20428798707875953\n",
       "G089.0-64.7-311  0.3738140417457306 ... 2.4332628530195217  1.2244448962835837\n",
       "G133.5-75.6-294 0.46130268199233715 ...  2.001602544846478                 nan\n",
       "G248.9+36.8+181 0.08070447918650822 ... 3.6192905843246095  0.8519219357184207\n",
       "G261.5-34.5+237  0.2889454915944982 ... 11.798096482827903  1.5115424552737302\n",
       "G262.4-26.2+143 0.21329644533869885 ...  7.193251686060157   8.325305008340273\n",
       "G264.6-53.3+224  0.3195887445887446 ...  4.269997743503358  1.6315589302445745\n",
       "G267.1-38.4+263  0.3428488020518381 ...  8.557843765816393  1.6623926332614178\n",
       "G271.6-48.4+297 0.12493061782161308 ...  2.360885532203072  0.3029318711354087\n",
       "G271.7-53.1+254 0.22697520500279825 ...  4.605857104115553  1.1265402301204932\n",
       "G282.3-38.3+117   0.277823006349348 ...  6.278841551975273  0.4601800929005239\n",
       "G298.0-81.7+127  0.3912087912087912 ... 0.9079483201379522  0.6576330572404541\n",
       "G323.0+25.6+122 0.09850367024280068 ...  3.432991802505538 0.38222939396615435"
      ]
     },
     "execution_count": 20,
     "metadata": {},
     "output_type": "execute_result"
    }
   ],
   "source": [
    "results.add_column(field_set, name=\"Sigma unc\")\n",
    "\n",
    "results"
   ]
  },
  {
   "cell_type": "code",
   "execution_count": 21,
   "metadata": {},
   "outputs": [],
   "source": [
    "ct.write_processed(results, \"../data_processed/results_final_unfiltered\")\n",
    "ct.write_processed(us.filter_significant(results), \"../data_processed/results_final_filtered\")"
   ]
  },
  {
   "cell_type": "markdown",
   "metadata": {},
   "source": [
    "# KS Uncertainty Formalisation"
   ]
  },
  {
   "cell_type": "code",
   "execution_count": null,
   "metadata": {},
   "outputs": [],
   "source": [
    "import sys\n",
    "sys.path.append('C://Users/olive/OneDrive - Australian National University/Honours-Olivia/Programs/honours/standard_modules')\n",
    "sys.path.append('C://Users/olive/OneDrive - Australian National University/Honours-Olivia/Programs/honours/project')\n",
    "\n",
    "from collation import collator, hvc_snapshot as snap, collation_tools as ct\n",
    "from synthesis import hvc_looper as hvcl, magnetic_field_derivation as mfd, KStest, uncertainty_subtraction as us\n"
   ]
  }
 ],
 "metadata": {
  "kernelspec": {
   "display_name": "base",
   "language": "python",
   "name": "python3"
  },
  "language_info": {
   "codemirror_mode": {
    "name": "ipython",
    "version": 3
   },
   "file_extension": ".py",
   "mimetype": "text/x-python",
   "name": "python",
   "nbconvert_exporter": "python",
   "pygments_lexer": "ipython3",
   "version": "3.11.3"
  }
 },
 "nbformat": 4,
 "nbformat_minor": 2
}
