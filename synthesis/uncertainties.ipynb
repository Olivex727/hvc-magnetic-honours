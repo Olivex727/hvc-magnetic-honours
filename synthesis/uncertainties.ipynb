{
 "cells": [
  {
   "cell_type": "code",
   "execution_count": 1,
   "metadata": {},
   "outputs": [
    {
     "name": "stdout",
     "output_type": "stream",
     "text": [
      "=== WHOLE-SKY DATA COLLATION ===\n",
      "Gathering data ...\n",
      "Getting H-alpha emission\n",
      "Extracting RMs\n",
      "Getting HVC location data\n",
      "Getting HI emission\n",
      "Interpolating\n",
      "Collation complete\n",
      "=== HVC RM LOADER ===\n",
      "Taking HVC snapshots\n",
      "Process complete\n"
     ]
    },
    {
     "data": {
      "text/plain": [
       "13"
      ]
     },
     "execution_count": 1,
     "metadata": {},
     "output_type": "execute_result"
    }
   ],
   "source": [
    "import sys\n",
    "sys.path.append('C://Users/olive/OneDrive - Australian National University/Honours-Olivia/Programs/honours/standard_modules')\n",
    "sys.path.append('C://Users/olive/OneDrive - Australian National University/Honours-Olivia/Programs/honours/project')\n",
    "\n",
    "from collation import collator, hvc_snapshot as snap, collation_tools as ct\n",
    "from synthesis import hvc_looper as hvcl, magnetic_field_derivation as mfd, KStest, uncertainty_subtraction as us\n",
    "\n",
    "collated_data = collator.data_whole_sky(False, load_data=[\"../data_processed/proc_rms\",\"../data_processed/proc_hvcs\"], h1_img=\"../data_catalog/hi4pi-hvc-nhi-car.fits\", override_RMs=True)\n",
    "\n",
    "master_hvcs = hvcl.load_HVCs(collated_data, hvc_indicies=[0, 1, 2, 3, 4, 5, 6, 7, 9, 10, 12, 13, 24])\n",
    "\n",
    "results = ct.read_processed(\"../data_processed/results_weighted_RM\")\n",
    "\n",
    "len(master_hvcs)"
   ]
  },
  {
   "cell_type": "code",
   "execution_count": 2,
   "metadata": {},
   "outputs": [],
   "source": [
    "import numpy as np"
   ]
  },
  {
   "cell_type": "code",
   "execution_count": 3,
   "metadata": {},
   "outputs": [
    {
     "data": {
      "text/html": [
       "&lt;Column name=&apos;Sigma [meas]&apos; dtype=&apos;float64&apos; length=13&gt;\n",
       "<table>\n",
       "<tr><td>10.197803752505306</td></tr>\n",
       "<tr><td>10.456531084285634</td></tr>\n",
       "<tr><td>11.300489917991937</td></tr>\n",
       "<tr><td>6.206241275388282</td></tr>\n",
       "<tr><td>4.6636656614819545</td></tr>\n",
       "<tr><td>8.475445775240896</td></tr>\n",
       "<tr><td>11.93135412518456</td></tr>\n",
       "<tr><td>14.305615588516298</td></tr>\n",
       "<tr><td>8.228261532281218</td></tr>\n",
       "<tr><td>11.432221120754418</td></tr>\n",
       "<tr><td>9.09989926333979</td></tr>\n",
       "<tr><td>8.81646140885563</td></tr>\n",
       "<tr><td>10.093260013012054</td></tr>\n",
       "</table>"
      ],
      "text/plain": [
       "<Column name='Sigma [meas]' dtype='float64' length=13>\n",
       "10.197803752505306\n",
       "10.456531084285634\n",
       "11.300489917991937\n",
       " 6.206241275388282\n",
       "4.6636656614819545\n",
       " 8.475445775240896\n",
       " 11.93135412518456\n",
       "14.305615588516298\n",
       " 8.228261532281218\n",
       "11.432221120754418\n",
       "  9.09989926333979\n",
       "  8.81646140885563\n",
       "10.093260013012054"
      ]
     },
     "execution_count": 3,
     "metadata": {},
     "output_type": "execute_result"
    }
   ],
   "source": [
    "master_rm_inner, master_rm_outer, inners, outers = us.get_stacked_sets(master_hvcs)\n",
    "inner_sigma = us.uncertainty_table(inners)\n",
    "outer_sigma = us.uncertainty_table(outers)\n",
    "\n",
    "#uncertainty_KS = np.sqrt(inner_sigma[\"Sigma [meas]\"]**2 + inner_sigma[\"Sigma [obsv]\"]**2 + outer_sigma[\"Sigma [meas]\"]**2 + outer_sigma[\"Sigma [obsv]\"]**2)\n",
    "uncertainty_KS = np.sqrt(inner_sigma[\"Sigma [meas]\"]**2 + outer_sigma[\"Sigma [meas]\"]**2)\n",
    "\n",
    "uncertainty_KS"
   ]
  },
  {
   "cell_type": "code",
   "execution_count": 4,
   "metadata": {},
   "outputs": [
    {
     "data": {
      "text/html": [
       "<div><i>Table length=13</i>\n",
       "<table id=\"table1860655424016\" class=\"table-striped table-bordered table-condensed\">\n",
       "<thead><tr><th>Name</th><th>Statistic</th><th>p_value</th><th>Statistic_x</th><th>Statistic_sgn</th><th>Statistic_diff</th><th>Significant</th><th>Sigma [meas]</th><th>Sigma [obsv]</th><th>Sigma [true]</th><th>Sigma [diff]</th><th>FWHM</th><th>Average [inner]</th><th>Average [outer]</th><th>Average [diff]</th><th>Avg Unc [inner]</th><th>Avg Unc [outer]</th><th>Avg Unc [diff]</th><th>KS unc</th></tr></thead>\n",
       "<thead><tr><th>str15</th><th>float64</th><th>float64</th><th>float64</th><th>int32</th><th>float64</th><th>bool</th><th>float64</th><th>float64</th><th>float64</th><th>float64</th><th>float64</th><th>float64</th><th>float64</th><th>float64</th><th>float64</th><th>float64</th><th>float64</th><th>float64</th></tr></thead>\n",
       "<tr><td>G038.7-37.3-241</td><td>0.2074738871132492</td><td>3.5194997048780594e-09</td><td>-23.129523665567874</td><td>-1</td><td>16.86046632442212</td><td>True</td><td>7.315711919790323</td><td>21.44495684338161</td><td>20.158534994417067</td><td>-7.5559356070774975</td><td>-17.792868626509186</td><td>-9.010901261901203</td><td>-16.691518833687702</td><td>7.680617571786499</td><td>0.1544710566244403</td><td>0.06975604516150032</td><td>0.16949104156634448</td><td>10.197803752505306</td></tr>\n",
       "<tr><td>G038.8-33.2-261</td><td>0.31066825775656326</td><td>1.3943532792837091e-08</td><td>-6.963302929232215</td><td>-1</td><td>12.50616654023725</td><td>True</td><td>7.247502115395694</td><td>22.736827410419288</td><td>21.5508012328667</td><td>-3.6485845077294528</td><td>-8.591759934790694</td><td>-0.6960604023293531</td><td>-11.978620978240315</td><td>11.282560575910962</td><td>0.4934626372172539</td><td>0.03289730408607167</td><td>0.4945579914889038</td><td>10.456531084285634</td></tr>\n",
       "<tr><td>G043.4-30.4-230</td><td>0.24109469074986317</td><td>3.606854288675973e-11</td><td>-9.607423653882606</td><td>-1</td><td>17.56975352329457</td><td>True</td><td>7.411948080584831</td><td>26.053745901546854</td><td>24.977203629571594</td><td>-2.3590579203581576</td><td>-5.555156878248415</td><td>13.132260146632955</td><td>0.8190631739611469</td><td>12.313196972671808</td><td>0.20749211378340493</td><td>0.06703715396383249</td><td>0.2180526479863889</td><td>11.300489917991937</td></tr>\n",
       "<tr><td>G089.0-64.7-311</td><td>0.3738140417457306</td><td>0.015075834341180974</td><td>-17.51573024976091</td><td>1</td><td>-12.06027479430546</td><td>False</td><td>4.475548858546416</td><td>31.426204980645753</td><td>31.105880825019693</td><td>20.11773030994578</td><td>47.37363459438702</td><td>-7.30229848617082</td><td>-3.978661824845781</td><td>-3.3236366613250388</td><td>1.1564596550972988</td><td>0.048370593054644674</td><td>1.1574707979643466</td><td>6.206241275388282</td></tr>\n",
       "<tr><td>G133.5-75.6-294</td><td>0.46130268199233715</td><td>4.570648166268751e-08</td><td>-5.571498219868521</td><td>-1</td><td>9.893967245596944</td><td>True</td><td>3.1053847739136637</td><td>3.5608394245679476</td><td>1.7424588412650028</td><td>-6.847658270169869</td><td>-16.125002956117964</td><td>-2.168078601732155</td><td>-6.370877536021758</td><td>4.202798934289603</td><td>0.20314919434020826</td><td>0.04004602282589842</td><td>0.2070586368767265</td><td>4.6636656614819545</td></tr>\n",
       "<tr><td>G248.9+36.8+181</td><td>0.08070447918650822</td><td>0.452664079053446</td><td>-9.22561988896952</td><td>-1</td><td>1.9355412721916405</td><td>False</td><td>6.000370649868542</td><td>12.326252879593241</td><td>10.767175215249209</td><td>-1.2534429588517746</td><td>-2.9516326048070622</td><td>-3.7630650039131255</td><td>-2.4956028506573738</td><td>-1.2674621532557517</td><td>0.2547830594711783</td><td>0.07201239105270783</td><td>0.26476440821723396</td><td>8.475445775240896</td></tr>\n",
       "<tr><td>G261.5-34.5+237</td><td>0.2889454915944982</td><td>5.960798790546759e-08</td><td>-9.242870775459728</td><td>-1</td><td>11.928300395711442</td><td>True</td><td>8.594854462293316</td><td>21.06597665131827</td><td>19.23288457423595</td><td>6.542074154087057</td><td>15.405407354123094</td><td>-11.764841199688588</td><td>-17.481018590675696</td><td>5.716177390987108</td><td>0.561224497952308</td><td>0.14982108400037036</td><td>0.5808780373820878</td><td>11.93135412518456</td></tr>\n",
       "<tr><td>G262.4-26.2+143</td><td>0.21329644533869885</td><td>1.2224926075128765e-06</td><td>5.330447266073939</td><td>-1</td><td>13.188305123931798</td><td>True</td><td>10.157119529631</td><td>25.64311095033743</td><td>23.545744033096597</td><td>-28.767857863402234</td><td>-67.7431283493408</td><td>12.994898045135406</td><td>2.6170295774063628</td><td>10.377868467729042</td><td>0.46755894063459996</td><td>0.17864583221397004</td><td>0.5005254202683129</td><td>14.305615588516298</td></tr>\n",
       "<tr><td>G264.6-53.3+224</td><td>0.3195887445887446</td><td>4.0730287570954555e-05</td><td>2.861884589161079</td><td>1</td><td>-6.697674970398481</td><td>True</td><td>5.927300141806982</td><td>15.73809348278103</td><td>14.579255793821908</td><td>0.35850194470109464</td><td>0.8442075655647145</td><td>1.6847642877788824</td><td>8.566817538848705</td><td>-6.882053251069822</td><td>0.627066596774432</td><td>0.04772657752967211</td><td>0.628880229449904</td><td>8.228261532281218</td></tr>\n",
       "<tr><td>G267.1-38.4+263</td><td>0.3428488020518381</td><td>2.318648482161409e-11</td><td>29.111033886656486</td><td>-1</td><td>21.553476329098928</td><td>True</td><td>8.13486037878398</td><td>31.995920177575528</td><td>30.944514128153237</td><td>8.787618562445854</td><td>20.693260338933552</td><td>7.87911832667194</td><td>-0.09597795759895843</td><td>7.975096284270899</td><td>0.5391312832435591</td><td>0.07778003997912636</td><td>0.544713020948647</td><td>11.432221120754418</td></tr>\n",
       "<tr><td>G271.6-48.4+297</td><td>0.12493061782161308</td><td>5.0905622111774864e-05</td><td>3.6754826316026303</td><td>-1</td><td>3.4252323813523766</td><td>True</td><td>6.313050583159695</td><td>17.46551131755536</td><td>16.284639324164395</td><td>0.7298893876279617</td><td>1.7187581606416888</td><td>6.2498163873875034</td><td>5.805870004194806</td><td>0.4439463831926975</td><td>0.07038771856457283</td><td>0.05003114749376412</td><td>0.0863570879793216</td><td>9.09989926333979</td></tr>\n",
       "<tr><td>G271.7-53.1+254</td><td>0.22697520500279825</td><td>0.0003403465863955054</td><td>0.3671275918463621</td><td>1</td><td>-7.590830366111597</td><td>True</td><td>6.2230954330307275</td><td>19.59822249951933</td><td>18.583955670740764</td><td>-1.788038440282012</td><td>-4.2105087604619555</td><td>5.41510695247812</td><td>5.470523397940186</td><td>-0.05541644546206559</td><td>0.37135116945805163</td><td>0.09674753566290917</td><td>0.3837470217665649</td><td>8.81646140885563</td></tr>\n",
       "<tr><td>G323.0+25.6+122</td><td>0.09850367024280068</td><td>0.015086808841105354</td><td>8.268268804363913</td><td>-1</td><td>3.5135140496091566</td><td>False</td><td>7.027533820663006</td><td>15.504176795933859</td><td>13.820031350145756</td><td>-2.003571701609589</td><td>-4.718050804607028</td><td>1.8459752469674637</td><td>0.562276565703049</td><td>1.2836986812644149</td><td>0.1590458772843892</td><td>0.04110232940310076</td><td>0.16427109472917623</td><td>10.093260013012054</td></tr>\n",
       "</table></div>"
      ],
      "text/plain": [
       "<Table length=13>\n",
       "      Name           Statistic      ...    Avg Unc [diff]         KS unc      \n",
       "     str15            float64       ...       float64            float64      \n",
       "--------------- ------------------- ... ------------------- ------------------\n",
       "G038.7-37.3-241  0.2074738871132492 ... 0.16949104156634448 10.197803752505306\n",
       "G038.8-33.2-261 0.31066825775656326 ...  0.4945579914889038 10.456531084285634\n",
       "G043.4-30.4-230 0.24109469074986317 ...  0.2180526479863889 11.300489917991937\n",
       "G089.0-64.7-311  0.3738140417457306 ...  1.1574707979643466  6.206241275388282\n",
       "G133.5-75.6-294 0.46130268199233715 ...  0.2070586368767265 4.6636656614819545\n",
       "G248.9+36.8+181 0.08070447918650822 ... 0.26476440821723396  8.475445775240896\n",
       "G261.5-34.5+237  0.2889454915944982 ...  0.5808780373820878  11.93135412518456\n",
       "G262.4-26.2+143 0.21329644533869885 ...  0.5005254202683129 14.305615588516298\n",
       "G264.6-53.3+224  0.3195887445887446 ...   0.628880229449904  8.228261532281218\n",
       "G267.1-38.4+263  0.3428488020518381 ...   0.544713020948647 11.432221120754418\n",
       "G271.6-48.4+297 0.12493061782161308 ...  0.0863570879793216   9.09989926333979\n",
       "G271.7-53.1+254 0.22697520500279825 ...  0.3837470217665649   8.81646140885563\n",
       "G323.0+25.6+122 0.09850367024280068 ... 0.16427109472917623 10.093260013012054"
      ]
     },
     "execution_count": 4,
     "metadata": {},
     "output_type": "execute_result"
    }
   ],
   "source": [
    "results.add_column(uncertainty_KS, name=\"KS unc\")\n",
    "\n",
    "results"
   ]
  },
  {
   "cell_type": "markdown",
   "metadata": {},
   "source": [
    "## Bootstrap Resampling"
   ]
  },
  {
   "cell_type": "code",
   "execution_count": 5,
   "metadata": {},
   "outputs": [],
   "source": [
    "from astropy.table import Table\n",
    "import copy\n",
    "\n",
    "def bootstrap_selection(sample):\n",
    "    sample = copy.deepcopy(sample)\n",
    "    sample.remove_column(\"ra_dec_obj\")\n",
    "    rand = np.round((len(sample)-1) * np.random.rand(len(sample))).astype(int)\n",
    "    t = copy.deepcopy(sample)\n",
    "    t.remove_rows(list(range(len(sample))))\n",
    "\n",
    "    for index in rand:\n",
    "        t.add_row(list(sample[index]))\n",
    "    \n",
    "    return t\n",
    "\n",
    "def bootstrap_sample_creation(sample, console_out=\"\"):\n",
    "    samples = []\n",
    "    l = len(sample)\n",
    "    for i in range(len(sample)):\n",
    "        samples.append(bootstrap_selection(sample))\n",
    "        print(console_out+\"Creating samples: \"+str(int((i+1)/l*100))+\"% \\r\", sep=\"\", end=\"\", flush=True)\n",
    "    return samples\n",
    "\n",
    "def bootstrap_evaluation(samples, callback):\n",
    "    sample_out = []\n",
    "    l = len(samples)\n",
    "\n",
    "    for i in range(len(samples)):\n",
    "        sout = \"Evaluating samples: \"+str(int((i+1)/l*100))+\"% \"\n",
    "        sample = samples[i]\n",
    "        bootstrapped = bootstrap_sample_creation(sample, sout+\"\")\n",
    "        response = np.array(list(map(callback, bootstrapped)))\n",
    "        sample_out.append(response)\n",
    "        print(sout+\"\\r\", sep=\"\", end=\"\", flush=True)\n",
    "\n",
    "    return np.array(sample_out)\n",
    "\n",
    "def uncertainty_calculate(rms):\n",
    "    m_list = rms[\"RM_uncert\"].data\n",
    "    o_list = rms[\"RM\"].data\n",
    "\n",
    "    meas = np.mean(m_list)\n",
    "    obsv = np.std(o_list)\n",
    "\n",
    "    return np.sqrt(obsv**2 - meas**2)"
   ]
  },
  {
   "cell_type": "code",
   "execution_count": 19,
   "metadata": {},
   "outputs": [
    {
     "name": "stdout",
     "output_type": "stream",
     "text": [
      "=== BOOTSTRAPPING UNCERTAINTIES ===\n",
      "Getting stacked sets\n",
      "Calculating inner magnetic field uncertainties\n",
      "Calculating outer magnetic field uncertainties% \n",
      "Calculating final uncertaintyting samples: 100% \n"
     ]
    },
    {
     "data": {
      "text/plain": [
       "array([0.39584818, 0.32473521, 0.20428799, 1.2244449 ,        nan,\n",
       "       0.85192194, 1.51154246, 8.32530501, 1.63155893, 1.66239263,\n",
       "       0.30293187, 1.12654023, 0.46018009, 0.65763306, 0.38222939])"
      ]
     },
     "execution_count": 19,
     "metadata": {},
     "output_type": "execute_result"
    }
   ],
   "source": [
    "import warnings\n",
    "\n",
    "def bootstrap_uncertaintes(master_hvcs):\n",
    "    with warnings.catch_warnings(action=\"ignore\"):\n",
    "        print(\"=== BOOTSTRAPPING UNCERTAINTIES ===\")\n",
    "        print(\"Getting stacked sets\")\n",
    "        master_rm_inner, master_rm_outer, inners, outers = us.get_stacked_sets(master_hvcs)\n",
    "        print(\"Calculating inner magnetic field uncertainties\")\n",
    "        inner_mag = bootstrap_evaluation(inners, uncertainty_calculate)\n",
    "        inner_unc = []\n",
    "        for l in inner_mag:\n",
    "            inner_unc.append(np.nanstd(l))\n",
    "        inner_unc = np.array(inner_unc)\n",
    "        print() \n",
    "        print(\"Calculating outer magnetic field uncertainties\")\n",
    "        outer_mag = bootstrap_evaluation(outers, uncertainty_calculate)\n",
    "        outer_unc = []\n",
    "        for l in outer_mag:\n",
    "            outer_unc.append(np.nanstd(l))\n",
    "        outer_unc = np.array(outer_unc)\n",
    "        print()\n",
    "        print(\"Calculating final uncertainty\")\n",
    "        final = np.sqrt(inner_unc ** 2 + outer_unc ** 2)\n",
    "        return final\n",
    "\n",
    "field_set = bootstrap_uncertaintes(master_hvcs)\n",
    "field_set"
   ]
  },
  {
   "cell_type": "code",
   "execution_count": 20,
   "metadata": {},
   "outputs": [
    {
     "data": {
      "text/html": [
       "<div><i>Table length=15</i>\n",
       "<table id=\"table2031823336336\" class=\"table-striped table-bordered table-condensed\">\n",
       "<thead><tr><th>Name</th><th>Statistic</th><th>p_value</th><th>Statistic_x</th><th>Statistic_sgn</th><th>Statistic_diff</th><th>Significant</th><th>Sigma [meas]</th><th>Sigma [obsv]</th><th>Sigma [true]</th><th>Sigma [diff]</th><th>FWHM</th><th>Average [inner]</th><th>Average [outer]</th><th>Average [diff]</th><th>Avg Unc [inner]</th><th>Avg Unc [outer]</th><th>Avg Unc [diff]</th><th>KS unc</th><th>Sigma unc</th></tr></thead>\n",
       "<thead><tr><th>str15</th><th>float64</th><th>float64</th><th>float64</th><th>int32</th><th>float64</th><th>bool</th><th>float64</th><th>float64</th><th>float64</th><th>float64</th><th>float64</th><th>float64</th><th>float64</th><th>float64</th><th>float64</th><th>float64</th><th>float64</th><th>float64</th><th>float64</th></tr></thead>\n",
       "<tr><td>G038.7-37.3-241</td><td>0.2074738871132492</td><td>3.5194997048780594e-09</td><td>-3.515687526708854</td><td>-1</td><td>2.5503785393572116</td><td>True</td><td>1.5490103064419392</td><td>3.259633374868092</td><td>2.8680615072014404</td><td>-1.2004037875138898</td><td>-2.82673490096878</td><td>-1.3506194176296213</td><td>-2.560210571743284</td><td>1.2095911541136628</td><td>0.007003852876365774</td><td>0.0032940466469477043</td><td>0.007739812557552317</td><td>2.1815601020063724</td><td>0.39584818265424776</td></tr>\n",
       "<tr><td>G038.8-33.2-261</td><td>0.31066825775656326</td><td>1.3943532792837091e-08</td><td>-0.6963302660734451</td><td>-1</td><td>1.245611675868496</td><td>True</td><td>1.0172162310775188</td><td>2.2736826533710723</td><td>2.033446322742001</td><td>-0.3820916381721009</td><td>-0.8997570486063758</td><td>-0.056445222198439816</td><td>-1.1991611171284744</td><td>1.1427158949300344</td><td>0.010148842996047043</td><td>0.0006398107274504492</td><td>0.010168990703377291</td><td>1.4553771530792659</td><td>0.3247352108401835</td></tr>\n",
       "<tr><td>G043.4-30.4-230</td><td>0.24109469074986317</td><td>3.606854288675973e-11</td><td>-1.2589038059025925</td><td>-1</td><td>2.2846397376409495</td><td>True</td><td>1.3692498776485982</td><td>3.4139391636197307</td><td>3.1273207998949974</td><td>-0.3219533860094135</td><td>-0.7581422869405536</td><td>1.500776660653911</td><td>0.052073639648805965</td><td>1.448703021005105</td><td>0.007129552203987939</td><td>0.002050088534124988</td><td>0.007418448464951416</td><td>2.014296014920469</td><td>0.20428798707875953</td></tr>\n",
       "<tr><td>G089.0-64.7-311</td><td>0.3738140417457306</td><td>0.015075834341180974</td><td>-3.5031459148744912</td><td>1</td><td>-2.4420848538134305</td><td>False</td><td>1.7766805216998156</td><td>6.285240753776755</td><td>6.028901861595415</td><td>4.354124583319416</td><td>10.253179847362592</td><td>-2.0433500968670546</td><td>-0.7515102964160036</td><td>-1.291839800451051</td><td>0.18157752049511933</td><td>0.007404423938031661</td><td>0.18172842772392428</td><td>2.4332628530195217</td><td>1.2244448962835837</td></tr>\n",
       "<tr><td>G133.5-75.6-294</td><td>0.46130268199233715</td><td>4.570648166268751e-08</td><td>-1.0081759072724916</td><td>-1</td><td>1.7746068755102902</td><td>True</td><td>1.390653120203451</td><td>0.6443423969361269</td><td>nan</td><td>nan</td><td>nan</td><td>-0.3570725165898588</td><td>-1.1535705764067303</td><td>0.7964980598168715</td><td>0.042906373222247746</td><td>0.007109176796687973</td><td>0.0434913469303192</td><td>2.001602544846478</td><td>nan</td></tr>\n",
       "<tr><td>G248.9+36.8+181</td><td>0.08070447918650822</td><td>0.452664079053446</td><td>-2.5040967925547646</td><td>-1</td><td>0.5189262304682574</td><td>False</td><td>2.5577313774843344</td><td>3.3456971641453612</td><td>2.1567799412092095</td><td>-0.4370240961740395</td><td>-1.0291131018321615</td><td>-0.7672410917916938</td><td>-0.7426862708275596</td><td>-0.024554820964134253</td><td>0.04655645277823943</td><td>0.01318809477546906</td><td>0.04838831614242422</td><td>3.6192905843246095</td><td>0.8519219357184207</td></tr>\n",
       "<tr><td>G261.5-34.5+237</td><td>0.2889454915944982</td><td>5.960798790546759e-08</td><td>-5.487954609053061</td><td>-1</td><td>7.064597943499491</td><td>True</td><td>8.363070544185819</td><td>12.507923833010205</td><td>9.300925205879048</td><td>5.8850039182248</td><td>13.858125191721438</td><td>-3.620108937244275</td><td>-7.837450117500442</td><td>4.217341180256167</td><td>0.4686915287204748</td><td>0.13939402347543306</td><td>0.4889810250664184</td><td>11.798096482827903</td><td>1.5115424552737302</td></tr>\n",
       "<tr><td>G262.4-26.2+143</td><td>0.21329644533869885</td><td>1.2224926075128765e-06</td><td>2.0255699650566523</td><td>-1</td><td>5.008552948039634</td><td>True</td><td>5.0791565705667105</td><td>9.744382180123484</td><td>8.315957708164293</td><td>-11.277167064796421</td><td>-26.555699055345446</td><td>4.0206400164297795</td><td>0.17353602031256268</td><td>3.8471039961172173</td><td>0.11708586076209412</td><td>0.0424759648413749</td><td>0.12455242422211704</td><td>7.193251686060157</td><td>8.325305008340273</td></tr>\n",
       "<tr><td>G264.6-53.3+224</td><td>0.3195887445887446</td><td>4.0730287570954555e-05</td><td>0.9062634882158793</td><td>1</td><td>-2.1167595348071426</td><td>True</td><td>3.023390368905306</td><td>4.983729795251348</td><td>3.9619027435421326</td><td>0.16014564072012671</td><td>0.377114164892079</td><td>0.8210758855823943</td><td>2.499888949334954</td><td>-1.67881306375256</td><td>0.16176219741916012</td><td>0.013152603813846201</td><td>0.1622960242919072</td><td>4.269997743503358</td><td>1.6315589302445745</td></tr>\n",
       "<tr><td>G267.1-38.4+263</td><td>0.3428488020518381</td><td>2.318648482161409e-11</td><td>12.715164074377505</td><td>-1</td><td>9.411860771074203</td><td>True</td><td>6.459354538810761</td><td>13.975229335809928</td><td>12.392892072895142</td><td>3.764226145036</td><td>8.86407518036035</td><td>3.935691120510584</td><td>0.5967725854698486</td><td>3.3389185350407353</td><td>0.2785684550874129</td><td>0.034675044112350076</td><td>0.2807182624162194</td><td>8.557843765816393</td><td>1.6623926332614178</td></tr>\n",
       "<tr><td>G271.6-48.4+297</td><td>0.12493061782161308</td><td>5.0905622111774864e-05</td><td>0.6348560731135152</td><td>-1</td><td>0.5747960130534552</td><td>True</td><td>1.656313599761247</td><td>3.0167700520864895</td><td>2.5214136523807156</td><td>0.14031802939919347</td><td>0.33042370830846285</td><td>1.0438949513719682</td><td>0.9506817070694712</td><td>0.09321324430249706</td><td>0.004907414793746411</td><td>0.003332420455528648</td><td>0.005931925998384243</td><td>2.360885532203072</td><td>0.3029318711354087</td></tr>\n",
       "<tr><td>G271.7-53.1+254</td><td>0.22697520500279825</td><td>0.0003403465863955054</td><td>0.11625707523884121</td><td>1</td><td>-2.3862454272636606</td><td>True</td><td>3.238101358605643</td><td>6.206104031068475</td><td>5.294376907232867</td><td>-0.6047436349837891</td><td>-1.4240624337647063</td><td>1.4552097774993904</td><td>1.9595738303089552</td><td>-0.5043640528095649</td><td>0.09698678376448278</td><td>0.02527784255573244</td><td>0.10022677062168041</td><td>4.605857104115553</td><td>1.1265402301204932</td></tr>\n",
       "<tr><td>G282.3-38.3+117</td><td>0.277823006349348</td><td>8.58037227199818e-27</td><td>-1.2426193078764725</td><td>1</td><td>-3.4648415300986937</td><td>True</td><td>4.440559986447358</td><td>6.711461315863094</td><td>5.032408966001214</td><td>-1.9662738656700256</td><td>-4.630221112900268</td><td>-3.5925312924892405</td><td>-0.9148853822952732</td><td>-2.6776459101939674</td><td>0.03965139483683959</td><td>0.007828831318331808</td><td>0.04041687410374338</td><td>6.278841551975273</td><td>0.4601800929005239</td></tr>\n",
       "<tr><td>G298.0-81.7+127</td><td>0.3912087912087912</td><td>0.3650943759236951</td><td>-0.32122628572356143</td><td>-1</td><td>0.6197146552173791</td><td>False</td><td>0.6334116228188119</td><td>0.6119163229594444</td><td>nan</td><td>nan</td><td>nan</td><td>-0.45075741293499927</td><td>-1.0615369187379453</td><td>0.6107795058029459</td><td>0.08014615753173712</td><td>0.004609910845411929</td><td>0.08027862632796272</td><td>0.9079483201379522</td><td>0.6576330572404541</td></tr>\n",
       "<tr><td>G323.0+25.6+122</td><td>0.09850367024280068</td><td>0.015086808841105354</td><td>1.963713871853483</td><td>-1</td><td>0.8225727307123423</td><td>False</td><td>2.404035520546133</td><td>3.682242046820639</td><td>2.789179038234429</td><td>-0.5391757592999458</td><td>-1.2696618857942945</td><td>0.3415276301058542</td><td>-0.02499178851752142</td><td>0.36651941862337556</td><td>0.018652681127120103</td><td>0.004708276291768519</td><td>0.019237733205075176</td><td>3.432991802505538</td><td>0.38222939396615435</td></tr>\n",
       "</table></div>"
      ],
      "text/plain": [
       "<Table length=15>\n",
       "      Name           Statistic      ...       KS unc            Sigma unc     \n",
       "     str15            float64       ...      float64             float64      \n",
       "--------------- ------------------- ... ------------------ -------------------\n",
       "G038.7-37.3-241  0.2074738871132492 ... 2.1815601020063724 0.39584818265424776\n",
       "G038.8-33.2-261 0.31066825775656326 ... 1.4553771530792659  0.3247352108401835\n",
       "G043.4-30.4-230 0.24109469074986317 ...  2.014296014920469 0.20428798707875953\n",
       "G089.0-64.7-311  0.3738140417457306 ... 2.4332628530195217  1.2244448962835837\n",
       "G133.5-75.6-294 0.46130268199233715 ...  2.001602544846478                 nan\n",
       "G248.9+36.8+181 0.08070447918650822 ... 3.6192905843246095  0.8519219357184207\n",
       "G261.5-34.5+237  0.2889454915944982 ... 11.798096482827903  1.5115424552737302\n",
       "G262.4-26.2+143 0.21329644533869885 ...  7.193251686060157   8.325305008340273\n",
       "G264.6-53.3+224  0.3195887445887446 ...  4.269997743503358  1.6315589302445745\n",
       "G267.1-38.4+263  0.3428488020518381 ...  8.557843765816393  1.6623926332614178\n",
       "G271.6-48.4+297 0.12493061782161308 ...  2.360885532203072  0.3029318711354087\n",
       "G271.7-53.1+254 0.22697520500279825 ...  4.605857104115553  1.1265402301204932\n",
       "G282.3-38.3+117   0.277823006349348 ...  6.278841551975273  0.4601800929005239\n",
       "G298.0-81.7+127  0.3912087912087912 ... 0.9079483201379522  0.6576330572404541\n",
       "G323.0+25.6+122 0.09850367024280068 ...  3.432991802505538 0.38222939396615435"
      ]
     },
     "execution_count": 20,
     "metadata": {},
     "output_type": "execute_result"
    }
   ],
   "source": [
    "results.add_column(field_set, name=\"Sigma unc\")\n",
    "\n",
    "results"
   ]
  },
  {
   "cell_type": "code",
   "execution_count": 21,
   "metadata": {},
   "outputs": [],
   "source": [
    "ct.write_processed(results, \"../data_processed/results_final_unfiltered\")\n",
    "ct.write_processed(us.filter_significant(results), \"../data_processed/results_final_filtered\")"
   ]
  },
  {
   "cell_type": "code",
   "execution_count": null,
   "metadata": {},
   "outputs": [],
   "source": []
  }
 ],
 "metadata": {
  "kernelspec": {
   "display_name": "base",
   "language": "python",
   "name": "python3"
  },
  "language_info": {
   "codemirror_mode": {
    "name": "ipython",
    "version": 3
   },
   "file_extension": ".py",
   "mimetype": "text/x-python",
   "name": "python",
   "nbconvert_exporter": "python",
   "pygments_lexer": "ipython3",
   "version": "3.11.3"
  }
 },
 "nbformat": 4,
 "nbformat_minor": 2
}
