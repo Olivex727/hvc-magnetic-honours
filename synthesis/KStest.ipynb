{
 "cells": [
  {
   "cell_type": "code",
   "execution_count": 2,
   "metadata": {},
   "outputs": [
    {
     "name": "stdout",
     "output_type": "stream",
     "text": [
      "=== WHOLE-SKY DATA COLLATION ===\n",
      "Gathering data ...\n",
      "Getting H-alpha emission\n",
      "Extracting RMs\n",
      "Getting HVC location data\n",
      "Getting HI emission\n",
      "Interpolating\n",
      "Collation complete\n",
      "=== HVC RM LOADER ===\n",
      "Taking HVC snapshots\n",
      "Process complete\n"
     ]
    }
   ],
   "source": [
    "import sys\n",
    "sys.path.append('C://Users/olive/OneDrive - Australian National University/Honours-Olivia/Programs/honours/standard_modules')\n",
    "sys.path.append('C://Users/olive/OneDrive - Australian National University/Honours-Olivia/Programs/honours/project')\n",
    "\n",
    "from collation import collator, hvc_snapshot as snap\n",
    "from synthesis import hvc_looper as hvcl, magnetic_field_derivation as mfd\n",
    "\n",
    "collated_data = collator.data_whole_sky(False, load_data=[\"../data_processed/proc_rms\",\"../data_processed/proc_hvcs\"], h1_img=\"../data_catalog/hi4pi-hvc-nhi-car.fits\", override_RMs=True)\n",
    "\n",
    "master_hvcs = hvcl.load_HVCs(collated_data, hvc_indicies=[0, 1, 2, 3, 4, 5, 6, 7, 9, 10, 12, 13, 16, 22, 24])"
   ]
  },
  {
   "cell_type": "markdown",
   "metadata": {},
   "source": [
    "# KS Testing"
   ]
  },
  {
   "cell_type": "markdown",
   "metadata": {},
   "source": [
    "## Split the RMs into two populations"
   ]
  },
  {
   "cell_type": "code",
   "execution_count": 69,
   "metadata": {},
   "outputs": [
    {
     "data": {
      "text/html": [
       "<i>Row index=4</i>\n",
       "<table id=\"table1354340634832\">\n",
       "<thead><tr><th>Name</th><th>SkyCoord</th><th>RAJ2000</th><th>DEJ2000</th><th>VLSR</th><th>e_VLSR</th><th>VGSR</th><th>Vdev</th><th>FWHM</th><th>TbFit</th><th>NH</th><th>e_NH</th><th>Area</th><th>dx</th><th>dy</th><th>Flag</th><th>HI</th><th>WW91</th><th>Simbad</th><th>recno</th><th>Cat</th><th>Nearest RM</th></tr></thead>\n",
       "<thead><tr><th></th><th>deg,deg</th><th></th><th></th><th>km / s</th><th>km / s</th><th>km / s</th><th>km / s</th><th>km / s</th><th>K</th><th>1 / cm2</th><th>1 / cm2</th><th>deg2</th><th>deg</th><th>deg</th><th></th><th></th><th></th><th></th><th></th><th></th><th>deg</th></tr></thead>\n",
       "<thead><tr><th>str15</th><th>SkyCoord</th><th>str11</th><th>str9</th><th>float32</th><th>float32</th><th>float32</th><th>float32</th><th>float32</th><th>float32</th><th>float32</th><th>float32</th><th>float32</th><th>float32</th><th>float32</th><th>str4</th><th>str19</th><th>str18</th><th>str6</th><th>int32</th><th>str4</th><th>float64</th></tr></thead>\n",
       "<tr><td>G133.5-75.6-294</td><td>15.548161692114391,-13.005834286896315</td><td>01 02 11.56</td><td>-13 00 21</td><td>-294.1</td><td>1.8</td><td>-254.6</td><td>-261.6</td><td>26.8</td><td>0.42</td><td>2e+19</td><td>3e+18</td><td>1.3</td><td>4.2</td><td>1.4</td><td>H2</td><td>HVC 131.9-75.8-302</td><td>EN,MS_MS</td><td>Simbad</td><td>427</td><td>GHVC</td><td>0.048293947366666666</td></tr>\n",
       "</table>"
      ],
      "text/plain": [
       "<Row index=4>\n",
       "      Name                     SkyCoord                  RAJ2000    DEJ2000    VLSR   e_VLSR   VGSR    Vdev    FWHM   TbFit     NH      e_NH     Area     dx      dy   Flag         HI           WW91   Simbad recno Cat       Nearest RM     \n",
       "                               deg,deg                                        km / s  km / s  km / s  km / s  km / s    K    1 / cm2  1 / cm2    deg2    deg     deg                                                              deg         \n",
       "     str15                     SkyCoord                   str11       str9   float32 float32 float32 float32 float32 float32 float32  float32  float32 float32 float32 str4       str19         str18    str6  int32 str4       float64       \n",
       "--------------- -------------------------------------- ----------- --------- ------- ------- ------- ------- ------- ------- -------- -------- ------- ------- ------- ---- ------------------ -------- ------ ----- ---- --------------------\n",
       "G133.5-75.6-294 15.548161692114391,-13.005834286896315 01 02 11.56 -13 00 21  -294.1     1.8  -254.6  -261.6    26.8    0.42    2e+19    3e+18     1.3     4.2     1.4   H2 HVC 131.9-75.8-302 EN,MS_MS Simbad   427 GHVC 0.048293947366666666"
      ]
     },
     "execution_count": 69,
     "metadata": {},
     "output_type": "execute_result"
    }
   ],
   "source": [
    "#master_hvcs[0][\"RMs\"]\n",
    "master_hvcs[4][\"HVC\"]"
   ]
  },
  {
   "cell_type": "code",
   "execution_count": 28,
   "metadata": {},
   "outputs": [
    {
     "name": "stdout",
     "output_type": "stream",
     "text": [
      "144\n",
      "909\n"
     ]
    }
   ],
   "source": [
    "import numpy as np\n",
    "\n",
    "def split_RMs(RMs, centre, max_distance):\n",
    "    mask = np.zeros(len(RMs), dtype=bool)\n",
    "    for i in range(len(RMs)):\n",
    "        rmi = RMs[i]\n",
    "        mask[i] = rmi[\"ra_dec_obj\"].separation(centre).value < max_distance\n",
    "\n",
    "    RMs_inner = RMs[~mask]\n",
    "    RMs_outer = RMs[mask]\n",
    "\n",
    "    return RMs_inner, RMs_outer\n",
    "        \n",
    "\n",
    "inner, outer = split_RMs(master_hvcs[0][\"RMs\"], master_hvcs[0][\"HVC\"][\"SkyCoord\"], max(master_hvcs[0][\"HVC\"][\"dx\"], master_hvcs[0][\"HVC\"][\"dy\"]))\n",
    "\n",
    "#print(len(master_hvcs[0][\"RMs\"]))\n",
    "print(len(inner))\n",
    "print(len(outer))"
   ]
  },
  {
   "cell_type": "markdown",
   "metadata": {},
   "source": [
    "## Produce CDFs of distributions"
   ]
  },
  {
   "cell_type": "code",
   "execution_count": 50,
   "metadata": {},
   "outputs": [],
   "source": [
    "import scipy.stats as stats\n",
    "\n",
    "def make_cdfs(inner, outer):\n",
    "    inner_data = np.sort(inner[\"B_virtual [int]\"].data*1e6)\n",
    "    inner_cdf = stats.norm.cdf(inner_data)\n",
    "\n",
    "    outer_data = np.sort(outer[\"B_virtual [int]\"].data*1e6)\n",
    "    outer_cdf = stats.norm.cdf(outer_data)\n",
    "\n",
    "    return inner_data, inner_cdf, outer_data, outer_cdf\n",
    "\n",
    "inner_data, inner_cdf, outer_data, outer_cdf = make_cdfs(inner, outer)\n",
    "#print(inner_cdf)\n",
    "#print(np.sort(inner[\"B_virtual [int]\"].data*1e6))"
   ]
  },
  {
   "cell_type": "code",
   "execution_count": 51,
   "metadata": {},
   "outputs": [
    {
     "data": {
      "image/png": "[encoded data removed]",
      "text/plain": [
       "<Figure size 640x480 with 1 Axes>"
      ]
     },
     "metadata": {},
     "output_type": "display_data"
    }
   ],
   "source": [
    "import matplotlib.pyplot as plt\n",
    "\n",
    "plt.plot(inner_data, inner_cdf)\n",
    "plt.plot(outer_data, outer_cdf)\n",
    "plt.show()"
   ]
  },
  {
   "cell_type": "markdown",
   "metadata": {},
   "source": [
    "## Perform Scipy KS test"
   ]
  },
  {
   "cell_type": "code",
   "execution_count": 123,
   "metadata": {},
   "outputs": [
    {
     "name": "stdout",
     "output_type": "stream",
     "text": [
      "Analysing HVC: G133.5-75.6-294\n"
     ]
    },
    {
     "data": {
      "image/png": "[encoded data removed]",
      "text/plain": [
       "<Figure size 640x480 with 1 Axes>"
      ]
     },
     "metadata": {},
     "output_type": "display_data"
    },
    {
     "data": {
      "text/plain": [
       "{'Name': 'G133.5-75.6-294',\n",
       " 'Statistic': 0.46130268199233715,\n",
       " 'p_value': 4.570648166268751e-08,\n",
       " 'Statistic_x': -1.0081759072724916,\n",
       " 'Statistic_sgn': -1,\n",
       " 'Significant': True}"
      ]
     },
     "execution_count": 123,
     "metadata": {},
     "output_type": "execute_result"
    }
   ],
   "source": [
    "import numpy as np\n",
    "import matplotlib.pyplot as plt\n",
    "import scipy.stats as stats\n",
    "from astropy.table import Table\n",
    "\n",
    "def column_to_array(data):\n",
    "    return np.sort(data.data*1e6)\n",
    "\n",
    "def split_RMs(RMs, centre, max_distance):\n",
    "    mask = np.zeros(len(RMs), dtype=bool)\n",
    "    for i in range(len(RMs)):\n",
    "        rmi = RMs[i]\n",
    "        mask[i] = rmi[\"ra_dec_obj\"].separation(centre).value < max_distance\n",
    "\n",
    "    RMs_inner = RMs[~mask]\n",
    "    RMs_outer = RMs[mask]\n",
    "\n",
    "    return RMs_inner, RMs_outer\n",
    "\n",
    "def morph_ring(hvc_snap):\n",
    "    return (hvc_snap[\"HVC\"][\"dx\"] + hvc_snap[\"HVC\"][\"dy\"])/2\n",
    "\n",
    "def make_cdfs(inner, outer):\n",
    "    inner_data = inner\n",
    "    inner_cdf = stats.norm.cdf(inner_data)\n",
    "\n",
    "    outer_data = outer\n",
    "    outer_cdf = stats.norm.cdf(outer_data)\n",
    "\n",
    "    return inner_data, inner_cdf, outer_data, outer_cdf\n",
    "\n",
    "def KStest_single(snapshots, index = 0, show = False, dict_answer=True, p_value=0.05):\n",
    "    hvc_snap = snapshots[index]\n",
    "    inner_rms, outer_rms = split_RMs(hvc_snap[\"RMs\"],hvc_snap[\"HVC\"][\"SkyCoord\"], morph_ring(hvc_snap))\n",
    "    inner = column_to_array(inner_rms[\"B_virtual [int]\"])\n",
    "    outer = column_to_array(outer_rms[\"B_virtual [int]\"])\n",
    "\n",
    "    print(\"Analysing HVC: \" + hvc_snap[\"HVC\"][\"Name\"])\n",
    "    #print(len(outer), len(inner))\n",
    "    #print(morph_ring(hvc_snap))\n",
    "\n",
    "    if show:\n",
    "        inner_data, inner_cdf, outer_data, outer_cdf = make_cdfs(inner, outer)\n",
    "\n",
    "        plt.plot(inner_data, inner_cdf)\n",
    "        plt.plot(outer_data, outer_cdf)\n",
    "        plt.show()\n",
    "\n",
    "    ks_test = stats.ks_2samp(inner, outer)#, nan_policy='omit')\n",
    "\n",
    "    if not dict_answer:\n",
    "        return ks_test\n",
    "    else:\n",
    "        return {\"Name\":hvc_snap[\"HVC\"][\"Name\"], \"Statistic\":ks_test.statistic, \"p_value\":ks_test.pvalue, \"Statistic_x\":ks_test.statistic_location, \"Statistic_sgn\":ks_test.statistic_sign, \"Significant\": ks_test.pvalue < p_value}\n",
    "        \n",
    "KStest_single(master_hvcs, show=True, index=4)"
   ]
  },
  {
   "cell_type": "code",
   "execution_count": 124,
   "metadata": {},
   "outputs": [
    {
     "name": "stdout",
     "output_type": "stream",
     "text": [
      "Analysing HVC: G038.7-37.3-241\n",
      "Analysing HVC: G038.8-33.2-261\n",
      "Analysing HVC: G043.4-30.4-230\n",
      "Analysing HVC: G089.0-64.7-311\n",
      "Analysing HVC: G133.5-75.6-294\n",
      "Analysing HVC: G248.9+36.8+181\n",
      "Analysing HVC: G261.5-34.5+237\n",
      "Analysing HVC: G262.4-26.2+143\n",
      "Analysing HVC: G264.6-53.3+224\n",
      "Analysing HVC: G267.1-38.4+263\n",
      "Analysing HVC: G271.6-48.4+297\n",
      "Analysing HVC: G271.7-53.1+254\n",
      "Analysing HVC: G282.3-38.3+117\n",
      "Analysing HVC: G298.0-81.7+127\n",
      "Analysing HVC: G323.0+25.6+122\n"
     ]
    }
   ],
   "source": [
    "def KStest_hvcs(snapshots, show=False, dict_answer=True, p_value=0.05):\n",
    "    KSlist = []\n",
    "    for i in range(len(snapshots)):\n",
    "        KSlist.append(KStest_single(snapshots, index=i, show=show, dict_answer=dict_answer, p_value=p_value))\n",
    "    return KSlist\n",
    "\n",
    "KSlist = KStest_hvcs(master_hvcs)"
   ]
  },
  {
   "cell_type": "code",
   "execution_count": 125,
   "metadata": {},
   "outputs": [
    {
     "data": {
      "text/html": [
       "<div><i>Table length=15</i>\n",
       "<table id=\"table1353413592144\" class=\"table-striped table-bordered table-condensed\">\n",
       "<thead><tr><th>Name</th><th>Statistic</th><th>p_value</th><th>Statistic_x</th><th>Statistic_sgn</th><th>Significant</th></tr></thead>\n",
       "<thead><tr><th>str15</th><th>float64</th><th>float64</th><th>float64</th><th>int32</th><th>bool</th></tr></thead>\n",
       "<tr><td>G038.7-37.3-241</td><td>0.2074738871132492</td><td>3.5194997048780594e-09</td><td>-3.515687526708854</td><td>-1</td><td>True</td></tr>\n",
       "<tr><td>G038.8-33.2-261</td><td>0.31066825775656326</td><td>1.3943532792837091e-08</td><td>-0.6963302660734451</td><td>-1</td><td>True</td></tr>\n",
       "<tr><td>G043.4-30.4-230</td><td>0.24109469074986317</td><td>3.606854288675973e-11</td><td>-1.2589038059025925</td><td>-1</td><td>True</td></tr>\n",
       "<tr><td>G089.0-64.7-311</td><td>0.3738140417457306</td><td>0.015075834341180974</td><td>-3.5031459148744912</td><td>1</td><td>True</td></tr>\n",
       "<tr><td>G133.5-75.6-294</td><td>0.46130268199233715</td><td>4.570648166268751e-08</td><td>-1.0081759072724916</td><td>-1</td><td>True</td></tr>\n",
       "<tr><td>G248.9+36.8+181</td><td>0.08070447918650822</td><td>0.452664079053446</td><td>-2.5040967925547646</td><td>-1</td><td>False</td></tr>\n",
       "<tr><td>G261.5-34.5+237</td><td>0.2889454915944982</td><td>5.960798790546759e-08</td><td>-5.487954609053061</td><td>-1</td><td>True</td></tr>\n",
       "<tr><td>G262.4-26.2+143</td><td>0.21329644533869885</td><td>1.2224926075128765e-06</td><td>2.0255699650566523</td><td>-1</td><td>True</td></tr>\n",
       "<tr><td>G264.6-53.3+224</td><td>0.3195887445887446</td><td>4.0730287570954555e-05</td><td>0.9062634882158793</td><td>1</td><td>True</td></tr>\n",
       "<tr><td>G267.1-38.4+263</td><td>0.3428488020518381</td><td>2.318648482161409e-11</td><td>12.715164074377505</td><td>-1</td><td>True</td></tr>\n",
       "<tr><td>G271.6-48.4+297</td><td>0.12493061782161308</td><td>5.0905622111774864e-05</td><td>0.6348560731135152</td><td>-1</td><td>True</td></tr>\n",
       "<tr><td>G271.7-53.1+254</td><td>0.22697520500279825</td><td>0.0003403465863955054</td><td>0.11625707523884121</td><td>1</td><td>True</td></tr>\n",
       "<tr><td>G282.3-38.3+117</td><td>0.277823006349348</td><td>8.58037227199818e-27</td><td>-1.2426193078764725</td><td>1</td><td>True</td></tr>\n",
       "<tr><td>G298.0-81.7+127</td><td>0.3912087912087912</td><td>0.3650943759236951</td><td>-0.32122628572356143</td><td>-1</td><td>False</td></tr>\n",
       "<tr><td>G323.0+25.6+122</td><td>0.09850367024280068</td><td>0.015086808841105354</td><td>1.963713871853483</td><td>-1</td><td>True</td></tr>\n",
       "</table></div>"
      ],
      "text/plain": [
       "<Table length=15>\n",
       "      Name           Statistic      ... Statistic_sgn Significant\n",
       "     str15            float64       ...     int32         bool   \n",
       "--------------- ------------------- ... ------------- -----------\n",
       "G038.7-37.3-241  0.2074738871132492 ...            -1        True\n",
       "G038.8-33.2-261 0.31066825775656326 ...            -1        True\n",
       "G043.4-30.4-230 0.24109469074986317 ...            -1        True\n",
       "G089.0-64.7-311  0.3738140417457306 ...             1        True\n",
       "G133.5-75.6-294 0.46130268199233715 ...            -1        True\n",
       "G248.9+36.8+181 0.08070447918650822 ...            -1       False\n",
       "G261.5-34.5+237  0.2889454915944982 ...            -1        True\n",
       "G262.4-26.2+143 0.21329644533869885 ...            -1        True\n",
       "G264.6-53.3+224  0.3195887445887446 ...             1        True\n",
       "G267.1-38.4+263  0.3428488020518381 ...            -1        True\n",
       "G271.6-48.4+297 0.12493061782161308 ...            -1        True\n",
       "G271.7-53.1+254 0.22697520500279825 ...             1        True\n",
       "G282.3-38.3+117   0.277823006349348 ...             1        True\n",
       "G298.0-81.7+127  0.3912087912087912 ...            -1       False\n",
       "G323.0+25.6+122 0.09850367024280068 ...            -1        True"
      ]
     },
     "execution_count": 125,
     "metadata": {},
     "output_type": "execute_result"
    }
   ],
   "source": [
    "Table(rows=KSlist)#, names=(\"statistic\", \"pvalue\", \"statistic_location\", \"statistic_sign\"))"
   ]
  },
  {
   "cell_type": "markdown",
   "metadata": {},
   "source": [
    "# Putting it all together"
   ]
  },
  {
   "cell_type": "code",
   "execution_count": 1,
   "metadata": {},
   "outputs": [
    {
     "name": "stdout",
     "output_type": "stream",
     "text": [
      "=== WHOLE-SKY DATA COLLATION ===\n",
      "Gathering data ...\n",
      "Getting H-alpha emission\n",
      "Extracting RMs\n",
      "Getting HVC location data\n",
      "Getting HI emission\n",
      "Interpolating\n",
      "Collation complete\n",
      "=== HVC RM LOADER ===\n",
      "Taking HVC snapshots\n",
      "Process complete\n",
      "=== HVC KS TESTING ===\n",
      "Performing KS Tests\n",
      "Converting\n",
      "Saving data\n",
      "Process Complete\n"
     ]
    },
    {
     "data": {
      "text/html": [
       "<div><i>Table length=15</i>\n",
       "<table id=\"table2510056861328\" class=\"table-striped table-bordered table-condensed\">\n",
       "<thead><tr><th>Name</th><th>Statistic</th><th>p_value</th><th>Statistic_x</th><th>Statistic_sgn</th><th>Significant</th></tr></thead>\n",
       "<thead><tr><th>str15</th><th>float64</th><th>float64</th><th>float64</th><th>int32</th><th>bool</th></tr></thead>\n",
       "<tr><td>G038.7-37.3-241</td><td>0.2074738871132492</td><td>3.5194997048780594e-09</td><td>-3.515687526708854</td><td>-1</td><td>True</td></tr>\n",
       "<tr><td>G038.8-33.2-261</td><td>0.31066825775656326</td><td>1.3943532792837091e-08</td><td>-0.6963302660734451</td><td>-1</td><td>True</td></tr>\n",
       "<tr><td>G043.4-30.4-230</td><td>0.24109469074986317</td><td>3.606854288675973e-11</td><td>-1.2589038059025925</td><td>-1</td><td>True</td></tr>\n",
       "<tr><td>G089.0-64.7-311</td><td>0.3738140417457306</td><td>0.015075834341180974</td><td>-3.5031459148744912</td><td>1</td><td>True</td></tr>\n",
       "<tr><td>G133.5-75.6-294</td><td>0.46130268199233715</td><td>4.570648166268751e-08</td><td>-1.0081759072724916</td><td>-1</td><td>True</td></tr>\n",
       "<tr><td>G248.9+36.8+181</td><td>0.08070447918650822</td><td>0.452664079053446</td><td>-2.5040967925547646</td><td>-1</td><td>False</td></tr>\n",
       "<tr><td>G261.5-34.5+237</td><td>0.2889454915944982</td><td>5.960798790546759e-08</td><td>-5.487954609053061</td><td>-1</td><td>True</td></tr>\n",
       "<tr><td>G262.4-26.2+143</td><td>0.21329644533869885</td><td>1.2224926075128765e-06</td><td>2.0255699650566523</td><td>-1</td><td>True</td></tr>\n",
       "<tr><td>G264.6-53.3+224</td><td>0.3195887445887446</td><td>4.0730287570954555e-05</td><td>0.9062634882158793</td><td>1</td><td>True</td></tr>\n",
       "<tr><td>G267.1-38.4+263</td><td>0.3428488020518381</td><td>2.318648482161409e-11</td><td>12.715164074377505</td><td>-1</td><td>True</td></tr>\n",
       "<tr><td>G271.6-48.4+297</td><td>0.12493061782161308</td><td>5.0905622111774864e-05</td><td>0.6348560731135152</td><td>-1</td><td>True</td></tr>\n",
       "<tr><td>G271.7-53.1+254</td><td>0.22697520500279825</td><td>0.0003403465863955054</td><td>0.11625707523884121</td><td>1</td><td>True</td></tr>\n",
       "<tr><td>G282.3-38.3+117</td><td>0.277823006349348</td><td>8.58037227199818e-27</td><td>-1.2426193078764725</td><td>1</td><td>True</td></tr>\n",
       "<tr><td>G298.0-81.7+127</td><td>0.3912087912087912</td><td>0.3650943759236951</td><td>-0.32122628572356143</td><td>-1</td><td>False</td></tr>\n",
       "<tr><td>G323.0+25.6+122</td><td>0.09850367024280068</td><td>0.015086808841105354</td><td>1.963713871853483</td><td>-1</td><td>True</td></tr>\n",
       "</table></div>"
      ],
      "text/plain": [
       "<Table length=15>\n",
       "      Name           Statistic      ... Statistic_sgn Significant\n",
       "     str15            float64       ...     int32         bool   \n",
       "--------------- ------------------- ... ------------- -----------\n",
       "G038.7-37.3-241  0.2074738871132492 ...            -1        True\n",
       "G038.8-33.2-261 0.31066825775656326 ...            -1        True\n",
       "G043.4-30.4-230 0.24109469074986317 ...            -1        True\n",
       "G089.0-64.7-311  0.3738140417457306 ...             1        True\n",
       "G133.5-75.6-294 0.46130268199233715 ...            -1        True\n",
       "G248.9+36.8+181 0.08070447918650822 ...            -1       False\n",
       "G261.5-34.5+237  0.2889454915944982 ...            -1        True\n",
       "G262.4-26.2+143 0.21329644533869885 ...            -1        True\n",
       "G264.6-53.3+224  0.3195887445887446 ...             1        True\n",
       "G267.1-38.4+263  0.3428488020518381 ...            -1        True\n",
       "G271.6-48.4+297 0.12493061782161308 ...            -1        True\n",
       "G271.7-53.1+254 0.22697520500279825 ...             1        True\n",
       "G282.3-38.3+117   0.277823006349348 ...             1        True\n",
       "G298.0-81.7+127  0.3912087912087912 ...            -1       False\n",
       "G323.0+25.6+122 0.09850367024280068 ...            -1        True"
      ]
     },
     "execution_count": 1,
     "metadata": {},
     "output_type": "execute_result"
    }
   ],
   "source": [
    "import sys\n",
    "sys.path.append('C://Users/olive/OneDrive - Australian National University/Honours-Olivia/Programs/honours/standard_modules')\n",
    "sys.path.append('C://Users/olive/OneDrive - Australian National University/Honours-Olivia/Programs/honours/project')\n",
    "\n",
    "from collation import collator, hvc_snapshot as snap\n",
    "from synthesis import hvc_looper as hvcl, magnetic_field_derivation as mfd\n",
    "\n",
    "collated_data = collator.data_whole_sky(False, load_data=[\"../data_processed/proc_rms\",\"../data_processed/proc_hvcs\"], h1_img=\"../data_catalog/hi4pi-hvc-nhi-car.fits\", override_RMs=True)\n",
    "\n",
    "KStable = hvcl.KStest_HVCs(collated_data, hvc_indicies=[0, 1, 2, 3, 4, 5, 6, 7, 9, 10, 12, 13, 16, 22, 24], morph_type=\"minimum\", save_file=\"../data_processed/hvc_KS_tests/hvc_KS\")\n",
    "\n",
    "KStable"
   ]
  },
  {
   "cell_type": "code",
   "execution_count": null,
   "metadata": {},
   "outputs": [],
   "source": []
  }
 ],
 "metadata": {
  "kernelspec": {
   "display_name": "base",
   "language": "python",
   "name": "python3"
  },
  "language_info": {
   "codemirror_mode": {
    "name": "ipython",
    "version": 3
   },
   "file_extension": ".py",
   "mimetype": "text/x-python",
   "name": "python",
   "nbconvert_exporter": "python",
   "pygments_lexer": "ipython3",
   "version": "3.11.3"
  }
 },
 "nbformat": 4,
 "nbformat_minor": 2
}
