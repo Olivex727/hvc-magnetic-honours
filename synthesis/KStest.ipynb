{
 "cells": [
  {
   "cell_type": "code",
   "execution_count": 1,
   "metadata": {},
   "outputs": [
    {
     "name": "stdout",
     "output_type": "stream",
     "text": [
      "=== WHOLE-SKY DATA COLLATION ===\n",
      "Gathering data ...\n",
      "Getting H-alpha emission\n",
      "Extracting RMs\n",
      "Getting HVC location data\n",
      "Getting HI emission\n",
      "Interpolating\n",
      "Collation complete\n",
      "=== HVC RM LOADER ===\n",
      "Taking HVC snapshots\n",
      "Process complete\n"
     ]
    }
   ],
   "source": [
    "import sys\n",
    "sys.path.append('C://Users/olive/OneDrive - Australian National University/Honours-Olivia/Programs/honours/standard_modules')\n",
    "sys.path.append('C://Users/olive/OneDrive - Australian National University/Honours-Olivia/Programs/honours/project')\n",
    "\n",
    "from collation import collator, hvc_snapshot as snap, collation_tools as ct\n",
    "from synthesis import hvc_looper as hvcl, magnetic_field_derivation as mfd\n",
    "\n",
    "collated_data = collator.data_whole_sky(False, load_data=[\"../data_processed/proc_rms\",\"../data_processed/proc_hvcs\"], h1_img=\"../data_catalog/hi4pi-hvc-nhi-car.fits\", override_RMs=True)\n",
    "\n",
    "master_hvcs = hvcl.load_HVCs(collated_data, hvc_indicies=[0, 1, 2, 3, 4, 5, 6, 7, 9, 10, 12, 13, 24])"
   ]
  },
  {
   "cell_type": "markdown",
   "metadata": {},
   "source": [
    "# KS Testing"
   ]
  },
  {
   "cell_type": "markdown",
   "metadata": {},
   "source": [
    "## Split the RMs into two populations"
   ]
  },
  {
   "cell_type": "code",
   "execution_count": 69,
   "metadata": {},
   "outputs": [
    {
     "data": {
      "text/html": [
       "<i>Row index=4</i>\n",
       "<table id=\"table1354340634832\">\n",
       "<thead><tr><th>Name</th><th>SkyCoord</th><th>RAJ2000</th><th>DEJ2000</th><th>VLSR</th><th>e_VLSR</th><th>VGSR</th><th>Vdev</th><th>FWHM</th><th>TbFit</th><th>NH</th><th>e_NH</th><th>Area</th><th>dx</th><th>dy</th><th>Flag</th><th>HI</th><th>WW91</th><th>Simbad</th><th>recno</th><th>Cat</th><th>Nearest RM</th></tr></thead>\n",
       "<thead><tr><th></th><th>deg,deg</th><th></th><th></th><th>km / s</th><th>km / s</th><th>km / s</th><th>km / s</th><th>km / s</th><th>K</th><th>1 / cm2</th><th>1 / cm2</th><th>deg2</th><th>deg</th><th>deg</th><th></th><th></th><th></th><th></th><th></th><th></th><th>deg</th></tr></thead>\n",
       "<thead><tr><th>str15</th><th>SkyCoord</th><th>str11</th><th>str9</th><th>float32</th><th>float32</th><th>float32</th><th>float32</th><th>float32</th><th>float32</th><th>float32</th><th>float32</th><th>float32</th><th>float32</th><th>float32</th><th>str4</th><th>str19</th><th>str18</th><th>str6</th><th>int32</th><th>str4</th><th>float64</th></tr></thead>\n",
       "<tr><td>G133.5-75.6-294</td><td>15.548161692114391,-13.005834286896315</td><td>01 02 11.56</td><td>-13 00 21</td><td>-294.1</td><td>1.8</td><td>-254.6</td><td>-261.6</td><td>26.8</td><td>0.42</td><td>2e+19</td><td>3e+18</td><td>1.3</td><td>4.2</td><td>1.4</td><td>H2</td><td>HVC 131.9-75.8-302</td><td>EN,MS_MS</td><td>Simbad</td><td>427</td><td>GHVC</td><td>0.048293947366666666</td></tr>\n",
       "</table>"
      ],
      "text/plain": [
       "<Row index=4>\n",
       "      Name                     SkyCoord                  RAJ2000    DEJ2000    VLSR   e_VLSR   VGSR    Vdev    FWHM   TbFit     NH      e_NH     Area     dx      dy   Flag         HI           WW91   Simbad recno Cat       Nearest RM     \n",
       "                               deg,deg                                        km / s  km / s  km / s  km / s  km / s    K    1 / cm2  1 / cm2    deg2    deg     deg                                                              deg         \n",
       "     str15                     SkyCoord                   str11       str9   float32 float32 float32 float32 float32 float32 float32  float32  float32 float32 float32 str4       str19         str18    str6  int32 str4       float64       \n",
       "--------------- -------------------------------------- ----------- --------- ------- ------- ------- ------- ------- ------- -------- -------- ------- ------- ------- ---- ------------------ -------- ------ ----- ---- --------------------\n",
       "G133.5-75.6-294 15.548161692114391,-13.005834286896315 01 02 11.56 -13 00 21  -294.1     1.8  -254.6  -261.6    26.8    0.42    2e+19    3e+18     1.3     4.2     1.4   H2 HVC 131.9-75.8-302 EN,MS_MS Simbad   427 GHVC 0.048293947366666666"
      ]
     },
     "execution_count": 69,
     "metadata": {},
     "output_type": "execute_result"
    }
   ],
   "source": [
    "#master_hvcs[0][\"RMs\"]\n",
    "master_hvcs[4][\"HVC\"]"
   ]
  },
  {
   "cell_type": "code",
   "execution_count": 2,
   "metadata": {},
   "outputs": [
    {
     "name": "stdout",
     "output_type": "stream",
     "text": [
      "144\n",
      "909\n"
     ]
    }
   ],
   "source": [
    "import numpy as np\n",
    "\n",
    "def split_RMs(RMs, centre, max_distance):\n",
    "    mask = np.zeros(len(RMs), dtype=bool)\n",
    "    for i in range(len(RMs)):\n",
    "        rmi = RMs[i]\n",
    "        mask[i] = rmi[\"ra_dec_obj\"].separation(centre).value < max_distance\n",
    "\n",
    "    RMs_inner = RMs[~mask]\n",
    "    RMs_outer = RMs[mask]\n",
    "\n",
    "    return RMs_inner, RMs_outer\n",
    "        \n",
    "\n",
    "inner, outer = split_RMs(master_hvcs[0][\"RMs\"], master_hvcs[0][\"HVC\"][\"SkyCoord\"], max(master_hvcs[0][\"HVC\"][\"dx\"], master_hvcs[0][\"HVC\"][\"dy\"]))\n",
    "\n",
    "#print(len(master_hvcs[0][\"RMs\"]))\n",
    "print(len(inner))\n",
    "print(len(outer))"
   ]
  },
  {
   "cell_type": "markdown",
   "metadata": {},
   "source": [
    "## Produce CDFs of distributions"
   ]
  },
  {
   "cell_type": "code",
   "execution_count": 3,
   "metadata": {},
   "outputs": [],
   "source": [
    "import scipy.stats as stats\n",
    "\n",
    "def make_cdfs(inner, outer):\n",
    "    inner_data = np.sort(inner[\"B_virtual [int]\"].data*1e6)\n",
    "    inner_cdf = stats.norm.cdf(inner_data)\n",
    "\n",
    "    outer_data = np.sort(outer[\"B_virtual [int]\"].data*1e6)\n",
    "    outer_cdf = stats.norm.cdf(outer_data)\n",
    "\n",
    "    return inner_data, inner_cdf, outer_data, outer_cdf\n",
    "\n",
    "inner_data, inner_cdf, outer_data, outer_cdf = make_cdfs(inner, outer)\n",
    "#print(inner_cdf)\n",
    "#print(np.sort(inner[\"B_virtual [int]\"].data*1e6))"
   ]
  },
  {
   "cell_type": "code",
   "execution_count": 4,
   "metadata": {},
   "outputs": [
    {
     "data": {
      "image/png": "[encoded data removed]",
      "text/plain": [
       "<Figure size 640x480 with 1 Axes>"
      ]
     },
     "metadata": {},
     "output_type": "display_data"
    }
   ],
   "source": [
    "import matplotlib.pyplot as plt\n",
    "\n",
    "plt.plot(inner_data, inner_cdf)\n",
    "plt.plot(outer_data, outer_cdf)\n",
    "plt.show()"
   ]
  },
  {
   "cell_type": "markdown",
   "metadata": {},
   "source": [
    "## Perform Scipy KS test"
   ]
  },
  {
   "cell_type": "code",
   "execution_count": 5,
   "metadata": {},
   "outputs": [
    {
     "name": "stdout",
     "output_type": "stream",
     "text": [
      "Analysing HVC: G133.5-75.6-294\n"
     ]
    },
    {
     "data": {
      "image/png": "[encoded data removed]",
      "text/plain": [
       "<Figure size 640x480 with 1 Axes>"
      ]
     },
     "metadata": {},
     "output_type": "display_data"
    },
    {
     "data": {
      "text/plain": [
       "{'Name': 'G133.5-75.6-294',\n",
       " 'Statistic': 0.4854406130268199,\n",
       " 'p_value': 6.343432667923619e-09,\n",
       " 'Statistic_x': -0.8346849774412012,\n",
       " 'Statistic_sgn': -1,\n",
       " 'Significant': True}"
      ]
     },
     "execution_count": 5,
     "metadata": {},
     "output_type": "execute_result"
    }
   ],
   "source": [
    "import numpy as np\n",
    "import matplotlib.pyplot as plt\n",
    "import scipy.stats as stats\n",
    "from astropy.table import Table\n",
    "\n",
    "def column_to_array(data):\n",
    "    return np.sort(data.data)\n",
    "\n",
    "def split_RMs(RMs, centre, max_distance):\n",
    "    mask = np.zeros(len(RMs), dtype=bool)\n",
    "    for i in range(len(RMs)):\n",
    "        rmi = RMs[i]\n",
    "        mask[i] = rmi[\"ra_dec_obj\"].separation(centre).value < max_distance\n",
    "\n",
    "    RMs_inner = RMs[~mask]\n",
    "    RMs_outer = RMs[mask]\n",
    "\n",
    "    return RMs_inner, RMs_outer\n",
    "\n",
    "def morph_ring(hvc_snap):\n",
    "    return (hvc_snap[\"HVC\"][\"dx\"] + hvc_snap[\"HVC\"][\"dy\"])/2\n",
    "\n",
    "def make_cdfs(inner, outer):\n",
    "    inner_data = inner\n",
    "    inner_cdf = stats.norm.cdf(inner_data)\n",
    "\n",
    "    outer_data = outer\n",
    "    outer_cdf = stats.norm.cdf(outer_data)\n",
    "\n",
    "    return inner_data, inner_cdf, outer_data, outer_cdf\n",
    "\n",
    "def KStest_single(snapshots, index = 0, show = False, dict_answer=True, p_value=0.05):\n",
    "    hvc_snap = snapshots[index]\n",
    "    inner_rms, outer_rms = split_RMs(hvc_snap[\"RMs\"],hvc_snap[\"HVC\"][\"SkyCoord\"], morph_ring(hvc_snap))\n",
    "    inner = column_to_array(inner_rms[\"RM\"])\n",
    "    outer = column_to_array(outer_rms[\"RM\"])\n",
    "\n",
    "    print(\"Analysing HVC: \" + hvc_snap[\"HVC\"][\"Name\"])\n",
    "    #print(len(outer), len(inner))\n",
    "    #print(morph_ring(hvc_snap))\n",
    "\n",
    "    if show:\n",
    "        inner_data, inner_cdf, outer_data, outer_cdf = make_cdfs(inner, outer)\n",
    "\n",
    "        plt.plot(inner_data, inner_cdf)\n",
    "        plt.plot(outer_data, outer_cdf)\n",
    "        plt.show()\n",
    "\n",
    "    ks_test = stats.ks_2samp(inner, outer)#, nan_policy='omit')\n",
    "\n",
    "    if not dict_answer:\n",
    "        return ks_test\n",
    "    else:\n",
    "        return {\"Name\":hvc_snap[\"HVC\"][\"Name\"], \"Statistic\":ks_test.statistic, \"p_value\":ks_test.pvalue, \"Statistic_x\":ks_test.statistic_location, \"Statistic_sgn\":ks_test.statistic_sign, \"Significant\": ks_test.pvalue < p_value}\n",
    "        \n",
    "KStest_single(master_hvcs, show=True, index=4)"
   ]
  },
  {
   "cell_type": "code",
   "execution_count": 6,
   "metadata": {},
   "outputs": [
    {
     "name": "stdout",
     "output_type": "stream",
     "text": [
      "Analysing HVC: G038.7-37.3-241\n",
      "Analysing HVC: G038.8-33.2-261\n",
      "Analysing HVC: G043.4-30.4-230\n",
      "Analysing HVC: G089.0-64.7-311\n",
      "Analysing HVC: G133.5-75.6-294\n",
      "Analysing HVC: G248.9+36.8+181\n",
      "Analysing HVC: G261.5-34.5+237\n",
      "Analysing HVC: G262.4-26.2+143\n",
      "Analysing HVC: G264.6-53.3+224\n",
      "Analysing HVC: G267.1-38.4+263\n",
      "Analysing HVC: G271.6-48.4+297\n",
      "Analysing HVC: G271.7-53.1+254\n",
      "Analysing HVC: G323.0+25.6+122\n"
     ]
    }
   ],
   "source": [
    "def KStest_hvcs(snapshots, show=False, dict_answer=True, p_value=0.05):\n",
    "    KSlist = []\n",
    "    for i in range(len(snapshots)):\n",
    "        KSlist.append(KStest_single(snapshots, index=i, show=show, dict_answer=dict_answer, p_value=p_value))\n",
    "    return KSlist\n",
    "\n",
    "KSlist = KStest_hvcs(master_hvcs)"
   ]
  },
  {
   "cell_type": "code",
   "execution_count": 7,
   "metadata": {},
   "outputs": [
    {
     "data": {
      "text/html": [
       "<div><i>Table length=13</i>\n",
       "<table id=\"table2256100014352\" class=\"table-striped table-bordered table-condensed\">\n",
       "<thead><tr><th>Name</th><th>Statistic</th><th>p_value</th><th>Statistic_x</th><th>Statistic_sgn</th><th>Significant</th></tr></thead>\n",
       "<thead><tr><th>str15</th><th>float64</th><th>float64</th><th>float64</th><th>int32</th><th>bool</th></tr></thead>\n",
       "<tr><td>G038.7-37.3-241</td><td>0.19841675178753831</td><td>1.9788311617016407e-08</td><td>-48.31045775507575</td><td>-1</td><td>True</td></tr>\n",
       "<tr><td>G038.8-33.2-261</td><td>0.516038186157518</td><td>8.686804290103344e-24</td><td>-25.295395804898064</td><td>-1</td><td>True</td></tr>\n",
       "<tr><td>G043.4-30.4-230</td><td>0.1740448823207444</td><td>5.199289943964793e-06</td><td>-37.38566203965606</td><td>-1</td><td>True</td></tr>\n",
       "<tr><td>G089.0-64.7-311</td><td>0.4985768500948767</td><td>0.00029622576755574596</td><td>-13.181884657734294</td><td>1</td><td>True</td></tr>\n",
       "<tr><td>G133.5-75.6-294</td><td>0.4854406130268199</td><td>6.343432667923619e-09</td><td>-0.8346849774412012</td><td>-1</td><td>True</td></tr>\n",
       "<tr><td>G248.9+36.8+181</td><td>0.11015546015326232</td><td>0.13217051509596886</td><td>-13.483131565296063</td><td>1</td><td>False</td></tr>\n",
       "<tr><td>G261.5-34.5+237</td><td>0.324265579894719</td><td>6.27582992213733e-10</td><td>28.17318221194263</td><td>-1</td><td>True</td></tr>\n",
       "<tr><td>G262.4-26.2+143</td><td>0.22064050972501675</td><td>4.4752203087957477e-07</td><td>44.88647927358185</td><td>-1</td><td>True</td></tr>\n",
       "<tr><td>G264.6-53.3+224</td><td>0.3463203463203463</td><td>6.040575714360223e-06</td><td>22.555807769859282</td><td>1</td><td>True</td></tr>\n",
       "<tr><td>G267.1-38.4+263</td><td>0.34753007902913025</td><td>1.1434854610528056e-11</td><td>65.01482050692674</td><td>-1</td><td>True</td></tr>\n",
       "<tr><td>G271.6-48.4+297</td><td>0.1550510225865676</td><td>1.6881199858567663e-07</td><td>37.40999607075682</td><td>1</td><td>True</td></tr>\n",
       "<tr><td>G271.7-53.1+254</td><td>0.24576003114582573</td><td>7.624079166547367e-05</td><td>20.910290086916106</td><td>1</td><td>True</td></tr>\n",
       "<tr><td>G323.0+25.6+122</td><td>0.18690005646527386</td><td>4.786064029340545e-08</td><td>-20.943696983882294</td><td>-1</td><td>True</td></tr>\n",
       "</table></div>"
      ],
      "text/plain": [
       "<Table length=13>\n",
       "      Name           Statistic      ... Statistic_sgn Significant\n",
       "     str15            float64       ...     int32         bool   \n",
       "--------------- ------------------- ... ------------- -----------\n",
       "G038.7-37.3-241 0.19841675178753831 ...            -1        True\n",
       "G038.8-33.2-261   0.516038186157518 ...            -1        True\n",
       "G043.4-30.4-230  0.1740448823207444 ...            -1        True\n",
       "G089.0-64.7-311  0.4985768500948767 ...             1        True\n",
       "G133.5-75.6-294  0.4854406130268199 ...            -1        True\n",
       "G248.9+36.8+181 0.11015546015326232 ...             1       False\n",
       "G261.5-34.5+237   0.324265579894719 ...            -1        True\n",
       "G262.4-26.2+143 0.22064050972501675 ...            -1        True\n",
       "G264.6-53.3+224  0.3463203463203463 ...             1        True\n",
       "G267.1-38.4+263 0.34753007902913025 ...            -1        True\n",
       "G271.6-48.4+297  0.1550510225865676 ...             1        True\n",
       "G271.7-53.1+254 0.24576003114582573 ...             1        True\n",
       "G323.0+25.6+122 0.18690005646527386 ...            -1        True"
      ]
     },
     "execution_count": 7,
     "metadata": {},
     "output_type": "execute_result"
    }
   ],
   "source": [
    "raw_KS = Table(rows=KSlist)#, names=(\"statistic\", \"pvalue\", \"statistic_location\", \"statistic_sign\"))\n",
    "ct.write_processed(raw_KS, '../data_processed/hvc_KS_tests/unorrected_KS')\n",
    "raw_KS"
   ]
  },
  {
   "cell_type": "markdown",
   "metadata": {},
   "source": [
    "# Putting it all together"
   ]
  },
  {
   "cell_type": "code",
   "execution_count": 1,
   "metadata": {},
   "outputs": [
    {
     "name": "stdout",
     "output_type": "stream",
     "text": [
      "=== HVC RM LOADER ===\n",
      "Taking HVC snapshots\n",
      "Process complete\n",
      "=== HVC RM LOADER ===\n",
      "Taking HVC snapshots\n",
      "Process complete\n",
      "=== HVC KS TESTING ===\n",
      "Performing KS Tests\n",
      "Converting\n",
      "Saving data\n",
      "Process Complete\n",
      "3072\n"
     ]
    }
   ],
   "source": [
    "import sys\n",
    "sys.path.append('C://Users/olive/OneDrive - Australian National University/Honours-Olivia/Programs/honours/standard_modules')\n",
    "sys.path.append('C://Users/olive/OneDrive - Australian National University/Honours-Olivia/Programs/honours/project')\n",
    "\n",
    "from collation import collator, hvc_snapshot as snap\n",
    "from synthesis import hvc_looper as hvcl, magnetic_field_derivation as mfd, KStest as kst, calculate as calc\n",
    "\n",
    "#collated_data = collator.data_whole_sky(False, load_data=[\"../data_processed/proc_rms\",\"../data_processed/proc_hvcs\"], h1_img=\"../data_catalog/hi4pi-hvc-nhi-car.fits\", override_RMs=True)\n",
    "\n",
    "master_hvcs = hvcl.load_HVCs([], [], \"../data_processed/toy_model/toy_hvcs/\", toy_override=True)\n",
    "\n",
    "KStable = hvcl.KStest_HVCs([], [], load_directory=\"../data_processed/toy_model/toy_hvcs/\", save_file=\"../data_processed/toy_model/KS_test_results\", p_value=1e-3, toy_override=True)\n",
    "\n",
    "print(len(master_hvcs))"
   ]
  },
  {
   "cell_type": "code",
   "execution_count": 2,
   "metadata": {},
   "outputs": [
    {
     "data": {
      "text/html": [
       "<div><i>Table length=3072</i>\n",
       "<table id=\"table2403782439376\" class=\"table-striped table-bordered table-condensed\">\n",
       "<thead><tr><th>Name</th><th>Statistic</th><th>p_value</th><th>Statistic_x</th><th>Statistic_sgn</th><th>Statistic_diff</th><th>Significant</th></tr></thead>\n",
       "<thead><tr><th>str67</th><th>float64</th><th>float64</th><th>float64</th><th>int32</th><th>float64</th><th>bool</th></tr></thead>\n",
       "<tr><td>toy_0_0.0_0.0_0.0.ecsv</td><td>0.15512615945713734</td><td>0.02416490935579006</td><td>0.546875</td><td>-1</td><td>-0.0036755505505539077</td><td>False</td></tr>\n",
       "<tr><td>toy_0_0.0_0.0_0.7853981633974483.ecsv</td><td>0.15512615945713734</td><td>0.02416490935579006</td><td>0.546875</td><td>-1</td><td>-0.0036755505505539077</td><td>False</td></tr>\n",
       "<tr><td>toy_0_0.0_0.0_1.5707963267948966.ecsv</td><td>0.12254738650909154</td><td>0.1250838416045315</td><td>0.109375</td><td>-1</td><td>0.059324949949946415</td><td>False</td></tr>\n",
       "<tr><td>toy_0_0.0_0.0_2.356194490192345.ecsv</td><td>0.0917395802282969</td><td>0.4127193027413549</td><td>0.3203125</td><td>1</td><td>-0.13013795045045384</td><td>False</td></tr>\n",
       "<tr><td>toy_0_0.0_0.0_3.141592653589793.ecsv</td><td>0.10641580894601183</td><td>0.2439601275322874</td><td>-0.2327370731741204</td><td>1</td><td>-0.18268702312407392</td><td>False</td></tr>\n",
       "<tr><td>toy_0_0.0_0.0_3.9269908169872414.ecsv</td><td>0.11772544756360576</td><td>0.15422986809584666</td><td>0.36328125</td><td>1</td><td>-0.08716920045045384</td><td>False</td></tr>\n",
       "<tr><td>toy_0_0.0_0.0_4.71238898038469.ecsv</td><td>0.12254738650909154</td><td>0.1250838416045315</td><td>0.109375</td><td>-1</td><td>0.059324949949946415</td><td>False</td></tr>\n",
       "<tr><td>toy_0_0.0_0.0_5.497787143782138.ecsv</td><td>0.1644719538496607</td><td>0.014050395172507146</td><td>0.546875</td><td>-1</td><td>-0.0036755505505539077</td><td>False</td></tr>\n",
       "<tr><td>toy_0_0.0_0.7853981633974483_0.0.ecsv</td><td>0.12708877627956724</td><td>0.10164890612991566</td><td>0.546875</td><td>-1</td><td>-0.0036755505505539077</td><td>False</td></tr>\n",
       "<tr><td>toy_0_0.0_0.7853981633974483_0.7853981633974483.ecsv</td><td>0.09905139310199716</td><td>0.32089655960214586</td><td>0.546875</td><td>-1</td><td>-0.0036755505505539077</td><td>False</td></tr>\n",
       "<tr><td>...</td><td>...</td><td>...</td><td>...</td><td>...</td><td>...</td><td>...</td></tr>\n",
       "<tr><td>toy_5_5.497787143782138_4.71238898038469_4.71238898038469.ecsv</td><td>0.20721444173197995</td><td>1.0323499594534322e-05</td><td>0.15625</td><td>-1</td><td>0.10619994994994642</td><td>True</td></tr>\n",
       "<tr><td>toy_5_5.497787143782138_4.71238898038469_5.497787143782138.ecsv</td><td>0.21302839522035205</td><td>5.156624730908166e-06</td><td>0.15625</td><td>-1</td><td>0.10619994994994642</td><td>True</td></tr>\n",
       "<tr><td>toy_5_5.497787143782138_5.497787143782138_0.0.ecsv</td><td>0.13866760889117308</td><td>0.008482508862973906</td><td>-0.1640625</td><td>-1</td><td>0.08618775025024661</td><td>False</td></tr>\n",
       "<tr><td>toy_5_5.497787143782138_5.497787143782138_0.7853981633974483.ecsv</td><td>0.15723371450597456</td><td>0.0017973303937359971</td><td>0.2890625</td><td>-1</td><td>0.038812249749746286</td><td>False</td></tr>\n",
       "<tr><td>toy_5_5.497787143782138_5.497787143782138_1.5707963267948966.ecsv</td><td>0.16947192599254787</td><td>0.000580350146285266</td><td>0.08984375</td><td>-1</td><td>0.13989380005004648</td><td>True</td></tr>\n",
       "<tr><td>toy_5_5.497787143782138_5.497787143782138_2.356194490192345.ecsv</td><td>0.18896954901708854</td><td>8.023582724226633e-05</td><td>-0.1015625</td><td>-1</td><td>0.1486877502502466</td><td>True</td></tr>\n",
       "<tr><td>toy_5_5.497787143782138_5.497787143782138_3.141592653589793.ecsv</td><td>0.15443916227675702</td><td>0.0022987484328824965</td><td>-0.15625</td><td>-1</td><td>0.09400025025024661</td><td>False</td></tr>\n",
       "<tr><td>toy_5_5.497787143782138_5.497787143782138_3.9269908169872414.ecsv</td><td>0.16606706925350123</td><td>0.0008016671908177416</td><td>-0.15625</td><td>-1</td><td>0.09400025025024661</td><td>True</td></tr>\n",
       "<tr><td>toy_5_5.497787143782138_5.497787143782138_4.71238898038469.ecsv</td><td>0.2043556469227804</td><td>1.4416869510472047e-05</td><td>0.08984375</td><td>-1</td><td>0.13989380005004648</td><td>True</td></tr>\n",
       "<tr><td>toy_5_5.497787143782138_5.497787143782138_5.497787143782138.ecsv</td><td>0.1979313889245792</td><td>3.002001115650247e-05</td><td>0.2890625</td><td>-1</td><td>0.038812249749746286</td><td>True</td></tr>\n",
       "</table></div>"
      ],
      "text/plain": [
       "<Table length=3072>\n",
       "                               Name                               ...\n",
       "                              str67                               ...\n",
       "----------------------------------------------------------------- ...\n",
       "                                           toy_0_0.0_0.0_0.0.ecsv ...\n",
       "                            toy_0_0.0_0.0_0.7853981633974483.ecsv ...\n",
       "                            toy_0_0.0_0.0_1.5707963267948966.ecsv ...\n",
       "                             toy_0_0.0_0.0_2.356194490192345.ecsv ...\n",
       "                             toy_0_0.0_0.0_3.141592653589793.ecsv ...\n",
       "                            toy_0_0.0_0.0_3.9269908169872414.ecsv ...\n",
       "                              toy_0_0.0_0.0_4.71238898038469.ecsv ...\n",
       "                             toy_0_0.0_0.0_5.497787143782138.ecsv ...\n",
       "                            toy_0_0.0_0.7853981633974483_0.0.ecsv ...\n",
       "             toy_0_0.0_0.7853981633974483_0.7853981633974483.ecsv ...\n",
       "                                                              ... ...\n",
       "   toy_5_5.497787143782138_4.71238898038469_4.71238898038469.ecsv ...\n",
       "  toy_5_5.497787143782138_4.71238898038469_5.497787143782138.ecsv ...\n",
       "               toy_5_5.497787143782138_5.497787143782138_0.0.ecsv ...\n",
       "toy_5_5.497787143782138_5.497787143782138_0.7853981633974483.ecsv ...\n",
       "toy_5_5.497787143782138_5.497787143782138_1.5707963267948966.ecsv ...\n",
       " toy_5_5.497787143782138_5.497787143782138_2.356194490192345.ecsv ...\n",
       " toy_5_5.497787143782138_5.497787143782138_3.141592653589793.ecsv ...\n",
       "toy_5_5.497787143782138_5.497787143782138_3.9269908169872414.ecsv ...\n",
       "  toy_5_5.497787143782138_5.497787143782138_4.71238898038469.ecsv ...\n",
       " toy_5_5.497787143782138_5.497787143782138_5.497787143782138.ecsv ..."
      ]
     },
     "execution_count": 2,
     "metadata": {},
     "output_type": "execute_result"
    }
   ],
   "source": [
    "KStable"
   ]
  },
  {
   "cell_type": "code",
   "execution_count": 2,
   "metadata": {},
   "outputs": [
    {
     "name": "stdout",
     "output_type": "stream",
     "text": [
      "Analysing HVC: G267.1-38.4+263\n"
     ]
    },
    {
     "data": {
      "image/png": "[encoded data removed]",
      "text/plain": [
       "<Figure size 640x480 with 1 Axes>"
      ]
     },
     "metadata": {},
     "output_type": "display_data"
    },
    {
     "data": {
      "text/plain": [
       "{'Name': 'G267.1-38.4+263',\n",
       " 'Statistic': 0.3428488020518381,\n",
       " 'p_value': 2.318648482161409e-11,\n",
       " 'Statistic_x': 29.111033886656486,\n",
       " 'Statistic_sgn': -1,\n",
       " 'Statistic_diff': 21.553476329098928,\n",
       " 'Significant': True}"
      ]
     },
     "execution_count": 2,
     "metadata": {},
     "output_type": "execute_result"
    }
   ],
   "source": [
    "import matplotlib.pyplot as plt\n",
    "\n",
    "stats = kst.KStest_single(master_hvcs, p_value=1e-3, index=9, show=True)\n",
    "plt.show()\n",
    "\n",
    "stats"
   ]
  },
  {
   "cell_type": "code",
   "execution_count": 3,
   "metadata": {},
   "outputs": [
    {
     "name": "stdout",
     "output_type": "stream",
     "text": [
      "Analysing HVC: G038.7-37.3-241\n",
      "2.5627908299515854\n",
      "Analysing HVC: G038.8-33.2-261\n",
      "1.2506166058012396\n",
      "Analysing HVC: G043.4-30.4-230\n",
      "2.3022435957955607\n",
      "Analysing HVC: G089.0-64.7-311\n",
      "-2.412054865854746\n",
      "Analysing HVC: G133.5-75.6-294\n",
      "1.7903369992621851\n",
      "Analysing HVC: G248.9+36.8+181\n",
      "0.5253611952241217\n",
      "Analysing HVC: G261.5-34.5+237\n",
      "7.082428471099994\n",
      "Analysing HVC: G262.4-26.2+143\n",
      "5.011555956863386\n",
      "Analysing HVC: G264.6-53.3+224\n",
      "-2.1209304891602234\n",
      "Analysing HVC: G267.1-38.4+263\n",
      "9.414161962255921\n",
      "Analysing HVC: G271.6-48.4+297\n",
      "0.591631031100386\n",
      "Analysing HVC: G271.7-53.1+254\n",
      "-2.403763042053307\n",
      "Analysing HVC: G323.0+25.6+122\n",
      "0.8344595998775584\n"
     ]
    }
   ],
   "source": [
    "for i in range(len(master_hvcs)):\n",
    "    print(calc.B_virt(master_hvcs[i][\"HVC\"][\"NH\"], master_hvcs[i][\"HVC\"][\"e_NH\"], kst.KStest_single(master_hvcs, p_value=1e-3, index=i, show=False)['Statistic_diff'])[0].n)"
   ]
  },
  {
   "cell_type": "markdown",
   "metadata": {},
   "source": [
    "# Subtracting CDF points"
   ]
  },
  {
   "cell_type": "code",
   "execution_count": 4,
   "metadata": {},
   "outputs": [],
   "source": [
    "import contextlib\n",
    "from plotting import honours_plot as hplt\n",
    "import numpy as np\n",
    "import scipy.stats as stats\n",
    "from astropy.table import Table"
   ]
  },
  {
   "cell_type": "code",
   "execution_count": 38,
   "metadata": {},
   "outputs": [],
   "source": [
    "class KStest:\n",
    "\n",
    "    def column_to_array(data):\n",
    "        return data.data*1e6\n",
    "\n",
    "    def split_RMs(RMs, centre, max_distance):\n",
    "        mask = np.zeros(len(RMs), dtype=bool)\n",
    "        for i in range(len(RMs)):\n",
    "            rmi = RMs[i]\n",
    "            mask[i] = rmi[\"ra_dec_obj\"].separation(centre).value < max_distance\n",
    "\n",
    "        RMs_inner = RMs[~mask]\n",
    "        RMs_outer = RMs[mask]\n",
    "\n",
    "        return RMs_inner, RMs_outer\n",
    "\n",
    "    def morph_ring(hvc_snap, morph_type=\"average\"):\n",
    "        if morph_type == \"average\":\n",
    "            return (hvc_snap[\"HVC\"][\"dx\"] + hvc_snap[\"HVC\"][\"dy\"])/2\n",
    "        if morph_type == \"minimum\":\n",
    "            return min(hvc_snap[\"HVC\"][\"dx\"], hvc_snap[\"HVC\"][\"dy\"])\n",
    "\n",
    "    def make_cdfs(inner, outer, limits):\n",
    "        xs = np.linspace(-limits, limits, 1000)\n",
    "\n",
    "        inner_cdf = np.array(list(map(lambda x: KStest.edf(inner, x), xs)))\n",
    "        outer_cdf = np.array(list(map(lambda x: KStest.edf(outer, x), xs)))\n",
    "\n",
    "        return inner_cdf, outer_cdf, xs\n",
    "    \n",
    "    def edf(data, x):\n",
    "        masked = data[data<x]\n",
    "        return len(masked)/len(data)\n",
    "\n",
    "    def KStest_single(snapshots, index = 0, show = False, dict_answer=True, p_value=0.05, morph_type=\"average\", find_diff=True, limits=[5e7, 1e7]):\n",
    "        hvc_snap = snapshots[index]\n",
    "        inner_rms, outer_rms = KStest.split_RMs(hvc_snap[\"RMs\"],hvc_snap[\"HVC\"][\"SkyCoord\"], KStest.morph_ring(hvc_snap, morph_type=morph_type))\n",
    "        inner = KStest.column_to_array(inner_rms[\"RM\"]-inner_rms[\"interpolation_raw\"])\n",
    "        outer = KStest.column_to_array(outer_rms[\"RM\"]-outer_rms[\"interpolation_raw\"])\n",
    "\n",
    "        print(\"Analysing HVC: \" + hvc_snap[\"HVC\"][\"Name\"])\n",
    "\n",
    "        inner_cdf, outer_cdf, xs = KStest.make_cdfs(inner, outer, limits[0])\n",
    "\n",
    "        if show:\n",
    "            hplt.plot_cdfs(xs/limits[1], inner_cdf, xs/limits[1], outer_cdf, show=False, xlims=None)\n",
    "            plt.xlabel(\"Faraday Depth [$10^7 rad m^{-2}$]\")\n",
    "            plt.xlim(-limits[0]/limits[1], limits[0]/limits[1])\n",
    "            plt.ylim(0,1)\n",
    "            plt.legend()\n",
    "\n",
    "        ks_test = stats.ks_2samp(inner, outer)\n",
    "\n",
    "        if find_diff:\n",
    "            statx = ks_test.statistic_location\n",
    "            statsgn = ks_test.statistic_sign\n",
    "\n",
    "            y_inner = KStest.edf(inner, statx)\n",
    "\n",
    "            y_outer = 0\n",
    "            x_outer = 0\n",
    "            for x in xs:\n",
    "                y_outer = KStest.edf(outer, x)\n",
    "                if y_outer >= y_inner:\n",
    "                    x_outer = x\n",
    "                    break\n",
    "\n",
    "            diff = statx - x_outer\n",
    "\n",
    "            if show:\n",
    "                plt.axvline(x=statx/limits[1], ymin=y_inner if statsgn < 0 else y_inner-ks_test.statistic, ymax=y_inner+ks_test.statistic if statsgn < 0 else y_inner, c=\"red\", label=\"Statisitc\")\n",
    "\n",
    "                plt.axhline(y=y_inner, xmin=(limits[0]+(x_outer if statsgn < 0 else statx))/(2*limits[0]), xmax=(limits[0]+(statx if statsgn < 0 else x_outer))/(2*limits[0]), c=\"black\", label=\"Difference\")\n",
    "\n",
    "                plt.legend()\n",
    "\n",
    "            if dict_answer:\n",
    "                return {\"Name\":hvc_snap[\"HVC\"][\"Name\"], \"Statistic\":ks_test.statistic, \"p_value\":ks_test.pvalue, \"Statistic_x\":ks_test.statistic_location, \"Statistic_sgn\":ks_test.statistic_sign, \"Statistic_diff\":diff, \"Significant\": ks_test.pvalue < p_value}\n",
    "\n",
    "        if not dict_answer:\n",
    "            return ks_test\n",
    "        else:\n",
    "            return {\"Name\":hvc_snap[\"HVC\"][\"Name\"], \"Statistic\":ks_test.statistic, \"p_value\":ks_test.pvalue, \"Statistic_x\":ks_test.statistic_location, \"Statistic_sgn\":ks_test.statistic_sign, \"Significant\": ks_test.pvalue < p_value}\n",
    "        \n",
    "    def KStest_HVCs(snapshots, show=False, dict_answer=True, p_value=0.05, morph_type=\"average\"):\n",
    "        print(\"=== HVC KS TESTING ===\")\n",
    "        KSlist = []\n",
    "        l = len(snapshots)\n",
    "        print(\"Performing KS Tests\")\n",
    "        for i in range(len(snapshots)):\n",
    "            with contextlib.redirect_stdout(None):\n",
    "                KSlist.append(KStest.KStest_single(snapshots, index=i, show=show, dict_answer=dict_answer, p_value=p_value, morph_type=morph_type))\n",
    "            print(str(int((i+1)/l*100))+\"% \\r\", sep=\"\", end=\"\", flush=True)\n",
    "        return KSlist"
   ]
  },
  {
   "cell_type": "code",
   "execution_count": 39,
   "metadata": {},
   "outputs": [
    {
     "name": "stdout",
     "output_type": "stream",
     "text": [
      "Analysing HVC: G267.1-38.4+263\n"
     ]
    },
    {
     "data": {
      "image/png": "[encoded data removed]",
      "text/plain": [
       "<Figure size 640x480 with 1 Axes>"
      ]
     },
     "metadata": {},
     "output_type": "display_data"
    },
    {
     "name": "stdout",
     "output_type": "stream",
     "text": [
      "{'Name': 'G267.1-38.4+263', 'Statistic': 0.3428488020518381, 'p_value': 2.318648482161409e-11, 'Statistic_x': 29111033.886656485, 'Statistic_sgn': -1, 'Statistic_diff': 21553476.329098932, 'Significant': True}\n"
     ]
    }
   ],
   "source": [
    "from matplotlib import pyplot as plt\n",
    "\n",
    "result = KStest.KStest_single(master_hvcs, p_value=1e-3, index=9, show=True)\n",
    "plt.show()\n",
    "print(result)"
   ]
  },
  {
   "cell_type": "code",
   "execution_count": 40,
   "metadata": {},
   "outputs": [
    {
     "name": "stdout",
     "output_type": "stream",
     "text": [
      "=== HVC KS TESTING ===\n",
      "Performing KS Tests\n",
      "100% \r"
     ]
    },
    {
     "data": {
      "text/html": [
       "<div><i>Table length=13</i>\n",
       "<table id=\"table2394406008464\" class=\"table-striped table-bordered table-condensed\">\n",
       "<thead><tr><th>Name</th><th>Statistic</th><th>p_value</th><th>Statistic_x</th><th>Statistic_sgn</th><th>Statistic_diff</th><th>Significant</th></tr></thead>\n",
       "<thead><tr><th>str15</th><th>float64</th><th>float64</th><th>float64</th><th>int32</th><th>float64</th><th>bool</th></tr></thead>\n",
       "<tr><td>G038.7-37.3-241</td><td>0.2074738871132492</td><td>3.5194997048780594e-09</td><td>-23129523.665567875</td><td>-1</td><td>16860466.324422114</td><td>True</td></tr>\n",
       "<tr><td>G038.8-33.2-261</td><td>0.31066825775656326</td><td>1.3943532792837091e-08</td><td>-6963302.9292322155</td><td>-1</td><td>12506166.540237254</td><td>True</td></tr>\n",
       "<tr><td>G043.4-30.4-230</td><td>0.24109469074986317</td><td>3.606854288675973e-11</td><td>-9607423.653882606</td><td>-1</td><td>17569753.523294568</td><td>True</td></tr>\n",
       "<tr><td>G089.0-64.7-311</td><td>0.3738140417457306</td><td>0.015075834341180974</td><td>-17515730.24976091</td><td>1</td><td>-12060274.794305451</td><td>False</td></tr>\n",
       "<tr><td>G133.5-75.6-294</td><td>0.46130268199233715</td><td>4.570648166268751e-08</td><td>-5571498.219868521</td><td>-1</td><td>9893967.245596942</td><td>True</td></tr>\n",
       "<tr><td>G248.9+36.8+181</td><td>0.08070447918650822</td><td>0.452664079053446</td><td>-9225619.88896952</td><td>-1</td><td>1935541.2721916419</td><td>False</td></tr>\n",
       "<tr><td>G261.5-34.5+237</td><td>0.2889454915944982</td><td>5.960798790546759e-08</td><td>-9242870.77545973</td><td>-1</td><td>11928300.395711444</td><td>True</td></tr>\n",
       "<tr><td>G262.4-26.2+143</td><td>0.21329644533869885</td><td>1.2224926075128765e-06</td><td>5330447.266073939</td><td>-1</td><td>13188305.1239318</td><td>True</td></tr>\n",
       "<tr><td>G264.6-53.3+224</td><td>0.3195887445887446</td><td>4.0730287570954555e-05</td><td>2861884.589161079</td><td>1</td><td>-6697674.970398482</td><td>True</td></tr>\n",
       "<tr><td>G267.1-38.4+263</td><td>0.3428488020518381</td><td>2.318648482161409e-11</td><td>29111033.886656485</td><td>-1</td><td>21553476.329098932</td><td>True</td></tr>\n",
       "<tr><td>G271.6-48.4+297</td><td>0.12493061782161308</td><td>5.0905622111774864e-05</td><td>3675482.6316026305</td><td>-1</td><td>3425232.3813523804</td><td>True</td></tr>\n",
       "<tr><td>G271.7-53.1+254</td><td>0.22697520500279825</td><td>0.0003403465863955054</td><td>367127.5918463621</td><td>1</td><td>-7590830.366111599</td><td>True</td></tr>\n",
       "<tr><td>G323.0+25.6+122</td><td>0.09850367024280068</td><td>0.015086808841105354</td><td>8268268.804363913</td><td>-1</td><td>3513514.049609161</td><td>False</td></tr>\n",
       "</table></div>"
      ],
      "text/plain": [
       "<Table length=13>\n",
       "      Name           Statistic      ...    Statistic_diff   Significant\n",
       "     str15            float64       ...       float64           bool   \n",
       "--------------- ------------------- ... ------------------- -----------\n",
       "G038.7-37.3-241  0.2074738871132492 ...  16860466.324422114        True\n",
       "G038.8-33.2-261 0.31066825775656326 ...  12506166.540237254        True\n",
       "G043.4-30.4-230 0.24109469074986317 ...  17569753.523294568        True\n",
       "G089.0-64.7-311  0.3738140417457306 ... -12060274.794305451       False\n",
       "G133.5-75.6-294 0.46130268199233715 ...   9893967.245596942        True\n",
       "G248.9+36.8+181 0.08070447918650822 ...  1935541.2721916419       False\n",
       "G261.5-34.5+237  0.2889454915944982 ...  11928300.395711444        True\n",
       "G262.4-26.2+143 0.21329644533869885 ...    13188305.1239318        True\n",
       "G264.6-53.3+224  0.3195887445887446 ...  -6697674.970398482        True\n",
       "G267.1-38.4+263  0.3428488020518381 ...  21553476.329098932        True\n",
       "G271.6-48.4+297 0.12493061782161308 ...  3425232.3813523804        True\n",
       "G271.7-53.1+254 0.22697520500279825 ...  -7590830.366111599        True\n",
       "G323.0+25.6+122 0.09850367024280068 ...   3513514.049609161       False"
      ]
     },
     "execution_count": 40,
     "metadata": {},
     "output_type": "execute_result"
    }
   ],
   "source": [
    "KStable_identical = KStest.KStest_HVCs(master_hvcs, p_value=1e-3)\n",
    "table_stat = Table(rows=KStable_identical)\n",
    "table_stat"
   ]
  },
  {
   "cell_type": "code",
   "execution_count": null,
   "metadata": {},
   "outputs": [],
   "source": []
  }
 ],
 "metadata": {
  "kernelspec": {
   "display_name": "base",
   "language": "python",
   "name": "python3"
  },
  "language_info": {
   "codemirror_mode": {
    "name": "ipython",
    "version": 3
   },
   "file_extension": ".py",
   "mimetype": "text/x-python",
   "name": "python",
   "nbconvert_exporter": "python",
   "pygments_lexer": "ipython3",
   "version": "3.11.3"
  }
 },
 "nbformat": 4,
 "nbformat_minor": 2
}
